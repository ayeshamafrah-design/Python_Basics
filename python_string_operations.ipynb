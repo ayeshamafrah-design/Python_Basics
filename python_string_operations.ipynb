{
 "cells": [
  {
   "cell_type": "code",
   "execution_count": 50,
   "id": "e3ccf895-c9fb-4ad5-97e0-80c448fe1a10",
   "metadata": {},
   "outputs": [
    {
     "name": "stdout",
     "output_type": "stream",
     "text": [
      "Words greater than length 3 : ['quick', 'brown', 'jumps', 'over', 'lazy']\n"
     ]
    }
   ],
   "source": [
    "### 1. Write a Python program to find words which are greater than given length k?\n",
    "def words_greater_than_k(string, k):\n",
    "    words = string.split()\n",
    "    return [word for word in words if len(word) > k]\n",
    "\n",
    "my_string = \"The quick brown fox jumps over the lazy dog\"\n",
    "k = 3\n",
    "print(\"Words greater than length\", k, \":\", words_greater_than_k(my_string, k))\n"
   ]
  },
  {
   "cell_type": "code",
   "execution_count": 51,
   "id": "2980eb81-9e83-43ed-8434-825c82d637e5",
   "metadata": {},
   "outputs": [
    {
     "name": "stdout",
     "output_type": "stream",
     "text": [
      "String after removing character at index 2 : Helo\n"
     ]
    }
   ],
   "source": [
    "## 2. Write a Python program for removing i-th character from a string?\n",
    "def remove_ith_char(string, i):\n",
    "    return string[:i] + string[i+1:]\n",
    "\n",
    "my_string = \"Hello\"\n",
    "i = 2\n",
    "print(\"String after removing character at index\", i, \":\", remove_ith_char(my_string, i))\n"
   ]
  },
  {
   "cell_type": "code",
   "execution_count": 52,
   "id": "3e21b503-55eb-4bb6-b330-371394227874",
   "metadata": {},
   "outputs": [
    {
     "name": "stdout",
     "output_type": "stream",
     "text": [
      "Split and join string: Hello world\n"
     ]
    }
   ],
   "source": [
    "## 3. Write a Python program to split and join a string?\n",
    "def split_and_join(string):\n",
    "    words = string.split()\n",
    "    return \" \".join(words)\n",
    "\n",
    "my_string = \"Hello world\"\n",
    "print(\"Split and join string:\", split_and_join(my_string))\n"
   ]
  },
  {
   "cell_type": "code",
   "execution_count": 53,
   "id": "3136e3ce-05b1-4c2b-afce-885d3f479926",
   "metadata": {},
   "outputs": [
    {
     "name": "stdout",
     "output_type": "stream",
     "text": [
      "Is binary string: True\n"
     ]
    }
   ],
   "source": [
    "## 4. Write a Python to check if a given string is binary string or not?\n",
    "def is_binary(string):\n",
    "    return all(char in '01' for char in string)\n",
    "\n",
    "my_string = \"101010\"\n",
    "print(\"Is binary string:\", is_binary(my_string))\n"
   ]
  },
  {
   "cell_type": "code",
   "execution_count": 54,
   "id": "40b5332a-25c3-431d-a95f-9832737812a9",
   "metadata": {},
   "outputs": [
    {
     "name": "stdout",
     "output_type": "stream",
     "text": [
      "Uncommon words: ['there', 'world']\n"
     ]
    }
   ],
   "source": [
    "## 5. Write a Python program to find uncommon words from two Strings?\n",
    "def uncommon_words(string1, string2):\n",
    "    words1 = set(string1.split())\n",
    "    words2 = set(string2.split())\n",
    "    return list(words1.symmetric_difference(words2))\n",
    "\n",
    "string1 = \"Hello world\"\n",
    "string2 = \"Hello there\"\n",
    "print(\"Uncommon words:\", uncommon_words(string1, string2))\n"
   ]
  },
  {
   "cell_type": "code",
   "execution_count": 55,
   "id": "655e96ae-1ecf-480d-85e0-ebfc41853119",
   "metadata": {},
   "outputs": [
    {
     "name": "stdout",
     "output_type": "stream",
     "text": [
      "Duplicate characters: ['m', 'g', 'r']\n"
     ]
    }
   ],
   "source": [
    "## 6. Write a Python to find all duplicate characters in string?\n",
    "def duplicate_characters(string):\n",
    "    seen = set()\n",
    "    duplicates = set()\n",
    "    for char in string:\n",
    "        if char in seen:\n",
    "            duplicates.add(char)\n",
    "        else:\n",
    "            seen.add(char)\n",
    "    return list(duplicates)\n",
    "\n",
    "my_string = \"programming\"\n",
    "print(\"Duplicate characters:\", duplicate_characters(my_string))\n"
   ]
  },
  {
   "cell_type": "code",
   "execution_count": 56,
   "id": "907c6a7e-e71e-4f47-957b-512d302a7a2e",
   "metadata": {},
   "outputs": [
    {
     "name": "stdout",
     "output_type": "stream",
     "text": [
      "Contains special character: True\n"
     ]
    }
   ],
   "source": [
    "##7. Write a Python Program to check if a string contains any special character?\n",
    "import re\n",
    "def contains_special_char(string):\n",
    "    return bool(re.search(r'[^a-zA-Z0-9]', string))\n",
    "\n",
    "my_string = \"Hello@World\"\n",
    "print(\"Contains special character:\", contains_special_char(my_string))"
   ]
  },
  {
   "cell_type": "code",
   "execution_count": null,
   "id": "72f8f747-9dd4-4716-bddd-1eb4fb9e99d0",
   "metadata": {},
   "outputs": [],
   "source": []
  }
 ],
 "metadata": {
  "kernelspec": {
   "display_name": "Python 3 (ipykernel)",
   "language": "python",
   "name": "python3"
  },
  "language_info": {
   "codemirror_mode": {
    "name": "ipython",
    "version": 3
   },
   "file_extension": ".py",
   "mimetype": "text/x-python",
   "name": "python",
   "nbconvert_exporter": "python",
   "pygments_lexer": "ipython3",
   "version": "3.11.5"
  }
 },
 "nbformat": 4,
 "nbformat_minor": 5
}
