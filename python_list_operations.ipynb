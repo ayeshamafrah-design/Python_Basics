{
 "cells": [
  {
   "cell_type": "code",
   "execution_count": 36,
   "id": "eb899b50-55ae-4512-8893-2ce607083938",
   "metadata": {},
   "outputs": [
    {
     "name": "stdout",
     "output_type": "stream",
     "text": [
      "Sum of elements: 10\n"
     ]
    }
   ],
   "source": [
    "### 1. Write a Python program to find sum of elements in list?\n",
    "def sum_of_elements(lst):\n",
    "    return sum(lst)\n",
    "    \n",
    "my_list = [1, 2, 3, 4]\n",
    "print(\"Sum of elements:\", sum_of_elements(my_list))\n"
   ]
  },
  {
   "cell_type": "code",
   "execution_count": 38,
   "id": "7e94c82d-64aa-4939-8627-5c72f477aa08",
   "metadata": {},
   "outputs": [
    {
     "name": "stdout",
     "output_type": "stream",
     "text": [
      "Product of elements: 24\n"
     ]
    }
   ],
   "source": [
    "## 2. Write a Python program to Multiply all numbers in the list?\n",
    "def multiply_elements(lst):\n",
    "    result = 1\n",
    "    for num in lst:\n",
    "        result *= num\n",
    "    return result\n",
    "\n",
    "my_list = [1, 2, 3, 4]\n",
    "print(\"Product of elements:\", multiply_elements(my_list))\n"
   ]
  },
  {
   "cell_type": "code",
   "execution_count": 39,
   "id": "08b0677d-3f32-4976-85ea-aa26e92bf32b",
   "metadata": {},
   "outputs": [
    {
     "name": "stdout",
     "output_type": "stream",
     "text": [
      "Smallest number: 1\n"
     ]
    }
   ],
   "source": [
    "## 3. Write a Python program to find smallest number in a list?\n",
    "def smallest_number(lst):\n",
    "    return min(lst)\n",
    "\n",
    "my_list = [1, 2, 3, 4]\n",
    "print(\"Smallest number:\", smallest_number(my_list))\n"
   ]
  },
  {
   "cell_type": "code",
   "execution_count": 40,
   "id": "3c196bd1-e68f-48e7-8c74-e381ceb14c3d",
   "metadata": {},
   "outputs": [
    {
     "name": "stdout",
     "output_type": "stream",
     "text": [
      "Largest number: 4\n"
     ]
    }
   ],
   "source": [
    "## 4. Write a Python program to find largest number in a list?\n",
    "def largest_number(lst):\n",
    "    return max(lst)\n",
    "\n",
    "my_list = [1, 2, 3, 4]\n",
    "print(\"Largest number:\", largest_number(my_list))\n"
   ]
  },
  {
   "cell_type": "code",
   "execution_count": 42,
   "id": "7bc9955b-7862-4ce3-8a32-1f1dc83969db",
   "metadata": {},
   "outputs": [
    {
     "name": "stdout",
     "output_type": "stream",
     "text": [
      "Second largest number: 4\n"
     ]
    }
   ],
   "source": [
    "## 5. Write a Python program to find second largest number in a list?\n",
    "def second_largest(lst):\n",
    "    unique_lst = list(set(lst))\n",
    "    unique_lst.remove(max(unique_lst))\n",
    "    return max(unique_lst)\n",
    "\n",
    "my_list = [1, 2, 3, 4, 5]\n",
    "print(\"Second largest number:\", second_largest(my_list))"
   ]
  },
  {
   "cell_type": "code",
   "execution_count": 43,
   "id": "13e4f6c1-22f0-4534-b988-2e92a3b944bf",
   "metadata": {},
   "outputs": [
    {
     "name": "stdout",
     "output_type": "stream",
     "text": [
      "3 largest elements: [5, 4, 3]\n"
     ]
    }
   ],
   "source": [
    "## 6. Write a Python program to find N largest elements from a list?\n",
    "import heapq\n",
    "def n_largest_elements(lst, N):\n",
    "    return heapq.nlargest(N, lst)\n",
    "\n",
    "my_list = [1, 2, 3, 4, 5]\n",
    "N = 3\n",
    "print(f\"{N} largest elements:\", n_largest_elements(my_list, N))\n"
   ]
  },
  {
   "cell_type": "code",
   "execution_count": 44,
   "id": "7452a285-e43a-4d8f-aadf-5539811aa165",
   "metadata": {},
   "outputs": [
    {
     "name": "stdout",
     "output_type": "stream",
     "text": [
      "Even numbers: [2, 4, 6]\n"
     ]
    }
   ],
   "source": [
    "##7. Write a Python program to print even numbers in a list?\n",
    "def even_numbers(lst):\n",
    "    return [num for num in lst if num % 2 == 0]\n",
    "\n",
    "my_list = [1, 2, 3, 4, 5, 6]\n",
    "print(\"Even numbers:\", even_numbers(my_list))\n"
   ]
  },
  {
   "cell_type": "code",
   "execution_count": 45,
   "id": "ee1de387-0d1d-421a-83bd-f4d4589164f3",
   "metadata": {},
   "outputs": [
    {
     "name": "stdout",
     "output_type": "stream",
     "text": [
      "Odd numbers: [1, 3, 5]\n"
     ]
    }
   ],
   "source": [
    "## 8. Write a Python program to print odd numbers in a List?\n",
    "def odd_numbers(lst):\n",
    "    return [num for num in lst if num % 2 != 0]\n",
    "\n",
    "my_list = [1, 2, 3, 4, 5, 6]\n",
    "print(\"Odd numbers:\", odd_numbers(my_list))\n"
   ]
  },
  {
   "cell_type": "code",
   "execution_count": 46,
   "id": "a76da6b8-48bb-4298-a0db-ed16ff44495d",
   "metadata": {},
   "outputs": [
    {
     "name": "stdout",
     "output_type": "stream",
     "text": [
      "List without empty lists: [[1, 2], [3, 4]]\n"
     ]
    }
   ],
   "source": [
    "## 9. Write a Python program to Remove empty List from List?\n",
    "def remove_empty_lists(lst):\n",
    "    return [item for item in lst if item]\n",
    "\n",
    "my_list = [[], [1, 2], [], [3, 4]]\n",
    "print(\"List without empty lists:\", remove_empty_lists(my_list))\n"
   ]
  },
  {
   "cell_type": "code",
   "execution_count": 48,
   "id": "0602f084-c9d1-40bf-a0c0-d3b216fb869f",
   "metadata": {},
   "outputs": [
    {
     "name": "stdout",
     "output_type": "stream",
     "text": [
      "Cloned list: [1, 2, 3]\n"
     ]
    }
   ],
   "source": [
    "## 10. Write a Python program to Cloning or Copying a list?\n",
    "def clone_list(lst):\n",
    "    return lst.copy()\n",
    "\n",
    "my_list = [1, 2, 3]\n",
    "cloned_list = clone_list(my_list)\n",
    "print(\"Cloned list:\", cloned_list)"
   ]
  },
  {
   "cell_type": "code",
   "execution_count": 49,
   "id": "20aa8592-0115-4aa8-8066-a80ec7423d89",
   "metadata": {},
   "outputs": [
    {
     "name": "stdout",
     "output_type": "stream",
     "text": [
      "Occurrences of 2: 3\n"
     ]
    }
   ],
   "source": [
    "## 11. Write a Python program to Count occurrences of an element in a list?\n",
    "def count_occurrences(lst, element):\n",
    "    return lst.count(element)\n",
    "\n",
    "my_list = [1, 2, 2, 3, 2]\n",
    "print(\"Occurrences of 2:\", count_occurrences(my_list, 2))\n"
   ]
  }
 ],
 "metadata": {
  "kernelspec": {
   "display_name": "Python 3 (ipykernel)",
   "language": "python",
   "name": "python3"
  },
  "language_info": {
   "codemirror_mode": {
    "name": "ipython",
    "version": 3
   },
   "file_extension": ".py",
   "mimetype": "text/x-python",
   "name": "python",
   "nbconvert_exporter": "python",
   "pygments_lexer": "ipython3",
   "version": "3.11.5"
  }
 },
 "nbformat": 4,
 "nbformat_minor": 5
}
