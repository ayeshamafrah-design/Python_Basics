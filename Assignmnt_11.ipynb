{
 "cells": [
  {
   "cell_type": "markdown",
   "id": "35237438",
   "metadata": {},
   "source": [
    "### 1.Question:\n",
    "\n",
    "Create an assert statement that throws an AssertionError if the variable `spam` is a negative integer.\n",
    "\n",
    "### Answer:\n"
   ]
  },
  {
   "cell_type": "code",
   "execution_count": 9,
   "id": "e36dedfd",
   "metadata": {},
   "outputs": [
    {
     "ename": "AssertionError",
     "evalue": "spam should be a non-negative integer",
     "output_type": "error",
     "traceback": [
      "\u001b[1;31m---------------------------------------------------------------------------\u001b[0m",
      "\u001b[1;31mAssertionError\u001b[0m                            Traceback (most recent call last)",
      "\u001b[1;32m~\\AppData\\Local\\Temp\\ipykernel_14776\\2530335023.py\u001b[0m in \u001b[0;36m<module>\u001b[1;34m\u001b[0m\n\u001b[0;32m      1\u001b[0m \u001b[0mspam\u001b[0m \u001b[1;33m=\u001b[0m \u001b[1;33m-\u001b[0m\u001b[1;36m1\u001b[0m\u001b[1;33m\u001b[0m\u001b[1;33m\u001b[0m\u001b[0m\n\u001b[1;32m----> 2\u001b[1;33m \u001b[1;32massert\u001b[0m \u001b[0mspam\u001b[0m \u001b[1;33m>=\u001b[0m \u001b[1;36m0\u001b[0m\u001b[1;33m,\u001b[0m \u001b[1;34m\"spam should be a non-negative integer\"\u001b[0m\u001b[1;33m\u001b[0m\u001b[1;33m\u001b[0m\u001b[0m\n\u001b[0m",
      "\u001b[1;31mAssertionError\u001b[0m: spam should be a non-negative integer"
     ]
    }
   ],
   "source": [
    "spam = -1\n",
    "assert spam >= 0, \"spam should be a non-negative integer\"\n"
   ]
  },
  {
   "cell_type": "code",
   "execution_count": 13,
   "id": "068e7a40",
   "metadata": {},
   "outputs": [],
   "source": [
    "spam = 21\n",
    "assert spam >= 0, \"spam should be a non-negative integer\""
   ]
  },
  {
   "cell_type": "markdown",
   "id": "c0a897bc",
   "metadata": {},
   "source": [
    "### 2.Question:\n",
    "\n",
    "Write an assert statement that triggers an AssertionError if the variables `eggs` and `bacon` contain strings that are the same as each other, even if their cases are different (that is, 'hello' and 'hello' are considered the same, and 'goodbye' and 'GOODbye' are also considered the same).\n",
    "\n",
    "### Answer:"
   ]
  },
  {
   "cell_type": "code",
   "execution_count": 11,
   "id": "315fc184",
   "metadata": {},
   "outputs": [
    {
     "ename": "AssertionError",
     "evalue": "eggs and bacon should not be the same, even with different cases",
     "output_type": "error",
     "traceback": [
      "\u001b[1;31m---------------------------------------------------------------------------\u001b[0m",
      "\u001b[1;31mAssertionError\u001b[0m                            Traceback (most recent call last)",
      "\u001b[1;32m~\\AppData\\Local\\Temp\\ipykernel_14776\\3243360152.py\u001b[0m in \u001b[0;36m<module>\u001b[1;34m\u001b[0m\n\u001b[0;32m      2\u001b[0m \u001b[0mbacon\u001b[0m \u001b[1;33m=\u001b[0m \u001b[1;34m\"HELLO\"\u001b[0m\u001b[1;33m\u001b[0m\u001b[1;33m\u001b[0m\u001b[0m\n\u001b[0;32m      3\u001b[0m \u001b[1;33m\u001b[0m\u001b[0m\n\u001b[1;32m----> 4\u001b[1;33m \u001b[1;32massert\u001b[0m \u001b[0meggs\u001b[0m\u001b[1;33m.\u001b[0m\u001b[0mlower\u001b[0m\u001b[1;33m(\u001b[0m\u001b[1;33m)\u001b[0m \u001b[1;33m!=\u001b[0m \u001b[0mbacon\u001b[0m\u001b[1;33m.\u001b[0m\u001b[0mlower\u001b[0m\u001b[1;33m(\u001b[0m\u001b[1;33m)\u001b[0m\u001b[1;33m,\u001b[0m \u001b[1;34m\"eggs and bacon should not be the same, even with different cases\"\u001b[0m\u001b[1;33m\u001b[0m\u001b[1;33m\u001b[0m\u001b[0m\n\u001b[0m",
      "\u001b[1;31mAssertionError\u001b[0m: eggs and bacon should not be the same, even with different cases"
     ]
    }
   ],
   "source": [
    "eggs = \"hello\"\n",
    "bacon = \"HELLO\"\n",
    "\n",
    "assert eggs.lower() != bacon.lower(), \"eggs and bacon should not be the same, even with different cases\""
   ]
  },
  {
   "cell_type": "code",
   "execution_count": 12,
   "id": "94d8e003",
   "metadata": {},
   "outputs": [],
   "source": [
    "eggs = \"hello\"\n",
    "bacon = \"goodbye\"\n",
    "\n",
    "assert eggs.lower() != bacon.lower(), \"eggs and bacon should not be the same, even with different cases\""
   ]
  },
  {
   "cell_type": "markdown",
   "id": "d1e81fb8",
   "metadata": {},
   "source": [
    "### 3.Question:\n",
    "\n",
    "Create an assert statement that throws an AssertionError every time.\n",
    "\n",
    "### Answer:\n"
   ]
  },
  {
   "cell_type": "code",
   "execution_count": 14,
   "id": "9c9b6aba",
   "metadata": {},
   "outputs": [
    {
     "ename": "AssertionError",
     "evalue": "This assert statement always triggers an AssertionError",
     "output_type": "error",
     "traceback": [
      "\u001b[1;31m---------------------------------------------------------------------------\u001b[0m",
      "\u001b[1;31mAssertionError\u001b[0m                            Traceback (most recent call last)",
      "\u001b[1;32m~\\AppData\\Local\\Temp\\ipykernel_14776\\1859875300.py\u001b[0m in \u001b[0;36m<module>\u001b[1;34m\u001b[0m\n\u001b[1;32m----> 1\u001b[1;33m \u001b[1;32massert\u001b[0m \u001b[1;32mFalse\u001b[0m\u001b[1;33m,\u001b[0m \u001b[1;34m\"This assert statement always triggers an AssertionError\"\u001b[0m\u001b[1;33m\u001b[0m\u001b[1;33m\u001b[0m\u001b[0m\n\u001b[0m",
      "\u001b[1;31mAssertionError\u001b[0m: This assert statement always triggers an AssertionError"
     ]
    }
   ],
   "source": [
    "assert False, \"This assert statement always triggers an AssertionError\""
   ]
  },
  {
   "cell_type": "markdown",
   "id": "1cbd7231",
   "metadata": {},
   "source": [
    "### 4. Question:\n",
    "\n",
    "What are the two lines that must be present in your software in order to call `logging.debug()`?\n",
    "\n",
    "### Answer:\n",
    "\n",
    "1. Import the logging module:\n",
    "   ```python\n",
    "   import logging\n",
    "    ```\n",
    "2. Configure the logging module to set the logging level to `DEBUG` or lower (Example: `INFO`, `WARNING`, `ERROR`, `CRITICAL`):\n",
    "```python\n",
    "logging.basicConfig(level=logging.DEBUG)\n",
    "```\n",
    "\n",
    "With these two lines present, you can then call logging.debug() to log messages at the DEBUG level."
   ]
  },
  {
   "cell_type": "markdown",
   "id": "b149880a",
   "metadata": {},
   "source": [
    "### 5.Question:\n",
    "\n",
    "What are the two lines that your program must have in order to have `logging.debug()` send a logging message to a file named `programLog.txt`?\n",
    "\n",
    "### Answer:\n",
    "\n",
    "1. Import the logging module:\n",
    "   ```python\n",
    "   import logging\n",
    "    ```\n",
    "2. Configure the logging module to set the logging level to `DEBUG` or lower (Example: `INFO`, `WARNING`, `ERROR`, `CRITICAL`), and specify the file name (`programLog.txt`) for logging:  \n",
    "\n",
    " ```python\n",
    "logging.basicConfig(filename='programLog.txt', level=logging.DEBUG)\n",
    "\n",
    " ```\n",
    "With these two lines present, you can then call `logging.debug()` to log messages at the `DEBUG` level, and they will be written to the `programLog.txt` file.\n",
    "    \n"
   ]
  },
  {
   "cell_type": "markdown",
   "id": "be7ddd06",
   "metadata": {},
   "source": [
    "### 6.Question:\n",
    "\n",
    "What are the five levels of logging?\n",
    "\n",
    "### Answer:\n",
    "\n",
    "The five levels of logging, in increasing order of severity, are:\n",
    "\n",
    "1. `DEBUG`: Detailed information for debugging purposes.\n",
    "2. `INFO`: Informational messages that confirm things are working as expected.\n",
    "3. `WARNING`: Indicates something unexpected happened, but the software can still function.\n",
    "4. `ERROR`: Indicates a more serious problem that prevented a function from completing.\n",
    "5. `CRITICAL`: Indicates a critical error that has caused or will cause the program to stop abruptly.\n"
   ]
  },
  {
   "cell_type": "markdown",
   "id": "de5e370d",
   "metadata": {},
   "source": [
    "### 7.Question:\n",
    "\n",
    "What line of code would you add to your software to disable all logging messages?\n",
    "\n",
    "### Answer:\n",
    "\n",
    "To disable all logging messages, we should add the following line of code:\n",
    "\n",
    "```python\n",
    "logging.disable(logging.CRITICAL)\n",
    "```\n",
    "\n",
    "This line sets the logging level to CRITICAL, which effectively disables all logging messages of lower severity levels (DEBUG, INFO, WARNING, ERROR). Any logging calls below the CRITICAL level will have no effect.\n"
   ]
  },
  {
   "cell_type": "markdown",
   "id": "e7f05257",
   "metadata": {},
   "source": [
    "### 8.Question:\n",
    "\n",
    "Why is using logging messages better than using `print()` to display the same message?\n",
    "\n",
    "### Answer:\n",
    "\n",
    "Using logging messages is better than using `print()` for several reasons:\n",
    "\n",
    "1. **Granular Control**: Logging allows you to set different levels of messages (`DEBUG`, `INFO`, `WARNING`, `ERROR`, `CRITICAL`), which allows you to control the amount of detail you see in your logs. This is especially useful in debugging and troubleshooting.\n",
    "\n",
    "2. **Output Destination**: Logging messages can be directed to different destinations such as a file, console, or even a remote server, making it more versatile than `print()`.\n",
    "\n",
    "3. **Formatting**: Logging allows you to format your log messages in a structured way, making them easier to read and parse by automated tools.\n",
    "\n",
    "4. **Performance**: Logging is generally more efficient than `print()` for large volumes of output, as it is designed to handle logging in a more optimized manner.\n",
    "\n",
    "5. **Severity Levels**: Logging allows you to differentiate between different severity levels of messages, which can help you prioritize and address issues more effectively.\n"
   ]
  },
  {
   "cell_type": "markdown",
   "id": "f650ef2b",
   "metadata": {},
   "source": [
    "### 9.Question:\n",
    "\n",
    "What are the differences between the Step Over, Step In, and Step Out buttons in the debugger?\n",
    "\n",
    "### Answer:\n",
    "\n",
    "1. **Step Over**: When you click the Step Over button, the debugger will execute the current line of code and then move to the next line in the current function. If the current line contains a function call, the debugger will not enter the function but will instead move to the next line after the function call in the current function.\n",
    "\n",
    "2. **Step In**: Clicking the Step In button will cause the debugger to move into the function call on the current line. If the current line does not contain a function call, Step In will behave the same as Step Over.\n",
    "\n",
    "3. **Step Out**: Step Out is used when you are currently inside a function and want to execute the rest of the function without stepping through it line by line. Clicking Step Out will cause the debugger to execute the remaining lines of the current function and then stop at the line immediately after the function call that led to the current function.\n"
   ]
  },
  {
   "cell_type": "markdown",
   "id": "47eb47aa",
   "metadata": {},
   "source": [
    "### 10.Question:\n",
    "\n",
    "After you click Continue, when will the debugger stop?\n",
    "\n",
    "### Answer:\n",
    "\n",
    "After you click Continue, the debugger will stop when one of the following conditions is met:\n",
    "\n",
    "1. A breakpoint is encountered: If you have set breakpoints in your code, the debugger will stop when it reaches a line with a breakpoint set.\n",
    "\n",
    "2. An exception is raised: If an exception is raised during the execution of your code and it is not caught, the debugger will stop at the line where the exception occurred.\n",
    "\n",
    "3. The program completes execution: If your program reaches the end of its execution without encountering a breakpoint or an uncaught exception, the debugger will stop.\n"
   ]
  },
  {
   "cell_type": "markdown",
   "id": "669dc326",
   "metadata": {},
   "source": [
    "### 11.Question:\n",
    "\n",
    "What is the concept of a breakpoint?\n",
    "\n",
    "### Answer:\n",
    "\n",
    "A breakpoint is a marker set in source code that tells the debugger to temporarily pause program execution at that point. When the debugger encounters a breakpoint during execution, it stops the program and allows you to inspect the state of the program, such as the values of variables, the call stack, and the current line of execution. Breakpoints are useful for debugging because they allow you to control the flow of your program and examine its behavior at specific points.\n"
   ]
  }
 ],
 "metadata": {
  "kernelspec": {
   "display_name": "Python 3 (ipykernel)",
   "language": "python",
   "name": "python3"
  },
  "language_info": {
   "codemirror_mode": {
    "name": "ipython",
    "version": 3
   },
   "file_extension": ".py",
   "mimetype": "text/x-python",
   "name": "python",
   "nbconvert_exporter": "python",
   "pygments_lexer": "ipython3",
   "version": "3.9.13"
  }
 },
 "nbformat": 4,
 "nbformat_minor": 5
}
