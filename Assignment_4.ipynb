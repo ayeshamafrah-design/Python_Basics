{
 "cells": [
  {
   "cell_type": "markdown",
   "id": "fe112ca0",
   "metadata": {},
   "source": [
    "## 1.Question\n",
    "\n",
    "What exactly is `[]`?\n",
    "\n",
    "## Answer\n",
    "\n",
    "In Python, `[]` represents an empty list.\n",
    "\n",
    "- **Empty List:**\n",
    "  - A list is a collection of items, enclosed within square brackets `[]`, separated by commas. An empty list, denoted by `[]`, contains no elements.\n",
    "  - Example:\n",
    "    ```python\n",
    "    empty_list = []\n",
    "    print(empty_list)\n",
    "    ```\n"
   ]
  },
  {
   "cell_type": "code",
   "execution_count": 1,
   "id": "ac8968e2",
   "metadata": {},
   "outputs": [
    {
     "name": "stdout",
     "output_type": "stream",
     "text": [
      "[]\n"
     ]
    }
   ],
   "source": [
    "empty_list = []\n",
    "print(empty_list)"
   ]
  },
  {
   "cell_type": "markdown",
   "id": "6cc4f2e8",
   "metadata": {},
   "source": [
    "## 2.Question\n",
    "\n",
    "In a list of values stored in a variable called `spam`, how would you assign the value `'hello'` as the third value? (Assume `[2, 4, 6, 8, 10]` are in `spam`.)\n",
    "\n",
    "## Answer\n",
    "\n",
    "To assign the value `'hello'` as the third value in a list stored in a variable called `spam`, you can use list indexing and assignment.\n",
    "\n"
   ]
  },
  {
   "cell_type": "code",
   "execution_count": 2,
   "id": "6296e164",
   "metadata": {},
   "outputs": [
    {
     "name": "stdout",
     "output_type": "stream",
     "text": [
      "[2, 4, 'hello', 8, 10]\n"
     ]
    }
   ],
   "source": [
    "spam = [2, 4, 6, 8, 10]\n",
    "\n",
    "# Assign 'hello' as the third value \n",
    "spam[2] = 'hello'\n",
    "\n",
    "print(spam)"
   ]
  },
  {
   "cell_type": "markdown",
   "id": "9ddefed5",
   "metadata": {},
   "source": [
    "## 3.Question \n",
    "\n",
    "Let's pretend the spam includes the list `['a','b','c','d']` for the next three queries.\n",
    "\n",
    "What is the value of `spam[int(int('3' * 2) / 11)]`?\n",
    "\n",
    "## Answer \n"
   ]
  },
  {
   "cell_type": "code",
   "execution_count": 3,
   "id": "565ee7ca",
   "metadata": {},
   "outputs": [
    {
     "name": "stdout",
     "output_type": "stream",
     "text": [
      "d\n"
     ]
    }
   ],
   "source": [
    "spam = ['a', 'b', 'c', 'd']\n",
    "value = spam[int(int('3' * 2) / 11)]\n",
    "print(value)"
   ]
  },
  {
   "cell_type": "markdown",
   "id": "3eb4780f",
   "metadata": {},
   "source": [
    "# 4. Question\n",
    "\n",
    "What is the value of `spam[-1]`?\n",
    "\n",
    "## Answer "
   ]
  },
  {
   "cell_type": "code",
   "execution_count": 4,
   "id": "260dcf59",
   "metadata": {},
   "outputs": [
    {
     "name": "stdout",
     "output_type": "stream",
     "text": [
      "d\n"
     ]
    }
   ],
   "source": [
    "spam = ['a', 'b', 'c', 'd']\n",
    "value = spam[-1]\n",
    "print(value)  "
   ]
  },
  {
   "cell_type": "markdown",
   "id": "120df647",
   "metadata": {},
   "source": [
    "## 5. Question \n",
    "\n",
    "What is the value of `spam[:2]`?\n",
    "\n",
    "## Answer "
   ]
  },
  {
   "cell_type": "code",
   "execution_count": 5,
   "id": "98b0e819",
   "metadata": {},
   "outputs": [
    {
     "name": "stdout",
     "output_type": "stream",
     "text": [
      "['a', 'b']\n"
     ]
    }
   ],
   "source": [
    "spam = ['a', 'b', 'c', 'd']\n",
    "value = spam[:2]\n",
    "print(value) "
   ]
  },
  {
   "cell_type": "markdown",
   "id": "18a3bcd7",
   "metadata": {},
   "source": [
    "## 6.Question \n",
    "\n",
    "Let's pretend bacon has the list `[3.14, 'cat',11,'cat', True]` for the next three questions.\n",
    "\n",
    "What is the value of `bacon.index('cat')`?\n",
    "\n",
    "## Answer \n"
   ]
  },
  {
   "cell_type": "code",
   "execution_count": 6,
   "id": "2d5c6665",
   "metadata": {},
   "outputs": [
    {
     "name": "stdout",
     "output_type": "stream",
     "text": [
      "1\n"
     ]
    }
   ],
   "source": [
    "bacon = [3.14, 'cat', 11, 'cat', True]\n",
    "value = bacon.index('cat')\n",
    "print(value) "
   ]
  },
  {
   "cell_type": "markdown",
   "id": "7a7a7436",
   "metadata": {},
   "source": [
    "## 7.Question \n",
    "\n",
    "How does `bacon.append(99)` change the look of the list value in bacon?\n",
    "\n",
    "## Answer"
   ]
  },
  {
   "cell_type": "code",
   "execution_count": 7,
   "id": "3985d96c",
   "metadata": {},
   "outputs": [
    {
     "name": "stdout",
     "output_type": "stream",
     "text": [
      "[3.14, 'cat', 11, 'cat', True, 99]\n"
     ]
    }
   ],
   "source": [
    "bacon = [3.14, 'cat', 11, 'cat', True]\n",
    "bacon.append(99)\n",
    "print(bacon)  "
   ]
  },
  {
   "cell_type": "markdown",
   "id": "961bae7c",
   "metadata": {},
   "source": [
    "## 8. Question\n",
    "\n",
    "How does `bacon.remove('cat')` change the look of the list in bacon?\n",
    "\n",
    "## Answer"
   ]
  },
  {
   "cell_type": "code",
   "execution_count": 8,
   "id": "92904a10",
   "metadata": {},
   "outputs": [
    {
     "name": "stdout",
     "output_type": "stream",
     "text": [
      "[3.14, 11, 'cat', True]\n"
     ]
    }
   ],
   "source": [
    "bacon = [3.14, 'cat', 11, 'cat', True]\n",
    "bacon.remove('cat')\n",
    "print(bacon)"
   ]
  },
  {
   "cell_type": "markdown",
   "id": "731c4f5b",
   "metadata": {},
   "source": [
    "## 9.Question\n",
    "\n",
    "What are the list concatenation and list replication operators?\n",
    "\n",
    "## Answer\n",
    "\n",
    "- **List Concatenation Operator (`+`):**\n",
    "  - The list concatenation operator `+` is used to combine two or more lists into a single list. It creates a new list containing all the elements of the operands in the order they appear.\n",
    "  - Example:"
   ]
  },
  {
   "cell_type": "code",
   "execution_count": 9,
   "id": "bcde6a50",
   "metadata": {},
   "outputs": [
    {
     "name": "stdout",
     "output_type": "stream",
     "text": [
      "[1, 2, 3, 4, 5, 6]\n"
     ]
    }
   ],
   "source": [
    "list1 = [1, 2, 3]\n",
    "list2 = [4, 5, 6]\n",
    "result = list1 + list2\n",
    "print(result)"
   ]
  },
  {
   "cell_type": "markdown",
   "id": "29e99197",
   "metadata": {},
   "source": [
    " **List Replication Operator (`*`):**\n",
    "  - The list replication operator `*` is used to create a new list by repeating the elements of a list a specified number of times.\n",
    "  - Example :"
   ]
  },
  {
   "cell_type": "code",
   "execution_count": 10,
   "id": "7cab9a04",
   "metadata": {},
   "outputs": [
    {
     "name": "stdout",
     "output_type": "stream",
     "text": [
      "[1, 2, 3, 1, 2, 3, 1, 2, 3]\n"
     ]
    }
   ],
   "source": [
    "list3 = [1, 2, 3]\n",
    "result = list3 * 3\n",
    "print(result) "
   ]
  },
  {
   "cell_type": "markdown",
   "id": "0ced78a0",
   "metadata": {},
   "source": [
    "## 10.Question\n",
    "\n",
    "What is the difference between the list methods `append()` and `insert()`?\n",
    "\n",
    "## Answer\n",
    "\n",
    "- **`append()` Method:**\n",
    "  - The `append()` method is used to add a single element to the end of a list. It modifies the original list by adding the new element at the end.\n",
    "  \n",
    "  - Example:"
   ]
  },
  {
   "cell_type": "code",
   "execution_count": 3,
   "id": "511d2798",
   "metadata": {},
   "outputs": [
    {
     "name": "stdout",
     "output_type": "stream",
     "text": [
      "[1, 2, 3, 4]\n"
     ]
    }
   ],
   "source": [
    "my_list = [1, 2, 3]\n",
    "my_list.append(4)\n",
    "print(my_list)"
   ]
  },
  {
   "cell_type": "markdown",
   "id": "6290d4bb",
   "metadata": {},
   "source": [
    "- **`insert()` Method:**\n",
    "  - The `insert()` method is used to add a single element at a specified position in a list. It modifies the original list by inserting the new element at the specified index, pushing the existing elements to the right.\n",
    "  - Example:"
   ]
  },
  {
   "cell_type": "code",
   "execution_count": 4,
   "id": "16e953ec",
   "metadata": {},
   "outputs": [
    {
     "name": "stdout",
     "output_type": "stream",
     "text": [
      "[1, 5, 2, 3]\n"
     ]
    }
   ],
   "source": [
    "my_list1 = [1, 2, 3]\n",
    "my_list1.insert(1, 5)  #insert 5 at index 1\n",
    "print(my_list1)"
   ]
  },
  {
   "cell_type": "markdown",
   "id": "1c56740b",
   "metadata": {},
   "source": [
    "## 11.Question\n",
    "\n",
    "What are the two methods for removing items from a list?\n",
    "\n",
    "## Answer\n",
    "\n",
    "- **`remove()` Method:**\n",
    "  - The `remove()` method is used to remove the first occurrence of a specified value from a list. It modifies the original list by removing the specified value.\n",
    "  - Example:\n"
   ]
  },
  {
   "cell_type": "code",
   "execution_count": 5,
   "id": "7f611f08",
   "metadata": {},
   "outputs": [
    {
     "name": "stdout",
     "output_type": "stream",
     "text": [
      "[1, 3, 2]\n"
     ]
    }
   ],
   "source": [
    "my_list = [1, 2, 3, 2]\n",
    "my_list.remove(2)  # Remove the first occurrence of 2\n",
    "print(my_list) "
   ]
  },
  {
   "cell_type": "markdown",
   "id": "8e2c620f",
   "metadata": {},
   "source": [
    "- **`pop()` Method:**\n",
    "  - The `pop()` method is used to remove and return an element from a specific index in a list. If no index is specified, it removes and returns the last element in the list.\n",
    "  - Example:"
   ]
  },
  {
   "cell_type": "code",
   "execution_count": 6,
   "id": "8832875b",
   "metadata": {},
   "outputs": [
    {
     "name": "stdout",
     "output_type": "stream",
     "text": [
      "[1, 3]\n",
      "2\n"
     ]
    }
   ],
   "source": [
    "my_list = [1, 2, 3]\n",
    "popped_element = my_list.pop(1)  # Remove and return element at index 1\n",
    "print(my_list)\n",
    "print(popped_element)"
   ]
  },
  {
   "cell_type": "markdown",
   "id": "0be58d30",
   "metadata": {},
   "source": [
    "## 12.Question\n",
    "\n",
    "Describe how list values and string values are identical.\n",
    "\n",
    "## Answer\n",
    "\n",
    "List values and string values in Python share several similarities:\n",
    "\n",
    "1. **Sequential Access:** Both lists and strings allow sequential access to their elements. You can access individual elements in a list or string using indexing (e.g., `my_list[0]` or `my_string[1]`).\n",
    "\n",
    "2. **Immutable Elements:** While the list itself is mutable (meaning you can change its elements), the individual elements in a list are often immutable, similar to string characters. For example, you cannot change a character in a string directly (`my_string[0] = 'a'`), just like you cannot change an element in a tuple (`my_tuple[0] = 1`).\n",
    "\n",
    "3. **Length Function:** Both lists and strings have a `len()` function that returns the number of elements (characters for strings) in the object (`len(my_list)` or `len(my_string)`).\n",
    "\n",
    "4. **Slicing:** Both lists and strings support slicing, allowing you to extract sublists or substrings using the syntax `start:stop:step`.\n",
    "\n",
    "5. **Concatenation and Replication:** Both lists and strings support concatenation using the `+` operator and replication using the `*` operator.\n",
    "\n",
    "6. **Iteration:** You can iterate over both lists and strings using loops (e.g., `for item in my_list` or `for char in my_string`).\n",
    "\n",
    "These similarities make it convenient to work with both lists and strings using similar concepts and operations in Python.\n"
   ]
  },
  {
   "cell_type": "markdown",
   "id": "e8a97f9b",
   "metadata": {},
   "source": [
    "## 13. Question\n",
    "\n",
    "What's the difference between tuples and lists?\n",
    "\n",
    "## Answer\n",
    "\n",
    "Tuples and lists are both used to store collections of items in Python, but they have some key differences:\n",
    "\n",
    "1. **Mutability:**\n",
    "   - **Lists:** Lists are mutable, which means you can change the elements of a list after it has been created. You can add, remove, or modify elements in a list.\n",
    "   - **Tuples:** Tuples are immutable, which means once a tuple is created, you cannot change its contents. You cannot add, remove, or modify elements in a tuple.\n",
    "\n",
    "2. **Syntax:**\n",
    "   - **Lists:** Lists are created using square brackets `[]`, and elements are separated by commas. Example: `[1, 2, 3]`\n",
    "   - **Tuples:** Tuples are created using parentheses `()`, and elements are separated by commas. Example: `(1, 2, 3)`\n",
    "\n",
    "3. **Usage:**\n",
    "   - **Lists:** Lists are used for collections of items where the order and the elements may change. They are suitable for situations where you need a collection that can be modified.\n",
    "   - **Tuples:** Tuples are used for collections of items that should not be changed, such as coordinates or records in a database. They are often used as keys in dictionaries or as elements in sets.\n",
    "\n",
    "4. **Performance:**\n",
    "   - **Lists:** Lists are slightly slower than tuples in terms of performance because of their mutability. Operations that modify lists require more overhead.\n",
    "   - **Tuples:** Tuples are faster than lists for accessing elements because they are immutable. Once a tuple is created, its elements are fixed.\n",
    "\n",
    "So , use lists when you need a collection that can change, and use tuples when you need an immutable collection.\n"
   ]
  },
  {
   "cell_type": "markdown",
   "id": "420b779f",
   "metadata": {},
   "source": [
    "## 14.Question\n",
    "\n",
    "How do you type a tuple value that only contains the integer `42`?\n",
    "\n",
    "## Answer\n",
    "\n",
    "To create a tuple containing only the integer `42`, you can use the following syntax:\n",
    "\n",
    "```python\n",
    "my_tuple = (42,)\n",
    "print(my_tuple)\n",
    "```\n",
    "\n",
    "Without the comma, Python would interpret `(42)` as an integer surrounded by parentheses, which is not a tuple. Adding the comma makes it clear that `(42,)` is a tuple with one element, the integer `42`.\n"
   ]
  },
  {
   "cell_type": "code",
   "execution_count": 11,
   "id": "d47b014d",
   "metadata": {},
   "outputs": [
    {
     "name": "stdout",
     "output_type": "stream",
     "text": [
      "(42,)\n"
     ]
    }
   ],
   "source": [
    "my_tuple = (42,)\n",
    "print(my_tuple)"
   ]
  },
  {
   "cell_type": "markdown",
   "id": "cd9758ca",
   "metadata": {},
   "source": [
    "## 15.Question\n",
    "\n",
    "How do you get a list value's tuple form? How do you get a tuple value's list form?\n",
    "\n",
    "## Answer\n",
    "\n",
    "To convert a list to a tuple, you can use the `tuple()` constructor. Similarly, to convert a tuple to a list, you can use the `list()` constructor. Here are examples:\n",
    "\n",
    "### Convert a List to a Tuple"
   ]
  },
  {
   "cell_type": "code",
   "execution_count": 13,
   "id": "862c697a",
   "metadata": {},
   "outputs": [
    {
     "name": "stdout",
     "output_type": "stream",
     "text": [
      "(1, 2, 3, 4, 5)\n"
     ]
    }
   ],
   "source": [
    "my_list = [1, 2, 3, 4, 5]\n",
    "my_tuple = tuple(my_list)\n",
    "print(my_tuple) "
   ]
  },
  {
   "cell_type": "markdown",
   "id": "663dc343",
   "metadata": {},
   "source": [
    "### Convert a Tuple to a List"
   ]
  },
  {
   "cell_type": "code",
   "execution_count": 14,
   "id": "57ded28c",
   "metadata": {},
   "outputs": [
    {
     "name": "stdout",
     "output_type": "stream",
     "text": [
      "[1, 2, 3, 4, 5]\n"
     ]
    }
   ],
   "source": [
    "my_tuple = (1, 2, 3, 4, 5)\n",
    "my_list = list(my_tuple)\n",
    "print(my_list) "
   ]
  },
  {
   "cell_type": "markdown",
   "id": "38c36044",
   "metadata": {},
   "source": [
    "## 16.Question\n",
    "\n",
    "Variables that \"contain\" list values are not necessarily lists themselves. Instead, what do they contain?\n",
    "\n",
    "## Answer\n",
    "\n",
    "Variables that \"contain\" list values in Python actually contain references to the list objects, not the lists themselves. This means that the variable stores the memory address (or reference) of the list in the computer's memory, rather than the actual list data.\n",
    "\n",
    "When you assign a list to a variable, you are creating a reference to that list. Multiple variables can reference the same list object, and changes made to the list through one variable will be reflected in the list when accessed through other variables that reference it.\n",
    "\n",
    "For example:"
   ]
  },
  {
   "cell_type": "code",
   "execution_count": 15,
   "id": "1a3baea7",
   "metadata": {},
   "outputs": [
    {
     "name": "stdout",
     "output_type": "stream",
     "text": [
      "[1, 2, 3, 4]\n"
     ]
    }
   ],
   "source": [
    "list1 = [1, 2, 3]\n",
    "list2 = list1  # Both list1 and list2 now reference the same list object\n",
    "\n",
    "# Modify the list through list1\n",
    "list1.append(4)\n",
    "\n",
    "# Access the modified list through list2\n",
    "print(list2) \n"
   ]
  },
  {
   "cell_type": "markdown",
   "id": "1ce56784",
   "metadata": {},
   "source": [
    "## 17.Question\n",
    "\n",
    "How do you distinguish between `copy.copy()` and `copy.deepcopy()`?\n",
    "\n",
    "## Answer\n",
    "\n",
    "`copy.copy()` and `copy.deepcopy()` are both functions in the `copy` module of Python, but they have different behaviors when it comes to copying objects:\n",
    "\n",
    "- **`copy.copy()` (Shallow Copy):**\n",
    "  - `copy.copy()` creates a new object and inserts references to the objects found in the original. It creates a shallow copy of the object, meaning that it duplicates only the top-level structure of the object, but the inner objects are shared between the original and the copy.\n",
    "  - Changes made to the inner objects in the copy will affect the original object, and vice versa.\n",
    "  - Example:\n",
    "    ```python\n",
    "    import copy\n",
    "    original_list = [[1, 2, 3], [4, 5, 6]]\n",
    "    shallow_copy = copy.copy(original_list)\n",
    "    shallow_copy[0][0] = 100\n",
    "    print(original_list)  # Output: [[100, 2, 3], [4, 5, 6]]\n",
    "    ```\n",
    "\n",
    "- **`copy.deepcopy()` (Deep Copy):**\n",
    "  - `copy.deepcopy()` creates a new object and recursively inserts copies of the objects found in the original. It creates a deep copy of the object, meaning that it duplicates both the top-level structure and all nested objects.\n",
    "  - Changes made to the inner objects in the copy will not affect the original object, and vice versa.\n",
    "  - Example:\n",
    "    ```python\n",
    "    import copy\n",
    "    original_list = [[1, 2, 3], [4, 5, 6]]\n",
    "    deep_copy = copy.deepcopy(original_list)\n",
    "    deep_copy[0][0] = 100\n",
    "    print(original_list)  # Output: [[1, 2, 3], [4, 5, 6]]\n",
    "    ```\n",
    "\n",
    "In summary, `copy.copy()` creates a shallow copy of an object, while `copy.deepcopy()` creates a deep copy. Use `copy.deepcopy()` when you need to duplicate an object and all of its nested objects without affecting the original.\n"
   ]
  },
  {
   "cell_type": "code",
   "execution_count": null,
   "id": "50cd4e52",
   "metadata": {},
   "outputs": [],
   "source": []
  }
 ],
 "metadata": {
  "kernelspec": {
   "display_name": "Python 3 (ipykernel)",
   "language": "python",
   "name": "python3"
  },
  "language_info": {
   "codemirror_mode": {
    "name": "ipython",
    "version": 3
   },
   "file_extension": ".py",
   "mimetype": "text/x-python",
   "name": "python",
   "nbconvert_exporter": "python",
   "pygments_lexer": "ipython3",
   "version": "3.9.13"
  }
 },
 "nbformat": 4,
 "nbformat_minor": 5
}
