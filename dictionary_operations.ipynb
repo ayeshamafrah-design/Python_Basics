{
 "cells": [
  {
   "cell_type": "markdown",
   "id": "9a00021d-e5da-41a0-8df5-56b3d9d430e3",
   "metadata": {},
   "source": [
    "### Q1: Write a Python program to Extract Unique values dictionary values"
   ]
  },
  {
   "cell_type": "code",
   "execution_count": 57,
   "id": "57a46b90-1f5e-476c-a81a-2c9be636194b",
   "metadata": {},
   "outputs": [
    {
     "name": "stdout",
     "output_type": "stream",
     "text": [
      "Unique values in the dictionary: {1, 2, 3, 4, 5, 6, 7}\n"
     ]
    }
   ],
   "source": [
    "example_dict = {\n",
    "    'a': [1, 2, 3],\n",
    "    'b': [3, 4, 5],\n",
    "    'c': [5, 6, 7]\n",
    "}\n",
    "\n",
    "# Extracting unique values\n",
    "unique_values = set(value for values in example_dict.values() for value in values)\n",
    "print(\"Unique values in the dictionary:\", unique_values)\n"
   ]
  },
  {
   "cell_type": "markdown",
   "id": "8c4b0bc1-0c24-4402-b3e1-f461903206f1",
   "metadata": {},
   "source": [
    "### Q2: Write a Python program to find the sum of all items in a dictionary"
   ]
  },
  {
   "cell_type": "code",
   "execution_count": 58,
   "id": "deb003b2-04b1-4689-8e60-3b73f24755ac",
   "metadata": {},
   "outputs": [
    {
     "name": "stdout",
     "output_type": "stream",
     "text": [
      "Sum of all items in the dictionary: 60\n"
     ]
    }
   ],
   "source": [
    "example_dict = {'a': 10, 'b': 20, 'c': 30}\n",
    "\n",
    "# Calculating the sum of all items\n",
    "total_sum = sum(example_dict.values())\n",
    "print(\"Sum of all items in the dictionary:\", total_sum)"
   ]
  },
  {
   "cell_type": "markdown",
   "id": "fcff7b72-99b5-4457-8150-98ec13a7bbcd",
   "metadata": {},
   "source": [
    "### Q3: Write a Python program to Merge two Dictionaries"
   ]
  },
  {
   "cell_type": "code",
   "execution_count": 60,
   "id": "67814b7e-4cfa-4533-baa4-b103733b5275",
   "metadata": {},
   "outputs": [
    {
     "name": "stdout",
     "output_type": "stream",
     "text": [
      "Merged dictionary: {'a': 1, 'b': 2, 'c': 3, 'd': 4}\n"
     ]
    }
   ],
   "source": [
    "dict1 = {'a': 1, 'b': 2}\n",
    "dict2 = {'c': 3, 'd': 4}\n",
    "\n",
    "# Merging dictionaries\n",
    "merged_dict = {**dict1, **dict2}\n",
    "print(\"Merged dictionary:\", merged_dict)"
   ]
  },
  {
   "cell_type": "markdown",
   "id": "77c86507-aa6c-4aa2-9f11-2dc11c4b8a66",
   "metadata": {},
   "source": [
    "### Q4: Write a Python program to convert key-values list to flat dictionary"
   ]
  },
  {
   "cell_type": "code",
   "execution_count": 61,
   "id": "463ccda0-6a04-43df-b6b0-18947233ec69",
   "metadata": {},
   "outputs": [
    {
     "name": "stdout",
     "output_type": "stream",
     "text": [
      "Flat dictionary: {'a': 1, 'b': 2, 'c': 3}\n"
     ]
    }
   ],
   "source": [
    "keys = ['a', 'b', 'c']\n",
    "values = [1, 2, 3]\n",
    "\n",
    "# Converting to flat dictionary\n",
    "flat_dict = dict(zip(keys, values))\n",
    "print(\"Flat dictionary:\", flat_dict)\n"
   ]
  },
  {
   "cell_type": "markdown",
   "id": "71fa940d-cca5-4a13-84f0-474fc7afaad0",
   "metadata": {},
   "source": [
    "### Q5: Write a Python program to insert at the beginning in OrderedDict"
   ]
  },
  {
   "cell_type": "code",
   "execution_count": 62,
   "id": "405adb57-7ff9-48c0-b8ab-c6bc6a65c55a",
   "metadata": {},
   "outputs": [
    {
     "name": "stdout",
     "output_type": "stream",
     "text": [
      "OrderedDict after insertion: OrderedDict([('x', 0), ('a', 1), ('b', 2)])\n"
     ]
    }
   ],
   "source": [
    "from collections import OrderedDict\n",
    "original_dict = OrderedDict([('a', 1), ('b', 2)])\n",
    "new_item = {'x': 0}\n",
    "\n",
    "original_dict = OrderedDict(list(new_item.items()) + list(original_dict.items()))\n",
    "print(\"OrderedDict after insertion:\", original_dict)\n"
   ]
  },
  {
   "cell_type": "markdown",
   "id": "a71ffd28-950f-4758-8820-9bf980fe112c",
   "metadata": {},
   "source": [
    "### Q6: Write a Python program to check order of characters in a string using OrderedDict()"
   ]
  },
  {
   "cell_type": "code",
   "execution_count": 63,
   "id": "059a44dc-a41e-4b7b-89c4-7a7dac420f79",
   "metadata": {},
   "outputs": [
    {
     "name": "stdout",
     "output_type": "stream",
     "text": [
      "Is the order of 'hlo' correct in 'helloworld': True\n"
     ]
    }
   ],
   "source": [
    "from collections import OrderedDict\n",
    "string = \"helloworld\"\n",
    "pattern = \"hlo\"\n",
    "\n",
    "def check_order(string, pattern):\n",
    "    order_dict = OrderedDict.fromkeys(string)\n",
    "    pattern_index = 0\n",
    "    for key in order_dict:\n",
    "        if key == pattern[pattern_index]:\n",
    "            pattern_index += 1\n",
    "        if pattern_index == len(pattern):\n",
    "            return True\n",
    "    return False\n",
    "\n",
    "is_order_correct = check_order(string, pattern)\n",
    "print(f\"Is the order of '{pattern}' correct in '{string}':\", is_order_correct)\n"
   ]
  },
  {
   "cell_type": "markdown",
   "id": "b336a685-a210-4669-a637-62fd35454c84",
   "metadata": {},
   "source": [
    "### Q7: Write a Python program to sort Python Dictionaries by Key or Value"
   ]
  },
  {
   "cell_type": "code",
   "execution_count": 65,
   "id": "2f92f805-e10f-4925-8613-231532a5e75b",
   "metadata": {},
   "outputs": [
    {
     "name": "stdout",
     "output_type": "stream",
     "text": [
      "Dictionary sorted by key: {'a': 1, 'b': 2, 'c': 3}\n",
      "Dictionary sorted by value: {'a': 1, 'b': 2, 'c': 3}\n"
     ]
    }
   ],
   "source": [
    "unsorted_dict = {'b': 2, 'a': 1, 'c': 3}\n",
    "\n",
    "sorted_by_key = dict(sorted(unsorted_dict.items(), key=lambda item: item[0]))\n",
    "sorted_by_value = dict(sorted(unsorted_dict.items(), key=lambda item: item[1]))\n",
    "print(\"Dictionary sorted by key:\", sorted_by_key)\n",
    "print(\"Dictionary sorted by value:\", sorted_by_value)\n"
   ]
  }
 ],
 "metadata": {
  "kernelspec": {
   "display_name": "Python 3 (ipykernel)",
   "language": "python",
   "name": "python3"
  },
  "language_info": {
   "codemirror_mode": {
    "name": "ipython",
    "version": 3
   },
   "file_extension": ".py",
   "mimetype": "text/x-python",
   "name": "python",
   "nbconvert_exporter": "python",
   "pygments_lexer": "ipython3",
   "version": "3.11.5"
  }
 },
 "nbformat": 4,
 "nbformat_minor": 5
}
