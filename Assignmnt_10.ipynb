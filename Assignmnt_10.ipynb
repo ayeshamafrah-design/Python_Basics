{
 "cells": [
  {
   "cell_type": "markdown",
   "id": "e58c3f39",
   "metadata": {},
   "source": [
    "### 1. Question:\n",
    "\n",
    "How do you distinguish between `shutil.copy()` and `shutil.copytree()`?\n",
    "\n",
    "### Answer:\n",
    "\n",
    "- `shutil.copy(src, dst)`: This function copies a single file from the `src` path to the `dst` path. If the `dst` path already exists, it will be overwritten. If the `dst` path is a directory, a new file with the same basename as `src` will be created in that directory.\n",
    "\n",
    "- `shutil.copytree(src, dst)`: This function recursively copies an entire directory tree from the `src` directory to the `dst` directory. If the `dst` directory already exists, it will raise a `FileExistsError`. The `dst` directory is created if it does not exist.\n",
    "\n",
    "In summary, `shutil.copy()` is used to copy individual files, while `shutil.copytree()` is used to copy entire directory trees.\n"
   ]
  },
  {
   "cell_type": "markdown",
   "id": "dfdef7c4",
   "metadata": {},
   "source": [
    "### 2.Question:\n",
    "\n",
    "What function is used to rename files?\n",
    "\n",
    "### Answer:\n",
    "\n",
    "The `os.rename()` function is used to rename files in Python. It takes two arguments: the current name of the file and the new name that you want to assign to the file. If the file is successfully renamed, the function returns `None`. If an error occurs, it raises an exception.\n"
   ]
  },
  {
   "cell_type": "markdown",
   "id": "c5613de7",
   "metadata": {},
   "source": [
    "### 3.Question:\n",
    "\n",
    "What is the difference between the delete functions in the `send2trash` and `shutil` modules?\n",
    "\n",
    "### Answer:\n",
    "\n",
    "- `send2trash`: The `send2trash` module provides a `send2trash()` function that moves files and directories to the trash or recycle bin instead of permanently deleting them. This function is safer than using `os.remove()` or `shutil.rmtree()` as it allows files to be recovered from the trash if needed.\n",
    "\n",
    "- `shutil`: The `shutil` module provides the `shutil.rmtree()` function, which is used to delete a directory and all its contents recursively. This function deletes files and directories permanently, without moving them to the trash or recycle bin. It should be used with caution as it does not provide a way to recover the deleted files.\n"
   ]
  },
  {
   "cell_type": "markdown",
   "id": "3fa0840c",
   "metadata": {},
   "source": [
    "### 4.Question:\n",
    "\n",
    "ZipFile objects have a `close()` method just like File objects' `close()` method. What ZipFile method is equivalent to File objects' `open()` method?\n",
    "\n",
    "### Answer:\n",
    "\n",
    "The `ZipFile` method that is equivalent to File objects' `open()` method is `ZipFile()` itself. When you use `ZipFile()` to open a ZIP file, it returns a `ZipFile` object that you can use to read or write to the ZIP file. Similarly, when you use `open()` to open a file, it returns a File object that you can use to read from or write to the file.\n"
   ]
  },
  {
   "cell_type": "markdown",
   "id": "8ceef125",
   "metadata": {},
   "source": [
    "### 5.Question:\n",
    "\n",
    "Create a program that searches a folder tree for files with a certain file extension (such as .pdf or .jpg). Copy these files from whatever location they are in to a new folder.\n",
    "\n",
    "### Answer:\n"
   ]
  },
  {
   "cell_type": "code",
   "execution_count": 8,
   "id": "83fc00de",
   "metadata": {},
   "outputs": [
    {
     "name": "stdout",
     "output_type": "stream",
     "text": [
      "Copied file1.pdf to target_folder_path\n",
      "Copied file2.jpg to target_folder_path\n",
      "Copied file3.pdf to target_folder_path\n",
      "Copied file4.jpg to target_folder_path\n",
      "Copied file5.pdf to target_folder_path\n",
      "Copied file6.jpg to target_folder_path\n"
     ]
    }
   ],
   "source": [
    "import os\n",
    "import shutil\n",
    "\n",
    "# Create the source folder structure\n",
    "source_folder_path = \"source_folder_path\"\n",
    "os.makedirs(source_folder_path, exist_ok=True)\n",
    "open(os.path.join(source_folder_path, \"file1.pdf\"), \"w\").close()\n",
    "open(os.path.join(source_folder_path, \"file2.jpg\"), \"w\").close()\n",
    "os.makedirs(os.path.join(source_folder_path, \"subfolder1\"))\n",
    "open(os.path.join(source_folder_path, \"subfolder1\", \"file3.pdf\"), \"w\").close()\n",
    "open(os.path.join(source_folder_path, \"subfolder1\", \"file4.jpg\"), \"w\").close()\n",
    "os.makedirs(os.path.join(source_folder_path, \"subfolder2\"))\n",
    "open(os.path.join(source_folder_path, \"subfolder2\", \"file5.pdf\"), \"w\").close()\n",
    "open(os.path.join(source_folder_path, \"subfolder2\", \"file6.jpg\"), \"w\").close()\n",
    "\n",
    "# Define the target folder\n",
    "target_folder_path = \"target_folder_path\"\n",
    "\n",
    "def copy_files_with_extensions(source_folder, target_folder, extensions):\n",
    "    if not os.path.exists(target_folder):\n",
    "        os.makedirs(target_folder)\n",
    "\n",
    "    for foldername, _, filenames in os.walk(source_folder):\n",
    "        for filename in filenames:\n",
    "            if filename.endswith(extensions):\n",
    "                source_path = os.path.join(foldername, filename)\n",
    "                target_path = os.path.join(target_folder, filename)\n",
    "                shutil.copy(source_path, target_path)\n",
    "                print(f\"Copied {filename} to {target_folder}\")\n",
    "\n",
    "# Example usage\n",
    "extensions = (\".pdf\", \".jpg\")  # Tuple of extensions to search for\n",
    "copy_files_with_extensions(source_folder_path, target_folder_path, extensions)\n",
    "\n"
   ]
  }
 ],
 "metadata": {
  "kernelspec": {
   "display_name": "Python 3 (ipykernel)",
   "language": "python",
   "name": "python3"
  },
  "language_info": {
   "codemirror_mode": {
    "name": "ipython",
    "version": 3
   },
   "file_extension": ".py",
   "mimetype": "text/x-python",
   "name": "python",
   "nbconvert_exporter": "python",
   "pygments_lexer": "ipython3",
   "version": "3.9.13"
  }
 },
 "nbformat": 4,
 "nbformat_minor": 5
}
