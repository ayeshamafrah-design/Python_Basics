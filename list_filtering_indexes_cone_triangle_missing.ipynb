{
 "cells": [
  {
   "cell_type": "markdown",
   "id": "ad860933-2ada-4e3a-9e4e-b805b506896f",
   "metadata": {},
   "source": [
    "### Question 1:\n",
    "Create a function that takes a list of strings and integers and filters out the list so that it returns a list of integers only.\n",
    "\n",
    "- filter_list([1, 2, 3, \"a\", \"b\", 4]) ➞ [1, 2, 3, 4]\n",
    "- filter_list([\"A\", 0, \"Edabit\", 1729, \"Python\", \"1729\"]) ➞ [0, 1729]\n",
    "- filter_list([\"Nothing\", \"here\"]) ➞ []\n"
   ]
  },
  {
   "cell_type": "code",
   "execution_count": 19,
   "id": "a24e3dc2-8721-4186-b406-8795072a71f1",
   "metadata": {},
   "outputs": [
    {
     "name": "stdout",
     "output_type": "stream",
     "text": [
      "[1, 2, 3, 4]\n",
      "[0, 1729]\n",
      "[]\n"
     ]
    }
   ],
   "source": [
    "def filter_list(lst):\n",
    "    return [x for x in lst if isinstance(x, int)]\n",
    "\n",
    "print(filter_list([1, 2, 3, \"a\", \"b\", 4]))           \n",
    "print(filter_list([\"A\", 0, \"Edabit\", 1729, \"Python\", \"1729\"]))  \n",
    "print(filter_list([\"Nothing\", \"here\"])) "
   ]
  },
  {
   "cell_type": "markdown",
   "id": "b1ae6608-9138-4764-9804-e224157272c7",
   "metadata": {},
   "source": [
    "### Question 2:\n",
    "Given a list of numbers, create a function which returns the list but with each element's index in the list added to itself.\n",
    "\n",
    "- add_indexes([0, 0, 0, 0, 0]) ➞ [0, 1, 2, 3, 4]\n",
    "- add_indexes([1, 2, 3, 4, 5]) ➞ [1, 3, 5, 7, 9]\n",
    "- add_indexes([5, 4, 3, 2, 1]) ➞ [5, 5, 5, 5, 5] \n"
   ]
  },
  {
   "cell_type": "code",
   "execution_count": 20,
   "id": "703d67d3-f981-431f-8c7b-6515faf06aa7",
   "metadata": {},
   "outputs": [
    {
     "name": "stdout",
     "output_type": "stream",
     "text": [
      "[0, 1, 2, 3, 4]\n",
      "[1, 3, 5, 7, 9]\n",
      "[5, 5, 5, 5, 5]\n"
     ]
    }
   ],
   "source": [
    "def add_indexes(lst):\n",
    "    return [num + i for i, num in enumerate(lst)]\n",
    "\n",
    "print(add_indexes([0, 0, 0, 0, 0])) \n",
    "print(add_indexes([1, 2, 3, 4, 5]))  \n",
    "print(add_indexes([5, 4, 3, 2, 1]))"
   ]
  },
  {
   "cell_type": "markdown",
   "id": "d6e6037d-e433-4c68-a44d-547d5d02b4e4",
   "metadata": {},
   "source": [
    "### Question 3:\n",
    "Create a function that takes the height and radius of a cone as arguments and returns the volume of the cone rounded to the nearest hundredth.\n",
    "\n",
    "Volume = (1/3) * π * radius² * height\n",
    "\n",
    "- cone_volume(3, 2) ➞ 12.57\n",
    "- cone_volume(15, 6) ➞ 565.49\n",
    "- cone_volume(18, 0) ➞ 0\n"
   ]
  },
  {
   "cell_type": "code",
   "execution_count": 21,
   "id": "42ffad3e-39c6-4c28-8d63-bb67c95f2a6f",
   "metadata": {},
   "outputs": [
    {
     "name": "stdout",
     "output_type": "stream",
     "text": [
      "12.57\n",
      "565.49\n",
      "0.0\n"
     ]
    }
   ],
   "source": [
    "import math\n",
    "\n",
    "def cone_volume(height, radius):\n",
    "    return round((1/3) * math.pi * radius**2 * height, 2)\n",
    "\n",
    "print(cone_volume(3, 2)) \n",
    "print(cone_volume(15, 6))  \n",
    "print(cone_volume(18, 0)) "
   ]
  },
  {
   "cell_type": "markdown",
   "id": "bc67ac86-9a52-4e85-b771-7135fd9d210c",
   "metadata": {},
   "source": [
    "### Question 4:\n",
    "Write a function that gives the number of dots with its corresponding triangle number of the sequence.\n",
    "\n",
    "Number of dots = n * (n + 1) / 2\n",
    "\n",
    "- triangle(1) ➞ 1\n",
    "- triangle(6) ➞ 21\n",
    "- triangle(215) ➞ 23220\n",
    " "
   ]
  },
  {
   "cell_type": "code",
   "execution_count": 22,
   "id": "c9d06534-7f1c-4c2f-bd6f-523203dc6e59",
   "metadata": {},
   "outputs": [
    {
     "name": "stdout",
     "output_type": "stream",
     "text": [
      "1\n",
      "21\n",
      "23220\n"
     ]
    }
   ],
   "source": [
    "def triangle(n):\n",
    "    return n * (n + 1) // 2\n",
    "\n",
    "print(triangle(1))   \n",
    "print(triangle(6))    \n",
    "print(triangle(215))"
   ]
  },
  {
   "cell_type": "markdown",
   "id": "516b61cf-cf79-4dfb-96d8-3f5ca672a4ac",
   "metadata": {},
   "source": [
    "### Question 5:\n",
    "Create a function that takes a list of numbers between 1 and 10 (excluding one number) and returns the missing number.\n",
    "\n",
    "- missing_num([1, 2, 3, 4, 6, 7, 8, 9, 10]) ➞ 5\n",
    "- missing_num([7, 2, 3, 6, 5, 9, 1, 4, 8]) ➞ 10\n",
    "- missing_num([10, 5, 1, 2, 4, 6, 8, 3, 9]) ➞ 7\n",
    "    "
   ]
  },
  {
   "cell_type": "code",
   "execution_count": 23,
   "id": "ca8d79b4-738c-44c1-b1f9-672943f6015a",
   "metadata": {},
   "outputs": [
    {
     "name": "stdout",
     "output_type": "stream",
     "text": [
      "5\n",
      "10\n",
      "7\n"
     ]
    }
   ],
   "source": [
    "def missing_num(lst):\n",
    "    return sum(range(1, 11)) - sum(lst)\n",
    "\n",
    "print(missing_num([1, 2, 3, 4, 6, 7, 8, 9, 10])) \n",
    "print(missing_num([7, 2, 3, 6, 5, 9, 1, 4, 8]))  \n",
    "print(missing_num([10, 5, 1, 2, 4, 6, 8, 3, 9]))"
   ]
  },
  {
   "cell_type": "code",
   "execution_count": null,
   "id": "26ff4a13-d284-4ddf-92ea-7363c74058c4",
   "metadata": {},
   "outputs": [],
   "source": []
  }
 ],
 "metadata": {
  "kernelspec": {
   "display_name": "Python 3 (ipykernel)",
   "language": "python",
   "name": "python3"
  },
  "language_info": {
   "codemirror_mode": {
    "name": "ipython",
    "version": 3
   },
   "file_extension": ".py",
   "mimetype": "text/x-python",
   "name": "python",
   "nbconvert_exporter": "python",
   "pygments_lexer": "ipython3",
   "version": "3.11.5"
  }
 },
 "nbformat": 4,
 "nbformat_minor": 5
}
