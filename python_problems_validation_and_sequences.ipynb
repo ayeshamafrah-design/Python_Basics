{
 "cells": [
  {
   "cell_type": "markdown",
   "id": "5291b117-88f5-4bef-b2d0-dcc831d1b7dc",
   "metadata": {},
   "source": [
    "#### Q1: Write a program that calculates and prints the value according to the given formula: Q = Square root of [(2 * C * D) / H] C is 50. H is 30. D is the variable whose values should be input to your program in a comma-separated sequence."
   ]
  },
  {
   "cell_type": "code",
   "execution_count": 2,
   "id": "89b9c6c0-da3e-431f-b1d9-8f30879d2911",
   "metadata": {},
   "outputs": [
    {
     "name": "stdin",
     "output_type": "stream",
     "text": [
      "Enter comma-separated values for D:  100,150,180\n"
     ]
    },
    {
     "name": "stdout",
     "output_type": "stream",
     "text": [
      "18,22,24\n"
     ]
    }
   ],
   "source": [
    "import math\n",
    "\n",
    "C = 50\n",
    "H = 30\n",
    "\n",
    "D_values = input(\"Enter comma-separated values for D: \").split(',')\n",
    "Q_values = [str(int(math.sqrt((2 * C * int(D)) / H))) for D in D_values]\n",
    "print(\",\".join(Q_values))"
   ]
  },
  {
   "cell_type": "markdown",
   "id": "41aa6504-98e8-492d-a47d-9f1ccaaeddd4",
   "metadata": {},
   "source": [
    "#### Q2 : Write a program which takes 2 digits, X, Y as input and generates a 2-dimensional array.The element value in the i-th row and j-th column of the array should be i * j."
   ]
  },
  {
   "cell_type": "code",
   "execution_count": 3,
   "id": "da234366-9187-490f-aaae-38102a09c519",
   "metadata": {},
   "outputs": [
    {
     "name": "stdin",
     "output_type": "stream",
     "text": [
      "Enter two digits X and Y:  3,5\n"
     ]
    },
    {
     "name": "stdout",
     "output_type": "stream",
     "text": [
      "[0, 0, 0, 0, 0]\n",
      "[0, 1, 2, 3, 4]\n",
      "[0, 2, 4, 6, 8]\n"
     ]
    }
   ],
   "source": [
    "X, Y = map(int, input(\"Enter two digits X and Y: \").split(','))\n",
    "\n",
    "array = [[i * j for j in range(Y)] for i in range(X)]\n",
    "\n",
    "for row in array:\n",
    "    print(row)\n"
   ]
  },
  {
   "cell_type": "markdown",
   "id": "f2b31d49-dd88-4338-a127-07073d875a3e",
   "metadata": {},
   "source": [
    "#### Q3 : Write a program that accepts a comma-separated sequence of words as input and prints the words in a comma-separated sequence after sorting them alphabetically."
   ]
  },
  {
   "cell_type": "code",
   "execution_count": 4,
   "id": "5a55fd49-4fdf-436a-924c-6d32014c70ce",
   "metadata": {},
   "outputs": [
    {
     "name": "stdin",
     "output_type": "stream",
     "text": [
      "Enter comma-separated words:  without,hello,bag,world\n"
     ]
    },
    {
     "name": "stdout",
     "output_type": "stream",
     "text": [
      "bag,hello,without,world\n"
     ]
    }
   ],
   "source": [
    "words = input(\"Enter comma-separated words: \").split(',')\n",
    "\n",
    "words.sort()\n",
    "print(\",\".join(words))\n"
   ]
  },
  {
   "cell_type": "markdown",
   "id": "39cd0ef7-a568-44ac-b386-fa51b9566063",
   "metadata": {},
   "source": [
    "#### Q4 : Write a program that accepts a sequence of whitespace-separated words as input and prints the words after removing all duplicate words and sorting them alphanumerically."
   ]
  },
  {
   "cell_type": "code",
   "execution_count": 5,
   "id": "ce8811f5-487c-4fa5-adf8-2e294ae58582",
   "metadata": {},
   "outputs": [
    {
     "name": "stdin",
     "output_type": "stream",
     "text": [
      "Enter whitespace-separated words:  hello world and practice makes perfect and hello world again\n"
     ]
    },
    {
     "name": "stdout",
     "output_type": "stream",
     "text": [
      "again and hello makes perfect practice world\n"
     ]
    }
   ],
   "source": [
    "words = input(\"Enter whitespace-separated words: \").split()\n",
    "\n",
    "unique_words = sorted(set(words))\n",
    "print(\" \".join(unique_words))"
   ]
  },
  {
   "cell_type": "markdown",
   "id": "fe787ad2-a018-426b-b806-09d82c2d8206",
   "metadata": {},
   "source": [
    "#### Q5 : Write a program that accepts a sentence and calculates the number of letters and digits."
   ]
  },
  {
   "cell_type": "code",
   "execution_count": 6,
   "id": "a24bed28-f96d-4b0d-8aab-c8282a1a194f",
   "metadata": {},
   "outputs": [
    {
     "name": "stdin",
     "output_type": "stream",
     "text": [
      "Enter a sentence:  hello world! 123\n"
     ]
    },
    {
     "name": "stdout",
     "output_type": "stream",
     "text": [
      "LETTERS 10\n",
      "DIGITS 3\n"
     ]
    }
   ],
   "source": [
    "sentence = input(\"Enter a sentence: \")\n",
    "\n",
    "letters = 0\n",
    "digits = 0\n",
    "\n",
    "for char in sentence:\n",
    "    if char.isalpha():\n",
    "        letters += 1\n",
    "    elif char.isdigit():\n",
    "        digits += 1\n",
    "\n",
    "print(f\"LETTERS {letters}\")\n",
    "print(f\"DIGITS {digits}\")\n"
   ]
  },
  {
   "cell_type": "markdown",
   "id": "4ada6b52-ed7c-4e8d-a6e7-c25862753549",
   "metadata": {},
   "source": [
    "#### Q6 : Write a program to check the validity of a password according to the following criteria:\n",
    "#### 1. At least 1 letter between [a-z]\n",
    "#### 2. At least 1 number between [0-9]\n",
    "#### 3. At least 1 letter between [A-Z]\n",
    "#### 4. At least 1 character from [$#@]\n",
    "#### 5. Minimum length of 6\n",
    "#### 6. Maximum length of 12"
   ]
  },
  {
   "cell_type": "code",
   "execution_count": 7,
   "id": "14239762-61a4-4268-b2c5-3bc8670d13c5",
   "metadata": {},
   "outputs": [
    {
     "name": "stdin",
     "output_type": "stream",
     "text": [
      "Enter comma-separated passwords:  ABd1234@1,a F1#,2w3E*,2We3345\n"
     ]
    },
    {
     "name": "stdout",
     "output_type": "stream",
     "text": [
      "ABd1234@1\n"
     ]
    }
   ],
   "source": [
    "import re\n",
    "\n",
    "def is_valid_password(password):\n",
    "    if (6 <= len(password) <= 12 and \n",
    "        re.search(r\"[a-z]\", password) and \n",
    "        re.search(r\"[0-9]\", password) and \n",
    "        re.search(r\"[A-Z]\", password) and \n",
    "        re.search(r\"[$#@]\", password)):\n",
    "        return True\n",
    "    return False\n",
    "\n",
    "passwords = input(\"Enter comma-separated passwords: \").split(',')\n",
    "\n",
    "valid_passwords = [pwd for pwd in passwords if is_valid_password(pwd)]\n",
    "print(\",\".join(valid_passwords))\n"
   ]
  },
  {
   "cell_type": "code",
   "execution_count": null,
   "id": "5a7e1964-2f5d-4d24-b461-542898e52f07",
   "metadata": {},
   "outputs": [],
   "source": []
  }
 ],
 "metadata": {
  "kernelspec": {
   "display_name": "Python 3 (ipykernel)",
   "language": "python",
   "name": "python3"
  },
  "language_info": {
   "codemirror_mode": {
    "name": "ipython",
    "version": 3
   },
   "file_extension": ".py",
   "mimetype": "text/x-python",
   "name": "python",
   "nbconvert_exporter": "python",
   "pygments_lexer": "ipython3",
   "version": "3.11.5"
  }
 },
 "nbformat": 4,
 "nbformat_minor": 5
}
