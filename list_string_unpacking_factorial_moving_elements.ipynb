{
 "cells": [
  {
   "cell_type": "markdown",
   "id": "bceee23e-2ee3-423c-9a7a-4e0065ac628d",
   "metadata": {},
   "source": [
    "### Question 1:\n",
    "Create a function that takes a list of non-negative integers and strings and returns a new list without the strings.\n",
    "\n",
    "- filter_list([1, 2, \"a\", \"b\"]) ➞ [1, 2]\n",
    "- filter_list([1, \"a\", \"b\", 0, 15]) ➞ [1, 0, 15]\n",
    "- filter_list([1, 2, \"aasf\", \"1\", \"123\", 123]) ➞ [1, 2, 123]\n"
   ]
  },
  {
   "cell_type": "code",
   "execution_count": 8,
   "id": "39ce25ca-dcc2-469b-9982-31d2b0665634",
   "metadata": {},
   "outputs": [
    {
     "name": "stdout",
     "output_type": "stream",
     "text": [
      "[1, 2]\n",
      "[1, 0, 15]\n",
      "[1, 2, 123]\n"
     ]
    }
   ],
   "source": [
    "def filter_list(lst):\n",
    "    return [item for item in lst if isinstance(item, int)]\n",
    "\n",
    "print(filter_list([1, 2, \"a\", \"b\"]))          \n",
    "print(filter_list([1, \"a\", \"b\", 0, 15]))     \n",
    "print(filter_list([1, 2, \"aasf\", \"1\", \"123\", 123]))"
   ]
  },
  {
   "cell_type": "markdown",
   "id": "6138315f-f8c3-42fb-bf6e-a185c705e109",
   "metadata": {},
   "source": [
    "### Question 2:\n",
    "The \"Reverser\" takes a string as input and returns that string in reverse order, with the opposite case.\n",
    "\n",
    "- reverse(\"Hello World\") ➞ \"DLROw OLLEh\"\n",
    "- reverse(\"ReVeRsE\") ➞ \"eSrEvEr\"\n",
    "- reverse(\"Radar\") ➞ \"RADAr\""
   ]
  },
  {
   "cell_type": "code",
   "execution_count": 9,
   "id": "9aa54380-62d9-4bc6-bae0-4173abbdf844",
   "metadata": {},
   "outputs": [
    {
     "name": "stdout",
     "output_type": "stream",
     "text": [
      "DLROw OLLEh\n",
      "eSrEvEr\n",
      "RADAr\n"
     ]
    }
   ],
   "source": [
    "def reverse(s):\n",
    "    return s[::-1].swapcase()\n",
    "\n",
    "print(reverse(\"Hello World\"))  \n",
    "print(reverse(\"ReVeRsE\"))     \n",
    "print(reverse(\"Radar\"))        "
   ]
  },
  {
   "cell_type": "markdown",
   "id": "581df41b-40c7-4acf-9827-fb4727632c74",
   "metadata": {},
   "source": [
    "### Question 3:\n",
    "Unpack the list `writeyourcodehere` into three variables: `first`, `middle`, and `last`.\n",
    "\n",
    "- Input: `lst = [1, 2, 3, 4, 5, 6]`\n",
    "- Output:\n",
    "  - first ➞ 1\n",
    "  - middle ➞ [2, 3, 4, 5]\n",
    "  - last ➞ 6  "
   ]
  },
  {
   "cell_type": "code",
   "execution_count": 10,
   "id": "d3b26398-6169-427f-bde1-084c4e7d6205",
   "metadata": {},
   "outputs": [
    {
     "name": "stdout",
     "output_type": "stream",
     "text": [
      "First: 1\n",
      "Middle: [2, 3, 4, 5]\n",
      "Last: 6\n"
     ]
    }
   ],
   "source": [
    "lst = [1, 2, 3, 4, 5, 6]\n",
    "\n",
    "first, *middle, last = lst\n",
    "\n",
    "print(\"First:\", first)  \n",
    "print(\"Middle:\", middle)  \n",
    "print(\"Last:\", last)"
   ]
  },
  {
   "cell_type": "markdown",
   "id": "1db100c0-b1b3-4c5e-8fff-52b2c9e1bdf2",
   "metadata": {},
   "source": [
    "### Question 4:\n",
    "Write a function that calculates the factorial of a number recursively.\n",
    "\n",
    "- factorial(5) ➞ 120\n",
    "- factorial(3) ➞ 6\n",
    "- factorial(1) ➞ 1\n",
    "- factorial(0) ➞ 1"
   ]
  },
  {
   "cell_type": "code",
   "execution_count": 11,
   "id": "6b84205d-8c0d-44dd-9152-a5d067614bf7",
   "metadata": {},
   "outputs": [
    {
     "name": "stdout",
     "output_type": "stream",
     "text": [
      "120\n",
      "6\n",
      "1\n",
      "1\n"
     ]
    }
   ],
   "source": [
    "def factorial(n):\n",
    "    if n == 0 or n == 1:\n",
    "        return 1\n",
    "    return n * factorial(n - 1)\n",
    "\n",
    "print(factorial(5))  \n",
    "print(factorial(3))  \n",
    "print(factorial(1)) \n",
    "print(factorial(0))  "
   ]
  },
  {
   "cell_type": "markdown",
   "id": "1d84b9e6-1af3-4037-8240-6e8605df9a23",
   "metadata": {},
   "source": [
    "### Question 5:\n",
    "Write a function that moves all elements of one type to the end of the list.\n",
    "\n",
    "- move_to_end([1, 3, 2, 4, 4, 1], 1) ➞ [3, 2, 4, 4, 1, 1]\n",
    "- move_to_end([7, 8, 9, 1, 2, 3, 4], 9) ➞ [7, 8, 1, 2, 3, 4, 9]\n",
    "- move_to_end([\"a\", \"a\", \"a\", \"b\"], \"a\") ➞ [\"b\", \"a\", \"a\", \"a\"]"
   ]
  },
  {
   "cell_type": "code",
   "execution_count": 12,
   "id": "2f519a78-9f4b-4b07-9997-7074fb2ec407",
   "metadata": {},
   "outputs": [
    {
     "name": "stdout",
     "output_type": "stream",
     "text": [
      "[3, 2, 4, 4, 1, 1]\n",
      "[7, 8, 1, 2, 3, 4, 9]\n",
      "['b', 'a', 'a', 'a']\n"
     ]
    }
   ],
   "source": [
    "def move_to_end(lst, item):\n",
    "    return [x for x in lst if x != item] + [x for x in lst if x == item]\n",
    "\n",
    "print(move_to_end([1, 3, 2, 4, 4, 1], 1))        \n",
    "print(move_to_end([7, 8, 9, 1, 2, 3, 4], 9))     \n",
    "print(move_to_end([\"a\", \"a\", \"a\", \"b\"], \"a\"))   "
   ]
  },
  {
   "cell_type": "code",
   "execution_count": null,
   "id": "b1664f8b-54c1-4d78-8d32-3dbc6a3a9a23",
   "metadata": {},
   "outputs": [],
   "source": []
  }
 ],
 "metadata": {
  "kernelspec": {
   "display_name": "Python 3 (ipykernel)",
   "language": "python",
   "name": "python3"
  },
  "language_info": {
   "codemirror_mode": {
    "name": "ipython",
    "version": 3
   },
   "file_extension": ".py",
   "mimetype": "text/x-python",
   "name": "python",
   "nbconvert_exporter": "python",
   "pygments_lexer": "ipython3",
   "version": "3.11.5"
  }
 },
 "nbformat": 4,
 "nbformat_minor": 5
}
