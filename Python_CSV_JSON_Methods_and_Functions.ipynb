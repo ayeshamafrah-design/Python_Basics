{
 "cells": [
  {
   "cell_type": "markdown",
   "id": "28ac297b-0e9a-4500-b726-e9dd6c0bc480",
   "metadata": {},
   "source": [
    "### 1. What advantages do Excel spreadsheets have over CSV spreadsheets?\n",
    "\n",
    "Excel spreadsheets (XLSX format) offer several advantages over CSV (Comma-Separated Values) files:\n",
    "\n",
    "- **Support for multiple sheets**: Excel allows for multiple worksheets within a single file, whereas CSV files only store data in a single sheet.\n",
    "- **Data types and formatting**: Excel supports a variety of data types (e.g., numbers, dates, text) and allows for cell formatting (e.g., bold, italics, colors), while CSV files store data in plain text with no support for formatting or data types.\n",
    "- **Complex features**: Excel provides advanced features like formulas, charts, pivot tables, and macros, which are not available in CSV files.\n",
    "- **Error checking and validation**: Excel has built-in data validation tools and can highlight errors or inconsistencies in the data, which is not possible with CSV files.\n",
    "- **File size and performance**: Excel files can store more complex data, such as images and links, while CSV files may struggle with very large datasets and lack structure beyond raw data.\n",
    "\n",
    "While CSV files are more portable and lightweight, Excel provides enhanced functionality for data analysis and presentation.\n"
   ]
  },
  {
   "cell_type": "markdown",
   "id": "bb7408cd-8f42-4fe8-b6e5-b9f80832dc6f",
   "metadata": {},
   "source": [
    "### 2. What do you pass to `csv.reader()` and `csv.writer()` to create reader and writer objects?\n",
    "\n",
    "To create `reader` and `writer` objects with the `csv` module in Python, you need to pass a **file object** to both `csv.reader()` and `csv.writer()`.\n",
    "\n",
    "#### Example for `csv.reader()`:\n",
    "```python\n",
    "import csv\n",
    "\n",
    "with open('example.csv', mode='r') as file:\n",
    "    reader = csv.reader(file)\n",
    "    for row in reader:\n",
    "        print(row)\n",
    "```\n",
    "#### Example for `csv.writer()`:\n",
    "```python\n",
    "import csv\n",
    "\n",
    "with open('output.csv', mode='w', newline='') as file:\n",
    "    writer = csv.writer(file)\n",
    "    writer.writerow(['Name', 'Age', 'City'])\n",
    "    writer.writerow(['Alice', 30, 'New York'])\n",
    "```\n"
   ]
  },
  {
   "cell_type": "markdown",
   "id": "099e01fc-417f-4379-8977-b9ed8d6e55c2",
   "metadata": {},
   "source": [
    "### 3. What modes do File objects for reader and writer objects need to be opened in?\n",
    "\n",
    "For `csv.reader()` and `csv.writer()` objects, the file objects need to be opened in the following modes:\n",
    "\n",
    "- **`csv.reader()`**: The file must be opened in **read mode (`'r'`)**. This allows the reader to access and read the contents of the CSV file.\n",
    "  \n",
    "- **`csv.writer()`**: The file must be opened in **write mode (`'w'`)** or **append mode (`'a'`)**. The write mode allows the writer to write new data to the CSV file, while append mode allows adding data to an existing file without overwriting it.\n",
    "\n",
    "#### Example for `csv.reader()`:\n",
    "```python\n",
    "import csv\n",
    "\n",
    "with open('example.csv', mode='r') as file:\n",
    "    reader = csv.reader(file)\n",
    "    for row in reader:\n",
    "        print(row)\n",
    "```\n",
    "#### Example for `csv.writer()`:\n",
    "```python\n",
    "import csv\n",
    "\n",
    "with open('output.csv', mode='w', newline='') as file:\n",
    "    writer = csv.writer(file)\n",
    "    writer.writerow(['Name', 'Age', 'City'])\n",
    "    writer.writerow(['Alice', 30, 'New York'])\n"
   ]
  },
  {
   "cell_type": "markdown",
   "id": "7a737dc2-dca2-414a-adf1-bcd414f2e66e",
   "metadata": {},
   "source": [
    "### 4. What method takes a list argument and writes it to a CSV file?\n",
    "\n",
    "The method `csv.writer().writerow()` takes a list (or iterable) as an argument and writes it as a row to a CSV file.\n",
    "\n",
    "#### Example:\n",
    "```python\n",
    "import csv\n",
    "\n",
    "# Open a CSV file in write mode\n",
    "with open('output.csv', mode='w', newline='') as file:\n",
    "    writer = csv.writer(file)\n",
    "    \n",
    "    # Write a list as a row in the CSV file\n",
    "    writer.writerow(['Name', 'Age', 'City'])\n",
    "    writer.writerow(['Alice', 30, 'New York'])\n"
   ]
  },
  {
   "cell_type": "markdown",
   "id": "e56e10eb-b8d0-47a8-80f8-8671d61e7362",
   "metadata": {},
   "source": [
    "### 5. What do the keyword arguments `delimiter` and `line_terminator` do?\n",
    "\n",
    "- **`delimiter`**: This argument specifies the character used to separate fields (columns) in the CSV file. By default, the delimiter is a comma (`,`), but you can change it to other characters like a tab (`\\t`), semicolon (`;`), or pipe (`|`) depending on the structure of your data.\n",
    "\n",
    "- **`line_terminator`**: This argument defines the character(s) that should be used to terminate rows in the CSV file. The default value is `'\\r\\n'` (for Windows), but you can change it to other characters like `'\\n'` for Unix/Linux style line endings or `'\\r'` for old Mac style.\n",
    "\n",
    "#### Example for `delimiter` and `line_terminator`:\n",
    "```python\n",
    "import csv\n",
    "\n",
    "data = [['Name', 'Age', 'City'], ['Alice', 30, 'New York'], ['Bob', 25, 'Los Angeles']]\n",
    "\n",
    "# Write data with custom delimiter and line terminator\n",
    "with open('output.csv', mode='w', newline='') as file:\n",
    "    writer = csv.writer(file, delimiter=';', line_terminator='\\n')\n",
    "    writer.writerows(data)\n"
   ]
  },
  {
   "cell_type": "markdown",
   "id": "d9034f5d-330d-4048-b45e-6a641ccba698",
   "metadata": {},
   "source": [
    "### 6. What function takes a string of JSON data and returns a Python data structure?\n",
    "\n",
    "The function `json.loads()` (which stands for \"load string\") takes a string of JSON data and converts it into a corresponding Python data structure (such as a dictionary, list, etc.).\n",
    "\n",
    "#### Example:\n",
    "```python\n",
    "import json\n",
    "\n",
    "# JSON string\n",
    "json_data = '{\"name\": \"Alice\", \"age\": 30, \"city\": \"New York\"}'\n",
    "\n",
    "# Convert JSON string to Python data structure\n",
    "python_data = json.loads(json_data)\n",
    "\n",
    "# Print the Python data structure\n",
    "print(python_data)\n"
   ]
  },
  {
   "cell_type": "markdown",
   "id": "69dd5521-e3f0-4fa7-b882-f301a789c300",
   "metadata": {},
   "source": [
    "### 7. What function takes a Python data structure and returns a string of JSON data?\n",
    "\n",
    "The function `json.dumps()` (which stands for \"dump string\") takes a Python data structure (such as a dictionary, list, etc.) and converts it into a corresponding JSON string.\n",
    "\n",
    "#### Example:\n",
    "```python\n",
    "import json\n",
    "\n",
    "# Python data structure\n",
    "python_data = {'name': 'Alice', 'age': 30, 'city': 'New York'}\n",
    "\n",
    "# Convert Python data structure to JSON string\n",
    "json_data = json.dumps(python_data)\n",
    "\n",
    "# Print the JSON string\n",
    "print(json_data)\n"
   ]
  },
  {
   "cell_type": "code",
   "execution_count": null,
   "id": "3a51ab0f-4651-4469-ae6c-a6c347d0152a",
   "metadata": {},
   "outputs": [],
   "source": []
  }
 ],
 "metadata": {
  "kernelspec": {
   "display_name": "Python 3 (ipykernel)",
   "language": "python",
   "name": "python3"
  },
  "language_info": {
   "codemirror_mode": {
    "name": "ipython",
    "version": 3
   },
   "file_extension": ".py",
   "mimetype": "text/x-python",
   "name": "python",
   "nbconvert_exporter": "python",
   "pygments_lexer": "ipython3",
   "version": "3.11.5"
  }
 },
 "nbformat": 4,
 "nbformat_minor": 5
}
