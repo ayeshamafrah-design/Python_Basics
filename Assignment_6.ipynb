{
 "cells": [
  {
   "cell_type": "markdown",
   "id": "9f02fdd1",
   "metadata": {},
   "source": [
    "## 1.Question\n",
    "\n",
    "What are escape characters, and how do you use them?\n",
    "\n",
    "## Answer\n",
    "\n",
    "Escape characters are special characters in strings that are used to represent characters that are difficult or impossible to type directly. They are preceded by a backslash (`\\`) in the string and are used to perform various tasks such as inserting newlines, tabs, or special characters into a string.\n",
    "\n",
    "Here are some common escape characters and their meanings:\n",
    "\n",
    "- `\\n`: Newline - Inserts a newline character.\n",
    "- `\\t`: Tab - Inserts a tab character.\n",
    "- `\\\\`: Backslash - Inserts a single backslash character.\n",
    "- `\\'`: Single Quote - Inserts a single quote character.\n",
    "- `\\\"`: Double Quote - Inserts a double quote character.\n",
    "\n",
    "Example:"
   ]
  },
  {
   "cell_type": "code",
   "execution_count": 4,
   "id": "cbeb0613",
   "metadata": {},
   "outputs": [
    {
     "name": "stdout",
     "output_type": "stream",
     "text": [
      "Hello\n",
      "ineuron\n"
     ]
    }
   ],
   "source": [
    "print(\"Hello\\nineuron\")"
   ]
  },
  {
   "cell_type": "code",
   "execution_count": 5,
   "id": "80a9c2fc",
   "metadata": {},
   "outputs": [
    {
     "name": "stdout",
     "output_type": "stream",
     "text": [
      "Hello\tineuron\n"
     ]
    }
   ],
   "source": [
    "print(\"Hello\\tineuron\")"
   ]
  },
  {
   "cell_type": "code",
   "execution_count": 8,
   "id": "7007653a",
   "metadata": {},
   "outputs": [
    {
     "name": "stdout",
     "output_type": "stream",
     "text": [
      "I'm learning Python\n"
     ]
    }
   ],
   "source": [
    "print(\"I\\'m learning Python\")"
   ]
  },
  {
   "cell_type": "markdown",
   "id": "e1cb6a17",
   "metadata": {},
   "source": [
    "## 2.Question\n",
    "\n",
    "What do the escape characters `\\n` and `\\t` stand for?\n",
    "\n",
    "## Answer\n",
    "\n",
    "- `\\n`: The escape character `\\n` stands for a newline. When used in a string, it inserts a newline character, causing the text after it to start on a new line.\n",
    "- `\\t`: The escape character `\\t` stands for a tab. When used in a string, it inserts a tab character, which typically causes the text after it to be indented with spaces.\n",
    "\n",
    "Example:\n"
   ]
  },
  {
   "cell_type": "code",
   "execution_count": 9,
   "id": "e90c57ec",
   "metadata": {},
   "outputs": [
    {
     "name": "stdout",
     "output_type": "stream",
     "text": [
      "Hello\n",
      "ineuron\n"
     ]
    }
   ],
   "source": [
    "print(\"Hello\\nineuron\")"
   ]
  },
  {
   "cell_type": "code",
   "execution_count": 10,
   "id": "c19f17d5",
   "metadata": {},
   "outputs": [
    {
     "name": "stdout",
     "output_type": "stream",
     "text": [
      "Hello\tineuron\n"
     ]
    }
   ],
   "source": [
    "print(\"Hello\\tineuron\")"
   ]
  },
  {
   "cell_type": "markdown",
   "id": "8a254633",
   "metadata": {},
   "source": [
    "## 3.Question\n",
    "\n",
    "What is the way to include backslash characters in a string?\n",
    "\n",
    "## Answer\n",
    "\n",
    "To include a backslash character (`\\`) in a string, you need to escape it by using another backslash before it. This tells Python to treat the following backslash as a literal character and not as the start of an escape sequence.\n",
    "\n",
    "Example:\n"
   ]
  },
  {
   "cell_type": "code",
   "execution_count": 14,
   "id": "d5dac3dd",
   "metadata": {},
   "outputs": [
    {
     "name": "stdout",
     "output_type": "stream",
     "text": [
      "This is a backslash: \\\n"
     ]
    }
   ],
   "source": [
    "print(\"This is a backslash: \\\\\")"
   ]
  },
  {
   "cell_type": "markdown",
   "id": "06182952",
   "metadata": {},
   "source": [
    "## 4. Question\n",
    "\n",
    "The string \"Howl's Moving Castle\" is a correct value. Why isn't the single quote character in the word \"Howl's\" not escaped a problem?\n",
    "\n",
    "## Answer\n",
    "\n",
    "In Python, you can use single quotes (`'`) to define a string and double quotes (`\"`) to define a string as well. This means that you can use single quotes within a string defined with double quotes, and vice versa, without needing to escape them.\n",
    "\n",
    "For example:\n"
   ]
  },
  {
   "cell_type": "code",
   "execution_count": 11,
   "id": "f44f07b6",
   "metadata": {},
   "outputs": [
    {
     "name": "stdout",
     "output_type": "stream",
     "text": [
      "Howl's Moving Castle\n"
     ]
    }
   ],
   "source": [
    "print(\"Howl's Moving Castle\")"
   ]
  },
  {
   "cell_type": "code",
   "execution_count": 12,
   "id": "8c0c0bf5",
   "metadata": {},
   "outputs": [
    {
     "name": "stdout",
     "output_type": "stream",
     "text": [
      "She said, \"Hello\"\n"
     ]
    }
   ],
   "source": [
    "print('She said, \"Hello\"') "
   ]
  },
  {
   "cell_type": "markdown",
   "id": "c8f596e4",
   "metadata": {},
   "source": [
    "In the string \"Howl's Moving Castle\", the single quote in \"Howl's\" is not a problem because the entire string is enclosed in double quotes. Python recognizes the single quote as part of the string and does not interpret it as the end of the string."
   ]
  },
  {
   "cell_type": "markdown",
   "id": "af14d276",
   "metadata": {},
   "source": [
    "## 5.Question\n",
    "\n",
    "How do you write a string of newlines if you don't want to use the `\\n` character?\n",
    "\n",
    "## Answer\n",
    "\n",
    "If you don't want to use the `\\n` escape character to represent a newline in a string, you can use triple quotes (`'''` or `\"\"\"`) to create a multiline string. This allows you to write the string across multiple lines in your code, and each line break will be treated as a newline character in the resulting string.\n",
    "\n",
    "Example:\n"
   ]
  },
  {
   "cell_type": "code",
   "execution_count": 13,
   "id": "b44ca888",
   "metadata": {},
   "outputs": [
    {
     "name": "stdout",
     "output_type": "stream",
     "text": [
      "This is a\n",
      "multiline\n",
      "string\n"
     ]
    }
   ],
   "source": [
    "multiline_string = '''This is a\n",
    "multiline\n",
    "string'''\n",
    "print(multiline_string)"
   ]
  },
  {
   "cell_type": "markdown",
   "id": "ab1b767c",
   "metadata": {},
   "source": [
    "## 6.Question\n",
    "\n",
    "What are the values of the given expressions?\n",
    "1. `'Hello, world!'[1]`\n",
    "2. `'Hello, world!'[0:5]`\n",
    "3. `'Hello, world!'[:5]`\n",
    "4. `'Hello, world!'[3:]`\n",
    "\n",
    "## Answer\n",
    "\n",
    "1. `'Hello, world!'[1]` returns the character at index 1, which is `'e'`.\n",
    "2. `'Hello, world!'[0:5]` returns the substring from index 0 to 4 (5 is exclusive), which is `'Hello'`.\n",
    "3. `'Hello, world!'[:5]` is equivalent to `'Hello, world!'[0:5]` and returns the substring from index 0 to 4, which is `'Hello'`.\n",
    "4. `'Hello, world!'[3:]` returns the substring from index 3 to the end of the string, which is `'lo, world!'`.\n"
   ]
  },
  {
   "cell_type": "code",
   "execution_count": 16,
   "id": "7a5755fc",
   "metadata": {},
   "outputs": [
    {
     "data": {
      "text/plain": [
       "'e'"
      ]
     },
     "execution_count": 16,
     "metadata": {},
     "output_type": "execute_result"
    }
   ],
   "source": [
    "'Hello, world!'[1]"
   ]
  },
  {
   "cell_type": "code",
   "execution_count": 17,
   "id": "0d977442",
   "metadata": {},
   "outputs": [
    {
     "data": {
      "text/plain": [
       "'Hello'"
      ]
     },
     "execution_count": 17,
     "metadata": {},
     "output_type": "execute_result"
    }
   ],
   "source": [
    "'Hello, world!'[0:5]"
   ]
  },
  {
   "cell_type": "code",
   "execution_count": 18,
   "id": "c3d578ec",
   "metadata": {},
   "outputs": [
    {
     "data": {
      "text/plain": [
       "'Hello'"
      ]
     },
     "execution_count": 18,
     "metadata": {},
     "output_type": "execute_result"
    }
   ],
   "source": [
    "'Hello, world!'[:5]"
   ]
  },
  {
   "cell_type": "code",
   "execution_count": 19,
   "id": "18a60887",
   "metadata": {},
   "outputs": [
    {
     "data": {
      "text/plain": [
       "'lo, world!'"
      ]
     },
     "execution_count": 19,
     "metadata": {},
     "output_type": "execute_result"
    }
   ],
   "source": [
    "'Hello, world!'[3:]"
   ]
  },
  {
   "cell_type": "markdown",
   "id": "7ffdf558",
   "metadata": {},
   "source": [
    "## 7.Question\n",
    "\n",
    "What are the values of the following expressions?\n",
    "1. `'Hello'.upper()`\n",
    "2. `'Hello'.upper().isupper()`\n",
    "3. `'Hello'.upper().lower()`\n",
    "\n",
    "## Answer\n",
    "\n",
    "1. `'Hello'.upper()` returns `'HELLO'`, as it converts all characters in the string to uppercase.\n",
    "2. `'Hello'.upper().isupper()` first converts `'Hello'` to `'HELLO'` using the `upper()` method and then checks if all characters in the string are uppercase, which is `True`.\n",
    "3. `'Hello'.upper().lower()` first converts `'Hello'` to `'HELLO'` using the `upper()` method and then converts `'HELLO'` to `'hello'` using the `lower()` method, resulting in `'hello'`.\n"
   ]
  },
  {
   "cell_type": "code",
   "execution_count": 20,
   "id": "266000b8",
   "metadata": {},
   "outputs": [
    {
     "data": {
      "text/plain": [
       "'HELLO'"
      ]
     },
     "execution_count": 20,
     "metadata": {},
     "output_type": "execute_result"
    }
   ],
   "source": [
    "'Hello'.upper()"
   ]
  },
  {
   "cell_type": "code",
   "execution_count": 21,
   "id": "6e52ba98",
   "metadata": {},
   "outputs": [
    {
     "data": {
      "text/plain": [
       "True"
      ]
     },
     "execution_count": 21,
     "metadata": {},
     "output_type": "execute_result"
    }
   ],
   "source": [
    "'Hello'.upper().isupper()"
   ]
  },
  {
   "cell_type": "code",
   "execution_count": 24,
   "id": "9ec3dc52",
   "metadata": {},
   "outputs": [
    {
     "data": {
      "text/plain": [
       "'hello'"
      ]
     },
     "execution_count": 24,
     "metadata": {},
     "output_type": "execute_result"
    }
   ],
   "source": [
    "'Hello'.upper().lower()"
   ]
  },
  {
   "cell_type": "markdown",
   "id": "5c8f77da",
   "metadata": {},
   "source": [
    "## 8.Question\n",
    "\n",
    "What are the values of the following expressions?\n",
    "1. `'Remember, remember, the fifth of July.'.split()`\n",
    "2. `'-'.join('There can only one.'.split())`\n",
    "\n",
    "## Answer\n",
    "\n",
    "1. `'Remember, remember, the fifth of July.'.split()` splits the string at whitespace characters and returns a list of the individual words: `['Remember,', 'remember,', 'the', 'fifth', 'of', 'July.']`.\n",
    "2. `'-'.join('There can only one.'.split())` splits the string at whitespace characters, resulting in `['There', 'can', 'only', 'one.']`, and then joins these words using `'-'` as the separator, producing the string `'There-can-only-one.'`.\n"
   ]
  },
  {
   "cell_type": "code",
   "execution_count": 25,
   "id": "d01a9337",
   "metadata": {},
   "outputs": [
    {
     "data": {
      "text/plain": [
       "['Remember,', 'remember,', 'the', 'fifth', 'of', 'July.']"
      ]
     },
     "execution_count": 25,
     "metadata": {},
     "output_type": "execute_result"
    }
   ],
   "source": [
    "'Remember, remember, the fifth of July.'.split()"
   ]
  },
  {
   "cell_type": "code",
   "execution_count": 26,
   "id": "e4727e6e",
   "metadata": {},
   "outputs": [
    {
     "data": {
      "text/plain": [
       "'There-can-only-one.'"
      ]
     },
     "execution_count": 26,
     "metadata": {},
     "output_type": "execute_result"
    }
   ],
   "source": [
    "'-'.join('There can only one.'.split())"
   ]
  },
  {
   "cell_type": "markdown",
   "id": "141ccf08",
   "metadata": {},
   "source": [
    "## 9.Question\n",
    "\n",
    "What are the methods for right-justifying, left-justifying, and centering a string?\n",
    "\n",
    "## Answer\n",
    "\n",
    "In Python, you can use the following string methods to adjust the alignment of a string within a specified width:\n",
    "\n",
    "1. **Right-justifying:** The `rjust(width, fillchar)` method right-justifies a string within a field of a specified width. It pads the left side of the string with characters from `fillchar` (default is space) until the string reaches the specified width.\n",
    "\n",
    "Example:\n",
    " "
   ]
  },
  {
   "cell_type": "code",
   "execution_count": 27,
   "id": "fe3021f8",
   "metadata": {},
   "outputs": [
    {
     "name": "stdout",
     "output_type": "stream",
     "text": [
      "*****Hello\n"
     ]
    }
   ],
   "source": [
    "text = 'Hello'\n",
    "right_justified = text.rjust(10, '*')\n",
    "print(right_justified)  "
   ]
  },
  {
   "cell_type": "markdown",
   "id": "9e684a40",
   "metadata": {},
   "source": [
    "2. **Left-justifying:** The `ljust(width, fillchar)` method left-justifies a string within a field of a specified width. It pads the right side of the string with characters from `fillchar` (default is space) until the string reaches the specified width.\n",
    "\n",
    "Example:"
   ]
  },
  {
   "cell_type": "code",
   "execution_count": 28,
   "id": "b0077e5f",
   "metadata": {},
   "outputs": [
    {
     "name": "stdout",
     "output_type": "stream",
     "text": [
      "Hello*****\n"
     ]
    }
   ],
   "source": [
    "text = 'Hello'\n",
    "left_justified = text.ljust(10, '*')\n",
    "print(left_justified) "
   ]
  },
  {
   "cell_type": "markdown",
   "id": "4a0254b7",
   "metadata": {},
   "source": [
    "3. **Centering:** The `center(width, fillchar)` method centers a string within a field of a specified width. It pads both sides of the string with characters from `fillchar` (default is space) until the string reaches the specified width, with the extra padding being added to the right side if the total padding required is an odd number.\n",
    "\n",
    "Example:"
   ]
  },
  {
   "cell_type": "code",
   "execution_count": 29,
   "id": "afeb5957",
   "metadata": {},
   "outputs": [
    {
     "name": "stdout",
     "output_type": "stream",
     "text": [
      "**Hello***\n"
     ]
    }
   ],
   "source": [
    "text = 'Hello'\n",
    "centered = text.center(10, '*')\n",
    "print(centered)"
   ]
  },
  {
   "cell_type": "markdown",
   "id": "664e6057",
   "metadata": {},
   "source": [
    "## 10.Question\n",
    "\n",
    "What is the best way to remove whitespace characters from the start or end?\n",
    "\n",
    "## Answer\n",
    "\n",
    "In Python, you can use the `strip()` method to remove whitespace characters from the start and end of a string. This method removes leading (at the start) and trailing (at the end) whitespace characters, including spaces, tabs, and newline characters.\n",
    "\n",
    "Example:\n",
    "\n"
   ]
  },
  {
   "cell_type": "code",
   "execution_count": 30,
   "id": "a2a9b7e2",
   "metadata": {},
   "outputs": [
    {
     "name": "stdout",
     "output_type": "stream",
     "text": [
      "Hello, world!\n"
     ]
    }
   ],
   "source": [
    "text = '  Hello, world!  '\n",
    "stripped_text = text.strip()\n",
    "print(stripped_text)"
   ]
  },
  {
   "cell_type": "markdown",
   "id": "5a338b0b",
   "metadata": {},
   "source": [
    "If you only want to remove whitespace from the start (leading) or end (trailing) of the string, you can use `lstrip()` to remove leading whitespace or `rstrip()` to remove trailing whitespace."
   ]
  },
  {
   "cell_type": "code",
   "execution_count": 31,
   "id": "664e3961",
   "metadata": {},
   "outputs": [
    {
     "name": "stdout",
     "output_type": "stream",
     "text": [
      "Hello, world!  \n",
      "  Hello, world!\n"
     ]
    }
   ],
   "source": [
    "text = '  Hello, world!  '\n",
    "left_stripped_text = text.lstrip()\n",
    "right_stripped_text = text.rstrip()\n",
    "print(left_stripped_text)  \n",
    "print(right_stripped_text) "
   ]
  },
  {
   "cell_type": "markdown",
   "id": "b27207e8",
   "metadata": {},
   "source": [
    "Using `strip()`, `lstrip()`, or `rstrip()` is the best way to remove whitespace characters from the start or end of a string, depending on your specific requirements."
   ]
  },
  {
   "cell_type": "code",
   "execution_count": null,
   "id": "159929cd",
   "metadata": {},
   "outputs": [],
   "source": []
  }
 ],
 "metadata": {
  "kernelspec": {
   "display_name": "Python 3 (ipykernel)",
   "language": "python",
   "name": "python3"
  },
  "language_info": {
   "codemirror_mode": {
    "name": "ipython",
    "version": 3
   },
   "file_extension": ".py",
   "mimetype": "text/x-python",
   "name": "python",
   "nbconvert_exporter": "python",
   "pygments_lexer": "ipython3",
   "version": "3.9.13"
  }
 },
 "nbformat": 4,
 "nbformat_minor": 5
}
