{
 "cells": [
  {
   "cell_type": "markdown",
   "id": "84777dec-1040-4ddf-a2fc-06047c78ead8",
   "metadata": {},
   "source": [
    "### Question 1:\n",
    "Create a function that takes three arguments `a`, `b`, `c` and returns the sum of the numbers that are evenly divided by `c` from the range `a` to `b` inclusive.\n",
    "\n",
    "- evenly_divisible(1, 10, 20) ➞ 0\n",
    "- evenly_divisible(1, 10, 2) ➞ 30\n",
    "- evenly_divisible(1, 10, 3) ➞ 18"
   ]
  },
  {
   "cell_type": "code",
   "execution_count": 1,
   "id": "9bfe406d-c417-475b-9004-a85b0263e385",
   "metadata": {},
   "outputs": [
    {
     "name": "stdout",
     "output_type": "stream",
     "text": [
      "0\n",
      "30\n",
      "18\n"
     ]
    }
   ],
   "source": [
    "def evenly_divisible(a, b, c):\n",
    "    return sum(i for i in range(a, b + 1) if i % c == 0)\n",
    "\n",
    "print(evenly_divisible(1, 10, 20))  \n",
    "print(evenly_divisible(1, 10, 2))   \n",
    "print(evenly_divisible(1, 10, 3))"
   ]
  },
  {
   "cell_type": "markdown",
   "id": "ecb1a21a-36bf-4bef-9318-7a1db7c282fd",
   "metadata": {},
   "source": [
    "### Question 2:\n",
    "Create a function that returns `True` if a given inequality expression is correct and `False` otherwise.\n",
    "\n",
    "- correct_signs(\"3 < 7 < 11\") ➞ True\n",
    "- correct_signs(\"13 > 44 > 33 > 1\") ➞ False\n",
    "- correct_signs(\"1 < 2 < 6 < 9 > 3\") ➞ True"
   ]
  },
  {
   "cell_type": "code",
   "execution_count": 3,
   "id": "e9807d2e-19db-4286-bc3b-456156a52958",
   "metadata": {},
   "outputs": [
    {
     "name": "stdout",
     "output_type": "stream",
     "text": [
      "True\n",
      "False\n",
      "True\n"
     ]
    }
   ],
   "source": [
    "def correct_signs(expression):\n",
    "    return eval(expression)\n",
    "\n",
    "print(correct_signs(\"3 < 7 < 11\"))       \n",
    "print(correct_signs(\"13 > 44 > 33 > 1\")) \n",
    "print(correct_signs(\"1 < 2 < 6 < 9 > 3\")) "
   ]
  },
  {
   "cell_type": "markdown",
   "id": "f8fc6f93-78f8-4d6e-b195-dcf420acf83d",
   "metadata": {},
   "source": [
    "### Question 3:\n",
    "Create a function that replaces all the vowels in a string with a specified character.\n",
    "\n",
    "- replace_vowels(\"the aardvark\", \"#\") ➞ \"th# ##rdv#rk\"\n",
    "- replace_vowels(\"minnie mouse\", \"?\") ➞ \"m?nn?? m??s?\"\n",
    "- replace_vowels(\"shakespeare\", \"*\") ➞ \"sh*k*sp**r*\""
   ]
  },
  {
   "cell_type": "code",
   "execution_count": 4,
   "id": "57d36221-25cb-40c4-bbb8-03407ddc0e93",
   "metadata": {},
   "outputs": [
    {
     "name": "stdout",
     "output_type": "stream",
     "text": [
      "th# ##rdv#rk\n",
      "m?nn?? m??s?\n",
      "sh*k*sp**r*\n"
     ]
    }
   ],
   "source": [
    "def replace_vowels(s, char):\n",
    "    vowels = \"aeiouAEIOU\"\n",
    "    return ''.join(char if ch in vowels else ch for ch in s)\n",
    "\n",
    "print(replace_vowels(\"the aardvark\", \"#\"))   \n",
    "print(replace_vowels(\"minnie mouse\", \"?\"))  \n",
    "print(replace_vowels(\"shakespeare\", \"*\"))  "
   ]
  },
  {
   "cell_type": "markdown",
   "id": "48d26fa4-409d-48de-9599-d5f7aed1a56c",
   "metadata": {},
   "source": [
    "### Question 4:\n",
    "Write a function that calculates the factorial of a number recursively.\n",
    "\n",
    "- factorial(5) ➞ 120\n",
    "- factorial(3) ➞ 6\n",
    "- factorial(1) ➞ 1\n",
    "- factorial(0) ➞ 1"
   ]
  },
  {
   "cell_type": "code",
   "execution_count": 6,
   "id": "4361a09d-8320-4fa6-9867-0752031e7ff8",
   "metadata": {},
   "outputs": [
    {
     "name": "stdout",
     "output_type": "stream",
     "text": [
      "120\n",
      "6\n",
      "1\n",
      "1\n"
     ]
    }
   ],
   "source": [
    "def factorial(n):\n",
    "    if n == 0 or n == 1:\n",
    "        return 1\n",
    "    return n * factorial(n - 1)\n",
    "\n",
    "print(factorial(5))  \n",
    "print(factorial(3))  \n",
    "print(factorial(1)) \n",
    "print(factorial(0)) "
   ]
  },
  {
   "cell_type": "markdown",
   "id": "758cdb89-0dc1-4a44-824d-b72075ba3d07",
   "metadata": {},
   "source": [
    "### Question 5:\n",
    "Hamming distance is the number of characters that differ between two strings.\n",
    "\n",
    "- hamming_distance(\"abcde\", \"bcdef\") ➞ 5\n",
    "- hamming_distance(\"abcde\", \"abcde\") ➞ 0\n",
    "- hamming_distance(\"strong\", \"strung\") ➞ 1"
   ]
  },
  {
   "cell_type": "code",
   "execution_count": 7,
   "id": "d5b14186-8c0b-44f7-a53e-a91c137ec5cc",
   "metadata": {},
   "outputs": [
    {
     "name": "stdout",
     "output_type": "stream",
     "text": [
      "5\n",
      "0\n",
      "1\n"
     ]
    }
   ],
   "source": [
    "def hamming_distance(s1, s2):\n",
    "    if len(s1) != len(s2):\n",
    "        raise ValueError(\"Strings must be of the same length\")\n",
    "    return sum(ch1 != ch2 for ch1, ch2 in zip(s1, s2))\n",
    "\n",
    "print(hamming_distance(\"abcde\", \"bcdef\"))  \n",
    "print(hamming_distance(\"abcde\", \"abcde\"))  \n",
    "print(hamming_distance(\"strong\", \"strung\"))"
   ]
  }
 ],
 "metadata": {
  "kernelspec": {
   "display_name": "Python 3 (ipykernel)",
   "language": "python",
   "name": "python3"
  },
  "language_info": {
   "codemirror_mode": {
    "name": "ipython",
    "version": 3
   },
   "file_extension": ".py",
   "mimetype": "text/x-python",
   "name": "python",
   "nbconvert_exporter": "python",
   "pygments_lexer": "ipython3",
   "version": "3.11.5"
  }
 },
 "nbformat": 4,
 "nbformat_minor": 5
}
