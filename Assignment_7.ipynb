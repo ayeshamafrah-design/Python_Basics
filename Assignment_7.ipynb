{
 "cells": [
  {
   "cell_type": "markdown",
   "id": "ee291378-112f-477c-ad6f-a006bf051a00",
   "metadata": {},
   "source": [
    "## 1.Question\n",
    "\n",
    "What is the name of the feature responsible for generating Regex objects?\n",
    "\n",
    "## Answer\n",
    "\n",
    "In Python, the `re` module is responsible for generating Regex (regular expression) objects. The `re` module provides support for working with regular expressions, which are powerful tools for pattern matching and text manipulation.\n",
    "\n",
    "To use regular expressions in Python, you first need to import the `re` module. Then, you can use functions like `re.compile()` to create a Regex object that represents a regular expression pattern.\n",
    "\n",
    "Example:\n"
   ]
  },
  {
   "cell_type": "code",
   "execution_count": 3,
   "id": "24497b3a-53f0-4b24-9c28-8032ead1854e",
   "metadata": {},
   "outputs": [],
   "source": [
    "import re\n",
    "\n",
    "pattern = re.compile(r'\\b[A-Za-z]+\\b')"
   ]
  },
  {
   "cell_type": "markdown",
   "id": "a3402a36-14a9-44f0-9405-c6ca76a29d6b",
   "metadata": {},
   "source": [
    "## 2. Question\n",
    "\n",
    "Why do raw strings often appear in Regex objects?\n",
    "\n",
    "## Answer\n",
    "\n",
    "Raw strings (strings prefixed with `r`) are often used in Regex objects to avoid issues with backslashes (`\\`). In Python, backslashes are used as escape characters in regular strings, which can lead to problems when working with regex patterns that also use backslashes as metacharacters.\n",
    "\n",
    "For example, consider the regex pattern `\\d+`, which matches one or more digits. In a regular string, you would need to escape the backslash like this: `\\\\d+`. However, in a raw string, you can use `\\d+` directly without escaping the backslash: `r'\\d+'`.\n",
    "\n",
    "Using raw strings makes regex patterns more readable and reduces the likelihood of errors caused by incorrect handling of backslashes. Therefore, it's a common practice to use raw strings in Regex objects in Python.\n"
   ]
  },
  {
   "cell_type": "markdown",
   "id": "0afced33-1eda-4cf2-a7af-e362848c9d44",
   "metadata": {},
   "source": [
    "## 3. Question\n",
    "\n",
    "What is the return value of the `search()` method?\n",
    "\n",
    "## Answer\n",
    "\n",
    "The `search()` method in the `re` module in Python is used to search for a specified pattern in a string. It returns a match object if the pattern is found, and `None` if the pattern is not found.\n",
    "\n",
    "A match object contains information about the match, including the matched string, the start and end positions of the match in the input string, and any captured groups.\n",
    "\n",
    "Example:"
   ]
  },
  {
   "cell_type": "code",
   "execution_count": 8,
   "id": "bcbebd24-e1cd-43d7-b263-d52c184ceef2",
   "metadata": {},
   "outputs": [
    {
     "name": "stdout",
     "output_type": "stream",
     "text": [
      "Match found: 123\n"
     ]
    }
   ],
   "source": [
    "import re\n",
    "\n",
    "pattern = r'\\b\\d{3}\\b'\n",
    "text = 'The code is 123 and 456'\n",
    "match = re.search(pattern, text)\n",
    "\n",
    "if match:\n",
    "    print('Match found:', match.group())\n",
    "else:\n",
    "    print('No match found')\n"
   ]
  },
  {
   "cell_type": "markdown",
   "id": "90e34b1f-b36c-4350-b2d7-81c71def882e",
   "metadata": {},
   "source": [
    "## 4. Question\n",
    "\n",
    "From a Match item, how do you get the actual strings that match the pattern?\n",
    "\n",
    "## Answer\n",
    "\n",
    "In Python's `re` module, when you use the `search()` or `findall()` method to find matches for a pattern in a string, you get a Match object. To get the actual strings that match the pattern from a Match object, you can use the `group()` method.\n",
    "\n",
    "The `group()` method returns the string matched by the regular expression. If the regular expression contains capturing groups (defined by parentheses `()`), you can specify the group number as an argument to `group()` to get the string matched by that specific group.\n",
    "\n",
    "Example:\n"
   ]
  },
  {
   "cell_type": "code",
   "execution_count": 9,
   "id": "dd405b13-93c2-434f-a558-79b7f392b977",
   "metadata": {},
   "outputs": [
    {
     "name": "stdout",
     "output_type": "stream",
     "text": [
      "Match found: 123\n"
     ]
    }
   ],
   "source": [
    "import re\n",
    "\n",
    "pattern = r'\\b\\d{3}\\b'\n",
    "text = 'The code is 123 and 456'\n",
    "match = re.search(pattern, text)\n",
    "\n",
    "if match:\n",
    "    print('Match found:', match.group())\n",
    "else:\n",
    "    print('No match found')\n"
   ]
  },
  {
   "cell_type": "markdown",
   "id": "f561f7cf-72ca-417f-8e2b-91bfc6b39523",
   "metadata": {},
   "source": [
    "If you have capturing groups in your regular expression pattern, you can use match.group(n) to get the string matched by the n-th group, where n is the group number (starting from 1)."
   ]
  },
  {
   "cell_type": "code",
   "execution_count": 12,
   "id": "3f830012-f98e-4f1f-bb03-d479c7572e31",
   "metadata": {},
   "outputs": [
    {
     "name": "stdout",
     "output_type": "stream",
     "text": [
      "First group: 123\n",
      "Second group: 456\n"
     ]
    }
   ],
   "source": [
    "pattern = r'(\\b\\d{3}\\b) and (\\b\\d{3}\\b)'\n",
    "text = 'The code is 123 and 456'\n",
    "match = re.search(pattern, text)\n",
    "\n",
    "if match:\n",
    "    print('First group:', match.group(1))\n",
    "    print('Second group:', match.group(2))\n",
    "else:\n",
    "    print('No match found')\n"
   ]
  },
  {
   "cell_type": "markdown",
   "id": "2fa8b3b4-eb1e-4a30-ba84-5905e3de8f63",
   "metadata": {},
   "source": [
    "## 5.Question\n",
    "\n",
    "In the regex which is created from `r'(\\d\\d\\d)-(\\d\\d\\d-\\d\\d\\d\\d)'`, what does group zero cover? Group 2? Group 1?\n",
    "\n",
    "## Answer\n",
    "\n",
    "In a regex pattern, the groups are defined by parentheses `()`. In the regex `r'(\\d\\d\\d)-(\\d\\d\\d-\\d\\d\\d\\d)'`, there are two groups defined:\n",
    "\n",
    "- Group 0 (the entire match): The entire match of the pattern is considered as group 0. In this case, group 0 covers the entire matched string, including both the area code and the phone number, separated by a hyphen. To access group 0, you can use `match.group(0)`.\n",
    "\n",
    "- Group 1: The first group, `(\\d\\d\\d)`, matches and captures three digits (the area code) before the hyphen. To access group 1, you can use `match.group(1)`.\n",
    "\n",
    "- Group 2: The second group, `(\\d\\d\\d-\\d\\d\\d\\d)`, matches and captures the seven digits of the phone number after the hyphen. To access group 2, you can use `match.group(2)`.\n",
    "\n",
    "Example :"
   ]
  },
  {
   "cell_type": "code",
   "execution_count": 13,
   "id": "82540fd4-1fec-4ae5-80dd-252cc88b4831",
   "metadata": {},
   "outputs": [
    {
     "name": "stdout",
     "output_type": "stream",
     "text": [
      "Group 0 (entire match): 123-456-7890\n",
      "Group 1 (area code): 123\n",
      "Group 2 (phone number): 456-7890\n"
     ]
    }
   ],
   "source": [
    "import re\n",
    "\n",
    "pattern = r'(\\d\\d\\d)-(\\d\\d\\d-\\d\\d\\d\\d)'\n",
    "text = 'My phone number is 123-456-7890'\n",
    "match = re.search(pattern, text)\n",
    "\n",
    "if match:\n",
    "    print('Group 0 (entire match):', match.group(0))\n",
    "    print('Group 1 (area code):', match.group(1))\n",
    "    print('Group 2 (phone number):', match.group(2))\n",
    "else:\n",
    "    print('No match found')\n"
   ]
  },
  {
   "cell_type": "markdown",
   "id": "31b78d4f-25a6-4020-b77d-bed388531e08",
   "metadata": {},
   "source": [
    "## 6.Question\n",
    "\n",
    "In standard expression syntax, parentheses and intervals have distinct meanings. How can you tell a regex that you want it to match real parentheses and periods?\n",
    "\n",
    "## Answer\n",
    "\n",
    "In regex syntax, certain characters have special meanings (metacharacters), such as parentheses `(` and `)`, which are used for grouping, and periods `.`, which match any single character except newline. If you want to match these characters literally, you can use a backslash `\\` before the character to escape it.\n",
    "\n",
    "To match a literal parentheses or period in a regex pattern, you can use the backslash `\\` to escape the character. For example, to match a literal opening parenthesis `(`, you would use `\\(`, and to match a literal period `.`, you would use `\\.`.\n",
    "\n",
    "Example:"
   ]
  },
  {
   "cell_type": "code",
   "execution_count": 15,
   "id": "cc344554-86e3-4ce6-93fd-7d9d617228d1",
   "metadata": {},
   "outputs": [
    {
     "name": "stdout",
     "output_type": "stream",
     "text": [
      "Match found: (123) 456.7890\n"
     ]
    }
   ],
   "source": [
    "import re\n",
    "\n",
    "pattern = r'\\(\\d{3}\\) \\d{3}\\.\\d{4}'\n",
    "text = 'My phone number is (123) 456.7890'\n",
    "match = re.search(pattern, text)\n",
    "\n",
    "if match:\n",
    "    print('Match found:', match.group())\n",
    "else:\n",
    "    print('No match found')\n"
   ]
  },
  {
   "cell_type": "markdown",
   "id": "d792ca7f-056b-4bcc-a29b-e0af79f3de98",
   "metadata": {},
   "source": [
    "## 7. Question\n",
    "\n",
    "The `findall()` method returns a string list or a list of string tuples. What causes it to return one of the two options?\n",
    "\n",
    "## Answer\n",
    "\n",
    "The `findall()` method in the `re` module in Python returns a list of all non-overlapping matches of a pattern in a string. The return value of `findall()` depends on whether the pattern contains capturing groups (defined by parentheses `()`).\n",
    "\n",
    "1. If the pattern contains no capturing groups, `findall()` returns a list of strings, where each string is a match of the pattern in the input string.\n",
    "\n",
    "Example:\n"
   ]
  },
  {
   "cell_type": "code",
   "execution_count": 18,
   "id": "3cbbae0d-cabf-4585-ae36-b875e1de4c79",
   "metadata": {},
   "outputs": [
    {
     "name": "stdout",
     "output_type": "stream",
     "text": [
      "['123', '456']\n"
     ]
    }
   ],
   "source": [
    "import re\n",
    "\n",
    "text = 'Hello 123 and 456'\n",
    "pattern = r'\\d+'\n",
    "matches = re.findall(pattern, text)\n",
    "print(matches)"
   ]
  },
  {
   "cell_type": "markdown",
   "id": "610612e3-9939-458c-b291-2ff56acb2f07",
   "metadata": {},
   "source": [
    "2. If the pattern contains capturing groups, `findall()` returns a list of tuples, where each tuple contains the matched strings for each capturing group.\n",
    "\n",
    "Example:"
   ]
  },
  {
   "cell_type": "code",
   "execution_count": 24,
   "id": "9f229d24-e7a7-4cc9-b978-2cadd7f75109",
   "metadata": {},
   "outputs": [
    {
     "name": "stdout",
     "output_type": "stream",
     "text": [
      "[('John', '2', 'apples'), ('Mary', '3', 'oranges')]\n"
     ]
    }
   ],
   "source": [
    "import re\n",
    "\n",
    "text = 'John has 2 apples, and Mary has 3 oranges.'\n",
    "pattern = r'(\\w+) has (\\d+) (\\w+)'\n",
    "matches = re.findall(pattern, text)\n",
    "print(matches)\n"
   ]
  },
  {
   "cell_type": "markdown",
   "id": "596107af-0a85-442c-ac59-4d3baf664f63",
   "metadata": {},
   "source": [
    "## 8. Question\n",
    "\n",
    "In standard expressions, what does the `|` character mean?\n",
    "\n",
    "## Answer\n",
    "\n",
    "In standard expressions, specifically in programming languages like Python, the `|` character is used as a bitwise OR operator. It performs a bitwise OR operation between two integers.\n",
    "\n",
    "For example:"
   ]
  },
  {
   "cell_type": "code",
   "execution_count": 31,
   "id": "3f3b5ef6-e779-4686-b468-0c4a8cfd5289",
   "metadata": {},
   "outputs": [
    {
     "name": "stdout",
     "output_type": "stream",
     "text": [
      "7\n"
     ]
    }
   ],
   "source": [
    "a = 5  \n",
    "b = 3  \n",
    "result = a | b  \n",
    "print(result)   \n"
   ]
  },
  {
   "cell_type": "markdown",
   "id": "4cd6910f-0ea3-48a1-a061-a47f461a95a0",
   "metadata": {},
   "source": [
    "## 9.Question\n",
    "\n",
    "In regular expressions, what does the `|` character mean?\n",
    "\n",
    "## Answer\n",
    "\n",
    "In regular expressions (regex), the `|` character is used as a logical OR operator. It allows you to specify multiple alternatives for a pattern. The `|` character matches either the pattern on its left or the pattern on its right.\n",
    "\n",
    "For example, the regex `r'cat|dog'` matches either the string \"cat\" or the string \"dog\". If either \"cat\" or \"dog\" is found in the input string, it is considered a match.\n",
    "\n",
    "Example:"
   ]
  },
  {
   "cell_type": "code",
   "execution_count": 32,
   "id": "26f6064a-4aaf-4050-887a-d1c53b272325",
   "metadata": {},
   "outputs": [
    {
     "name": "stdout",
     "output_type": "stream",
     "text": [
      "['cat', 'dog']\n"
     ]
    }
   ],
   "source": [
    "import re\n",
    "\n",
    "text = 'I have a cat and a dog'\n",
    "pattern = r'cat|dog'\n",
    "matches = re.findall(pattern, text)\n",
    "print(matches)"
   ]
  },
  {
   "cell_type": "markdown",
   "id": "9869511c-bca6-4b83-a3c4-fdb7b95169dc",
   "metadata": {},
   "source": [
    "## 10.Question\n",
    "\n",
    "In regular expressions, what is the difference between the `+` and `*` characters?\n",
    "\n",
    "## Answer\n",
    "\n",
    "In regular expressions (regex), the `+` and `*` characters are quantifiers that specify how many times a preceding character or group can occur in a match.\n",
    "\n",
    "- The `+` character matches one or more occurrences of the preceding character or group. It requires at least one occurrence for a match.\n",
    "\n",
    "Example: \n"
   ]
  },
  {
   "cell_type": "code",
   "execution_count": 43,
   "id": "e9fac5c5-8c60-4e67-8894-0476012c7634",
   "metadata": {},
   "outputs": [
    {
     "name": "stdout",
     "output_type": "stream",
     "text": [
      "['aaaabbbb']\n"
     ]
    }
   ],
   "source": [
    "import re\n",
    "\n",
    "text = 'aaaabbbb'\n",
    "pattern = r'a+b+'\n",
    "matches = re.findall(pattern, text)\n",
    "print(matches)"
   ]
  },
  {
   "cell_type": "markdown",
   "id": "1965f79b-308d-46cb-9e57-07900f682d56",
   "metadata": {},
   "source": [
    "- The `*` character matches zero or more occurrences of the preceding character or group. It allows for zero occurrences as well."
   ]
  },
  {
   "cell_type": "code",
   "execution_count": 44,
   "id": "17578078-7a95-47fd-98c6-77c203eccd59",
   "metadata": {},
   "outputs": [
    {
     "name": "stdout",
     "output_type": "stream",
     "text": [
      "['aaaabbbb', '']\n"
     ]
    }
   ],
   "source": [
    "import re\n",
    "\n",
    "text = 'aaaabbbb'\n",
    "pattern = r'a*b*'\n",
    "matches = re.findall(pattern, text)\n",
    "print(matches)\n"
   ]
  },
  {
   "cell_type": "markdown",
   "id": "43c6038e-e9df-42d9-9202-7d0cc0af6fc7",
   "metadata": {},
   "source": [
    "## 11.Question\n",
    "\n",
    "What is the difference between `{4}` and `{4,5}` in regular expressions?\n",
    "\n",
    "## Answer\n",
    "\n",
    "In regular expressions (regex), `{4}` and `{4,5}` are quantifiers that specify the exact number of occurrences of a preceding character or group.\n",
    "\n",
    "- `{4}` specifies exactly 4 occurrences of the preceding character or group.\n",
    "\n",
    "Example: "
   ]
  },
  {
   "cell_type": "code",
   "execution_count": 49,
   "id": "65ba822a-4778-4f3f-9250-b01e91d8ca71",
   "metadata": {},
   "outputs": [
    {
     "name": "stdout",
     "output_type": "stream",
     "text": [
      "['aaaabbbb']\n"
     ]
    }
   ],
   "source": [
    "import re\n",
    "\n",
    "text = 'aaaabbbb'\n",
    "pattern = r'a{4}b{4}'\n",
    "matches = re.findall(pattern, text)\n",
    "print(matches)"
   ]
  },
  {
   "cell_type": "markdown",
   "id": "851175db-67a8-4506-88ac-21cbbaca95ae",
   "metadata": {},
   "source": [
    "- `{4,5}` specifies a range of occurrences, from 4 to 5, of the preceding character or group."
   ]
  },
  {
   "cell_type": "code",
   "execution_count": 59,
   "id": "aef30688-fc1f-42fa-89ce-65aaa15cd385",
   "metadata": {},
   "outputs": [
    {
     "name": "stdout",
     "output_type": "stream",
     "text": [
      "['aaaabbbb']\n"
     ]
    }
   ],
   "source": [
    "import re\n",
    "\n",
    "text = 'aaaabbbb'\n",
    "pattern = r'a{4,5}b{4,5}'\n",
    "matches = re.findall(pattern, text)\n",
    "print(matches)\n"
   ]
  },
  {
   "cell_type": "markdown",
   "id": "dd2646d3-8e99-4fac-bcdf-36e6293f2950",
   "metadata": {},
   "source": [
    "## 12. Question\n",
    "\n",
    "What do you mean by the `\\d`, `\\w`, and `\\s` shorthand character classes signify in regular expressions?\n",
    "\n",
    "## Answer\n",
    "\n",
    "In regular expressions, the `\\d`, `\\w`, and `\\s` are shorthand character classes that represent certain types of characters:\n",
    "\n",
    "- `\\d`: Represents any digit character. It is equivalent to `[0-9]`.\n",
    "- `\\w`: Represents any word character. It is equivalent to `[a-zA-Z0-9_]`. Word characters include letters, digits, and the underscore.\n",
    "- `\\s`: Represents any whitespace character. It includes spaces, tabs, and newline characters.\n",
    "\n",
    "These shorthand character classes are often used to match specific types of characters in a regular expression pattern. For example, the pattern `\\d{3}-\\d{3}-\\d{4}` can be used to match a phone number in the format \"###-###-####\", where each `#` represents a digit character.\n"
   ]
  },
  {
   "cell_type": "code",
   "execution_count": 68,
   "id": "082857a2-bd84-4fe7-98e6-db34ed00bfcf",
   "metadata": {},
   "outputs": [
    {
     "name": "stdout",
     "output_type": "stream",
     "text": [
      "['123']\n"
     ]
    }
   ],
   "source": [
    "import re\n",
    "\n",
    "text = 'abc 123 def'\n",
    "pattern = r'\\d+'\n",
    "matches = re.findall(pattern, text)\n",
    "print(matches)\n"
   ]
  },
  {
   "cell_type": "code",
   "execution_count": 69,
   "id": "5c9e740c-7c01-4bdb-8d20-b77eaee713e5",
   "metadata": {},
   "outputs": [
    {
     "name": "stdout",
     "output_type": "stream",
     "text": [
      "['hello_world', '123']\n"
     ]
    }
   ],
   "source": [
    "import re\n",
    "\n",
    "text = 'hello_world 123'\n",
    "pattern = r'\\w+'\n",
    "matches = re.findall(pattern, text)\n",
    "print(matches)\n"
   ]
  },
  {
   "cell_type": "code",
   "execution_count": 70,
   "id": "5c329fcb-a3b7-49ac-a88e-6884c8c24eda",
   "metadata": {},
   "outputs": [
    {
     "name": "stdout",
     "output_type": "stream",
     "text": [
      "['\\t', '\\n']\n"
     ]
    }
   ],
   "source": [
    "import re\n",
    "\n",
    "text = 'hello\\tworld\\n123'\n",
    "pattern = r'\\s+'\n",
    "matches = re.findall(pattern, text)\n",
    "print(matches)\n"
   ]
  },
  {
   "cell_type": "markdown",
   "id": "5f9f4610-e442-495f-998a-b842b9358ecf",
   "metadata": {},
   "source": [
    "## 13.Question\n",
    "\n",
    "What do the `\\D`, `\\W`, and `\\S` shorthand character classes signify in regular expressions?\n",
    "\n",
    "## Answer\n",
    "\n",
    "In regular expressions, the `\\D`, `\\W`, and `\\S` are shorthand character classes that represent the negation of `\\d`, `\\w`, and `\\s` respectively:\n",
    "\n",
    "- `\\D`: Represents any non-digit character. It is equivalent to `[^0-9]`.\n",
    "- `\\W`: Represents any non-word character. It is equivalent to `[^a-zA-Z0-9_]`. Non-word characters include symbols and punctuation.\n",
    "- `\\S`: Represents any non-whitespace character. It is equivalent to `[^\\s]`. Non-whitespace characters include any character other than space, tab, and newline.\n",
    "\n",
    "These shorthand character classes are useful for matching characters that are not of a certain type. For example, `\\D+` can be used to match one or more non-digit characters in a string.\n"
   ]
  },
  {
   "cell_type": "code",
   "execution_count": 62,
   "id": "4cad1d0b-2dc2-4668-b7c2-45f15525fd3c",
   "metadata": {},
   "outputs": [
    {
     "name": "stdout",
     "output_type": "stream",
     "text": [
      "['abc']\n"
     ]
    }
   ],
   "source": [
    "import re\n",
    "\n",
    "text = '123abc456'\n",
    "pattern = r'\\D+'\n",
    "matches = re.findall(pattern, text)\n",
    "print(matches)\n"
   ]
  },
  {
   "cell_type": "code",
   "execution_count": 67,
   "id": "10f599dc-0a70-4ab1-aae8-96ddf8e591bc",
   "metadata": {},
   "outputs": [
    {
     "name": "stdout",
     "output_type": "stream",
     "text": [
      "['!']\n"
     ]
    }
   ],
   "source": [
    "import re\n",
    "\n",
    "text = 'hello!world123'\n",
    "pattern = r'\\W+'\n",
    "matches = re.findall(pattern, text)\n",
    "print(matches)\n"
   ]
  },
  {
   "cell_type": "code",
   "execution_count": 66,
   "id": "cdb8925e-ad1c-4e20-8805-f4ac6e49369a",
   "metadata": {},
   "outputs": [
    {
     "name": "stdout",
     "output_type": "stream",
     "text": [
      "['hello', 'world']\n"
     ]
    }
   ],
   "source": [
    "import re\n",
    "\n",
    "text = 'hello world'\n",
    "pattern = r'\\S+'\n",
    "matches = re.findall(pattern, text)\n",
    "print(matches)\n"
   ]
  },
  {
   "cell_type": "markdown",
   "id": "7d25c187-4645-47f8-a666-2b488695b3ec",
   "metadata": {},
   "source": [
    "## 14.Question\n",
    "\n",
    "What is the difference between `.*?` and `.*` in regular expressions?\n",
    "\n",
    "## Answer\n",
    "\n",
    "In regular expressions, `.*?` and `.*` are both used to match any character (except for newline) zero or more times, but they differ in their behavior:\n",
    "\n",
    "- `.*?`: Matches as few characters as possible, i.e., it performs a non-greedy or lazy match. It will try to match the smallest possible substring that satisfies the rest of the pattern.\n",
    "\n",
    "- `.*`: Matches as many characters as possible, i.e., it performs a greedy match. It will try to match the largest possible substring that satisfies the rest of the pattern.\n",
    "\n",
    "For example, consider the string `'abc def ghi'` and the pattern `r'(.*)'`:\n",
    "\n",
    "- Using `.*`, the pattern will match the entire string `'abc def ghi'` because it greedily consumes all characters.\n",
    "- Using `.*?`, the pattern will match only `'abc'` because it lazily consumes characters, stopping at the first occurrence of a space.\n",
    "\n",
    "Example :"
   ]
  },
  {
   "cell_type": "code",
   "execution_count": 71,
   "id": "284244bb-0c94-435c-a38c-4df692410465",
   "metadata": {},
   "outputs": [
    {
     "name": "stdout",
     "output_type": "stream",
     "text": [
      "['abc def ghi', '']\n",
      "['', 'a', '', 'b', '', 'c', '', ' ', '', 'd', '', 'e', '', 'f', '', ' ', '', 'g', '', 'h', '', 'i', '']\n"
     ]
    }
   ],
   "source": [
    "import re\n",
    "\n",
    "text = 'abc def ghi'\n",
    "pattern_greedy = r'(.*)'\n",
    "pattern_non_greedy = r'(.*?)'\n",
    "\n",
    "print(re.findall(pattern_greedy, text))      \n",
    "print(re.findall(pattern_non_greedy, text))   "
   ]
  },
  {
   "cell_type": "markdown",
   "id": "b9393163-1ccb-46ff-a0b6-3b09f9e8b788",
   "metadata": {},
   "source": [
    "## 15.Question\n",
    "\n",
    "What is the syntax for matching both numbers and lowercase letters with a character class?\n",
    "\n",
    "## Answer\n",
    "\n",
    "To match both numbers and lowercase letters with a character class in a regular expression, you can use the following syntax:\n"
   ]
  },
  {
   "cell_type": "code",
   "execution_count": 79,
   "id": "1d8a2f8e-469e-444a-b57b-0a1755974c1c",
   "metadata": {},
   "outputs": [
    {
     "name": "stdout",
     "output_type": "stream",
     "text": [
      "['a1b2c3']\n"
     ]
    }
   ],
   "source": [
    "import re\n",
    "\n",
    "text = 'a1b2c3'\n",
    "pattern = r'[a-z0-9]+'\n",
    "matches = re.findall(pattern, text)\n",
    "print(matches)"
   ]
  },
  {
   "cell_type": "markdown",
   "id": "a0cc1838-7c62-4404-ace9-f46ad374e5cc",
   "metadata": {},
   "source": [
    "## 16.Question\n",
    "\n",
    "What is the procedure for making a regular expression in regex case insensitive?\n",
    "\n",
    "## Answer\n",
    "\n",
    "To make a regular expression case insensitive in regex, you can use the `re.IGNORECASE` flag or `re.I` shorthand in Python. This flag tells the regex engine to ignore case when matching characters.\n",
    "\n",
    "Here's how you can use it:"
   ]
  },
  {
   "cell_type": "code",
   "execution_count": 82,
   "id": "dc0ab004-12e5-4f34-96c0-6ddaa67c5315",
   "metadata": {},
   "outputs": [
    {
     "name": "stdout",
     "output_type": "stream",
     "text": [
      "['Hello']\n"
     ]
    }
   ],
   "source": [
    "import re\n",
    "\n",
    "text = 'Hello World'\n",
    "pattern = r'hello'\n",
    "matches = re.findall(pattern, text, re.IGNORECASE)\n",
    "print(matches)"
   ]
  },
  {
   "cell_type": "markdown",
   "id": "e5ce111c-0c65-4467-af9b-d99906a9e0ad",
   "metadata": {},
   "source": [
    "## 17.Question\n",
    "\n",
    "What does the `.` character normally match? What does it match if `re.DOTALL` is passed as the second argument in `re.compile()`?\n",
    "\n",
    "## Answer\n",
    "\n",
    "- Normally, the `.` character in a regular expression matches any character except a newline (`\\n`). It matches any single character, including letters, digits, whitespace, and symbols, but not newline characters.\n",
    "\n",
    "- If `re.DOTALL` (or `re.S`) is passed as the second argument in `re.compile()`, it changes the behavior of the `.` character to match any character, including newline (`\\n`). This flag allows the dot to match newline characters as well, making it match across multiple lines.\n",
    "\n",
    "Example:\n"
   ]
  },
  {
   "cell_type": "code",
   "execution_count": 83,
   "id": "c211f1dc-6c00-4909-9d66-71aa31ed0cc7",
   "metadata": {},
   "outputs": [
    {
     "name": "stdout",
     "output_type": "stream",
     "text": [
      "Normal match: ['hello', 'world']\n",
      "DOTALL match: ['hello\\nworld']\n"
     ]
    }
   ],
   "source": [
    "import re\n",
    "\n",
    "text = 'hello\\nworld'\n",
    "pattern_normal = r'.+'\n",
    "pattern_dotall = r'.+'\n",
    "regex_normal = re.compile(pattern_normal)\n",
    "regex_dotall = re.compile(pattern_dotall, re.DOTALL)\n",
    "\n",
    "print('Normal match:', regex_normal.findall(text))\n",
    "\n",
    "print('DOTALL match:', regex_dotall.findall(text))"
   ]
  },
  {
   "cell_type": "markdown",
   "id": "d9c23b05-ce65-4060-b717-9edbc77a619b",
   "metadata": {},
   "source": [
    "## 18. Question\n",
    "\n",
    "If `numReg = re.compile(r'\\d+')`, what will `numRegex.sub('X', '11 drummers, 10 pipers, five rings, 4 hen')` return?\n",
    "\n",
    "## Answer\n",
    "\n",
    "The `sub()` method in the `re` module is used for replacing occurrences of a pattern in a string. In this case, `numReg.sub('X', '11 drummers, 10 pipers, five rings, 4 hen')` will replace all sequences of digits in the input string with the letter 'X'. The method will return a new string with the replacements applied.\n"
   ]
  },
  {
   "cell_type": "code",
   "execution_count": 84,
   "id": "d57b2e97-e8fb-4d99-ad11-27d93554d857",
   "metadata": {},
   "outputs": [
    {
     "name": "stdout",
     "output_type": "stream",
     "text": [
      "X drummers, X pipers, five rings, X hen\n"
     ]
    }
   ],
   "source": [
    "import re\n",
    "\n",
    "numReg = re.compile(r'\\d+')\n",
    "result = numReg.sub('X', '11 drummers, 10 pipers, five rings, 4 hen')\n",
    "print(result)"
   ]
  },
  {
   "cell_type": "markdown",
   "id": "0eff1290-beec-457f-9389-0cda84946f7d",
   "metadata": {},
   "source": [
    "## 19. Question\n",
    "\n",
    "What does passing `re.VERBOSE` as the second argument to `re.compile()` allow you to do?\n",
    "\n",
    "## Answer\n",
    "\n",
    "Passing `re.VERBOSE` as the second argument to `re.compile()` allows you to write regular expressions in a more readable and organized manner by ignoring whitespace and comments. This flag enables verbose mode, where whitespace within the pattern is ignored unless it is escaped or within a character class.\n",
    "\n",
    "Example :\n"
   ]
  },
  {
   "cell_type": "code",
   "execution_count": 85,
   "id": "d36086a4-555c-4231-9888-e1e62f57902a",
   "metadata": {},
   "outputs": [
    {
     "name": "stdout",
     "output_type": "stream",
     "text": [
      "('123', '-', '-')\n",
      "('(123)', ' ', '-')\n",
      "('123', ' ', ' ')\n",
      "('123', '.', '.')\n"
     ]
    }
   ],
   "source": [
    "import re\n",
    "\n",
    "pattern = re.compile(r'''\n",
    "    (\\d{3}|\\(\\d{3}\\))?  # area code\n",
    "    (\\s|-|\\.)?          # separator\n",
    "    \\d{3}               # first 3 digits\n",
    "    (\\s|-|\\.)           # separator\n",
    "    \\d{4}               # last 4 digits\n",
    "''', re.VERBOSE)\n",
    "\n",
    "text = 'Phone numbers: 123-456-7890, (123) 456-7890, 123 456 7890, 123.456.7890'\n",
    "\n",
    "matches = pattern.findall(text)\n",
    "for match in matches:\n",
    "    print(match)"
   ]
  },
  {
   "cell_type": "markdown",
   "id": "1b865f51-23f4-4132-9950-b0d4dca9a746",
   "metadata": {},
   "source": [
    "## 20.Question\n",
    "\n",
    "How would you write a regex that matches a number with commas for every three digits? It must match the following:\n",
    "- '42'\n",
    "- '1,234'\n",
    "- '6,368,745'\n",
    "\n",
    "but not the following:\n",
    "- '12,34,567' (which has only two digits between the commas)\n",
    "- '1234' (which lacks commas)\n",
    "\n",
    "## Answer\n",
    "\n",
    "Following regex pattern is to match numbers with commas for every three digits:\n"
   ]
  },
  {
   "cell_type": "code",
   "execution_count": 86,
   "id": "5b9aa0dc-3c8b-4176-a5ce-d357b4a2054a",
   "metadata": {},
   "outputs": [
    {
     "name": "stdout",
     "output_type": "stream",
     "text": [
      "Match: 42\n",
      "Match: 1,234\n",
      "Match: 6,368,745\n",
      "No match: 12,34,567\n",
      "No match: 1234\n"
     ]
    }
   ],
   "source": [
    "import re\n",
    "\n",
    "pattern = re.compile(r'^\\d{1,3}(,\\d{3})*$')\n",
    "\n",
    "numbers = ['42', '1,234', '6,368,745', '12,34,567', '1234']\n",
    "for number in numbers:\n",
    "    if pattern.match(number):\n",
    "        print(f'Match: {number}')\n",
    "    else:\n",
    "        print(f'No match: {number}')\n"
   ]
  },
  {
   "cell_type": "markdown",
   "id": "9a18f5f1-f133-46be-97cd-185d985d6ddc",
   "metadata": {},
   "source": [
    "## 21.Question\n",
    "\n",
    "How would you write a regex that matches the full name of someone whose last name is Watanabe? You can assume that the first name that comes before it will always be one word that begins with a capital letter. The regex must match the following:\n",
    "- 'Haruto Watanabe'\n",
    "- 'Alice Watanabe'\n",
    "- 'RoboCop Watanabe'\n",
    "\n",
    "but not the following:\n",
    "- 'haruto Watanabe' (where the first name is not capitalized)\n",
    "- 'Mr. Watanabe' (where the preceding word has a non-letter character)\n",
    "- 'Watanabe' (which has no first name)\n",
    "- 'Haruto watanabe' (where Watanabe is not capitalized)\n",
    "\n",
    "## Answer\n"
   ]
  },
  {
   "cell_type": "code",
   "execution_count": 90,
   "id": "e198a69f-3bdb-4f8d-866b-5259aae33938",
   "metadata": {},
   "outputs": [
    {
     "name": "stdout",
     "output_type": "stream",
     "text": [
      "Match: Haruto Watanabe\n",
      "Match: Alice Watanabe\n",
      "Match: RoboCop Watanabe\n",
      "No match: haruto Watanabe\n",
      "No match: Mr. Watanabe\n",
      "No match: Watanabe\n",
      "No match: Haruto watanabe\n"
     ]
    }
   ],
   "source": [
    "import re\n",
    "\n",
    "pattern = re.compile(r'[A-Z][a-zA-Z]*\\sWatanabe')\n",
    "\n",
    "names = [\n",
    "    'Haruto Watanabe', 'Alice Watanabe', 'RoboCop Watanabe',\n",
    "    'haruto Watanabe', 'Mr. Watanabe', 'Watanabe', 'Haruto watanabe'\n",
    "]\n",
    "\n",
    "for name in names:\n",
    "    if pattern.match(name):\n",
    "        print(f'Match: {name}')\n",
    "    else:\n",
    "        print(f'No match: {name}')"
   ]
  },
  {
   "cell_type": "markdown",
   "id": "08704e37-a948-4d87-beee-5edf0da8d46a",
   "metadata": {},
   "source": [
    "## 22.Question\n",
    "\n",
    "How would you write a regex that matches a sentence where the first word is either Alice, Bob, or Carol; the second word is either eats, pets, or throws; the third word is apples, cats, or baseballs; and the sentence ends with a period? This regex should be case-insensitive. It must match the following:\n",
    "- 'Alice eats apples.'\n",
    "- 'Bob pets cats.'\n",
    "- 'Carol throws baseballs.'\n",
    "- 'Alice throws Apples.'\n",
    "- 'BOB EATS CATS.'\n",
    "\n",
    "but not the following:\n",
    "- 'RoboCop eats apples.'\n",
    "- 'ALICE THROWS FOOTBALLS.'\n",
    "- 'Carol eats 7 cats.'\n",
    "\n",
    "## Answer"
   ]
  },
  {
   "cell_type": "code",
   "execution_count": 91,
   "id": "948f2ef0-9d34-45a7-9bf1-fe7e0be8c257",
   "metadata": {},
   "outputs": [
    {
     "name": "stdout",
     "output_type": "stream",
     "text": [
      "Match: Alice eats apples.\n",
      "Match: Bob pets cats.\n",
      "Match: Carol throws baseballs.\n",
      "Match: Alice throws Apples.\n",
      "Match: BOB EATS CATS.\n",
      "No match: RoboCop eats apples.\n",
      "No match: ALICE THROWS FOOTBALLS.\n",
      "No match: Carol eats 7 cats.\n"
     ]
    }
   ],
   "source": [
    "import re\n",
    "\n",
    "pattern = re.compile(r'^(Alice|Bob|Carol)\\s(eats|pets|throws)\\s(apples|cats|baseballs)\\.$', re.IGNORECASE)\n",
    "\n",
    "sentences = [\n",
    "    'Alice eats apples.', 'Bob pets cats.', 'Carol throws baseballs.',\n",
    "    'Alice throws Apples.', 'BOB EATS CATS.',\n",
    "    'RoboCop eats apples.', 'ALICE THROWS FOOTBALLS.', 'Carol eats 7 cats.'\n",
    "]\n",
    "\n",
    "for sentence in sentences:\n",
    "    if pattern.match(sentence):\n",
    "        print(f'Match: {sentence}')\n",
    "    else:\n",
    "        print(f'No match: {sentence}')\n"
   ]
  },
  {
   "cell_type": "code",
   "execution_count": null,
   "id": "8ae38ee1-03d8-4734-8104-d609035aefd0",
   "metadata": {},
   "outputs": [],
   "source": []
  }
 ],
 "metadata": {
  "kernelspec": {
   "display_name": "Python 3 (ipykernel)",
   "language": "python",
   "name": "python3"
  },
  "language_info": {
   "codemirror_mode": {
    "name": "ipython",
    "version": 3
   },
   "file_extension": ".py",
   "mimetype": "text/x-python",
   "name": "python",
   "nbconvert_exporter": "python",
   "pygments_lexer": "ipython3",
   "version": "3.8.18"
  }
 },
 "nbformat": 4,
 "nbformat_minor": 5
}
