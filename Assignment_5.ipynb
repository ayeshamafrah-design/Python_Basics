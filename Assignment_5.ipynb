{
 "cells": [
  {
   "cell_type": "markdown",
   "id": "1820ed4c",
   "metadata": {},
   "source": [
    "## 1.Question\n",
    "\n",
    "What does an empty dictionary's code look like?\n",
    "\n",
    "## Answer\n",
    "\n",
    "An empty dictionary in Python is represented by curly braces `{}`. Here's what it looks like:\n"
   ]
  },
  {
   "cell_type": "code",
   "execution_count": 1,
   "id": "199f60ff",
   "metadata": {},
   "outputs": [
    {
     "name": "stdout",
     "output_type": "stream",
     "text": [
      "{}\n"
     ]
    }
   ],
   "source": [
    "empty_dict = {}\n",
    "print(empty_dict)"
   ]
  },
  {
   "cell_type": "markdown",
   "id": "6e42e97f",
   "metadata": {},
   "source": [
    "An empty dictionary contains no key-value pairs and is often used as a starting point for creating dictionaries and populating them with data."
   ]
  },
  {
   "cell_type": "markdown",
   "id": "538dc48f",
   "metadata": {},
   "source": [
    "## 2.Question\n",
    "\n",
    "What is the value of a dictionary value with the key 'foo' and the value 42?\n",
    "\n",
    "## Answer\n",
    "\n",
    "The value of a dictionary with the key `'foo'` and the value `42` would look like:\n"
   ]
  },
  {
   "cell_type": "code",
   "execution_count": 2,
   "id": "cf96d9bf",
   "metadata": {},
   "outputs": [
    {
     "name": "stdout",
     "output_type": "stream",
     "text": [
      "{'foo': 42}\n"
     ]
    }
   ],
   "source": [
    "my_dict = {'foo': 42}\n",
    "print(my_dict)"
   ]
  },
  {
   "cell_type": "markdown",
   "id": "7ef213ba",
   "metadata": {},
   "source": [
    "In this dictionary, the key `'foo'` maps to the value `42`."
   ]
  },
  {
   "cell_type": "markdown",
   "id": "f1108c7a",
   "metadata": {},
   "source": [
    "## 3.Question\n",
    "\n",
    "What is the most significant distinction between a dictionary and a list?\n",
    "\n",
    "## Answer\n",
    "\n",
    "The most significant distinction between a dictionary and a list in Python is how they store and access data:\n",
    "\n",
    "1. **Data Storage:**\n",
    "   - **List:** Lists store elements in a sequential order and access them using integer indices. Lists are ordered collections, meaning that the order of elements in a list is preserved.\n",
    "   - **Dictionary:** Dictionaries store key-value pairs, where each key is unique and maps to a corresponding value. Dictionaries are unordered collections, meaning that the order of key-value pairs is not guaranteed.\n",
    "\n",
    "2. **Accessing Elements:**\n",
    "   - **List:** Elements in a list are accessed by their index. For example, `my_list[0]` accesses the first element of the list.\n",
    "   - **Dictionary:** Elements in a dictionary are accessed by their keys. For example, `my_dict['key']` accesses the value associated with the key `'key'`.\n",
    "\n",
    "3. **Mutability:**\n",
    "   - **List:** Lists are mutable, meaning that you can change the elements of a list after it has been created.\n",
    "   - **Dictionary:** Dictionaries are also mutable, allowing you to add, remove, or modify key-value pairs.\n",
    "\n",
    "4. **Use Cases:**\n",
    "   - **List:** Lists are suitable for storing collections of similar items where the order matters, such as a list of numbers or strings.\n",
    "   - **Dictionary:** Dictionaries are suitable for storing key-value pairs where each key provides a unique identifier for its corresponding value, such as a mapping of student IDs to names.\n",
    "\n"
   ]
  },
  {
   "cell_type": "markdown",
   "id": "7669e6c7",
   "metadata": {},
   "source": [
    "## 4.Question\n",
    "\n",
    "What happens if you try to access `spam['foo']` if `spam` is `{'bar': 100}`?\n",
    "\n",
    "## Answer\n",
    "\n",
    "If you try to access `spam['foo']` when `spam` is `{'bar': 100}`, a `KeyError` will be raised. This is because the key `'foo'` does not exist in the dictionary `spam`, so there is no corresponding value to retrieve.\n",
    "\n",
    "Example:\n"
   ]
  },
  {
   "cell_type": "code",
   "execution_count": 3,
   "id": "ffeb5ed0",
   "metadata": {},
   "outputs": [
    {
     "ename": "KeyError",
     "evalue": "'foo'",
     "output_type": "error",
     "traceback": [
      "\u001b[1;31m---------------------------------------------------------------------------\u001b[0m",
      "\u001b[1;31mKeyError\u001b[0m                                  Traceback (most recent call last)",
      "\u001b[1;32m~\\AppData\\Local\\Temp\\ipykernel_48732\\635889371.py\u001b[0m in \u001b[0;36m<module>\u001b[1;34m\u001b[0m\n\u001b[0;32m      1\u001b[0m \u001b[0mspam\u001b[0m \u001b[1;33m=\u001b[0m \u001b[1;33m{\u001b[0m\u001b[1;34m'bar'\u001b[0m\u001b[1;33m:\u001b[0m \u001b[1;36m100\u001b[0m\u001b[1;33m}\u001b[0m\u001b[1;33m\u001b[0m\u001b[1;33m\u001b[0m\u001b[0m\n\u001b[1;32m----> 2\u001b[1;33m \u001b[0mvalue\u001b[0m \u001b[1;33m=\u001b[0m \u001b[0mspam\u001b[0m\u001b[1;33m[\u001b[0m\u001b[1;34m'foo'\u001b[0m\u001b[1;33m]\u001b[0m\u001b[1;33m\u001b[0m\u001b[1;33m\u001b[0m\u001b[0m\n\u001b[0m",
      "\u001b[1;31mKeyError\u001b[0m: 'foo'"
     ]
    }
   ],
   "source": [
    "spam = {'bar': 100}\n",
    "value = spam['foo'] "
   ]
  },
  {
   "cell_type": "markdown",
   "id": "cf0a5ae5",
   "metadata": {},
   "source": [
    "To avoid this error, you can use the get() method of dictionaries, which allows you to specify a default value to return if the key does not exist:"
   ]
  },
  {
   "cell_type": "code",
   "execution_count": 4,
   "id": "085a634a",
   "metadata": {},
   "outputs": [
    {
     "name": "stdout",
     "output_type": "stream",
     "text": [
      "default_value\n"
     ]
    }
   ],
   "source": [
    "value = spam.get('foo', 'default_value')\n",
    "print(value)  "
   ]
  },
  {
   "cell_type": "markdown",
   "id": "078a6f48",
   "metadata": {},
   "source": [
    "In this case, value will be 'default_value' because the key 'foo' does not exist in spam."
   ]
  },
  {
   "cell_type": "markdown",
   "id": "e3d4b5cf",
   "metadata": {},
   "source": [
    "## 5.Question\n",
    "\n",
    "If a dictionary is stored in `spam`, what is the difference between the expressions `'cat' in spam` and `'cat' in spam.keys()`?\n",
    "\n",
    "## Answer\n",
    "\n",
    "In Python, both expressions check for the presence of a key in a dictionary, but they do so in slightly different ways:\n",
    "\n",
    "- **`'cat' in spam`:**\n",
    "  - This expression checks if the key `'cat'` is present in the dictionary `spam`. It directly checks the keys of the dictionary for the presence of the key `'cat'`.\n",
    "  - Example:"
   ]
  },
  {
   "cell_type": "code",
   "execution_count": 9,
   "id": "3a72a328",
   "metadata": {},
   "outputs": [
    {
     "name": "stdout",
     "output_type": "stream",
     "text": [
      "True\n"
     ]
    }
   ],
   "source": [
    "spam = {'cat': 1, 'dog': 2}\n",
    "print('cat' in spam)"
   ]
  },
  {
   "cell_type": "markdown",
   "id": "5865273f",
   "metadata": {},
   "source": [
    "- **`'cat' in spam.keys()`:**\n",
    "  - This expression first retrieves a view object of the keys in the dictionary `spam` using the `keys()` method, and then checks if the key `'cat'` is present in that view object.\n",
    "  - Example:"
   ]
  },
  {
   "cell_type": "code",
   "execution_count": 14,
   "id": "3a383468",
   "metadata": {},
   "outputs": [
    {
     "name": "stdout",
     "output_type": "stream",
     "text": [
      "True\n"
     ]
    }
   ],
   "source": [
    "spam = {'cat': 1, 'dog': 2}\n",
    "print('cat' in spam.keys()) "
   ]
  },
  {
   "cell_type": "markdown",
   "id": "454d9e09",
   "metadata": {},
   "source": [
    "**Key Difference:**\n",
    "- The main difference between the two expressions is that `'cat' in spam` directly checks for the presence of the key in the dictionary's keys, while `'cat' in spam.keys()` first creates a view object of the keys and then checks for the presence of the key in that view object.\n",
    "- In terms of functionality, both expressions essentially do the same thing and return the same result. However, using `'cat' in spam` is more concise and generally preferred for checking the presence of keys in a dictionary."
   ]
  },
  {
   "cell_type": "markdown",
   "id": "3506a0c8",
   "metadata": {},
   "source": [
    "## 6.Question\n",
    "\n",
    "If a dictionary is stored in `spam`, what is the difference between the expressions `'cat' in spam` and `'cat' in spam.values()`?\n",
    "\n",
    "## Answer\n",
    "\n",
    "In Python, both expressions check for the presence of a value in a dictionary, but they do so in slightly different ways:\n",
    "\n",
    "- **`'cat' in spam`:**\n",
    "  - This expression checks if the key `'cat'` is present in the dictionary `spam`. It directly checks the keys of the dictionary for the presence of the key `'cat'`.\n",
    "  - Example:\n",
    " "
   ]
  },
  {
   "cell_type": "code",
   "execution_count": 15,
   "id": "9a5c7dd5",
   "metadata": {},
   "outputs": [
    {
     "name": "stdout",
     "output_type": "stream",
     "text": [
      "True\n"
     ]
    }
   ],
   "source": [
    "spam = {'cat': 1, 'dog': 2}\n",
    "print('cat' in spam) "
   ]
  },
  {
   "cell_type": "markdown",
   "id": "8636692f",
   "metadata": {},
   "source": [
    "- **`'cat' in spam.values()`:**\n",
    "  - This expression first retrieves a view object of the values in the dictionary `spam` using the `values()` method, and then checks if the value `'cat'` is present in that view object.\n",
    "  - Example:"
   ]
  },
  {
   "cell_type": "code",
   "execution_count": 16,
   "id": "5b3e45d3",
   "metadata": {},
   "outputs": [
    {
     "name": "stdout",
     "output_type": "stream",
     "text": [
      "False\n"
     ]
    }
   ],
   "source": [
    "spam = {'cat': 1, 'dog': 2}\n",
    "print('cat' in spam.values())"
   ]
  },
  {
   "cell_type": "markdown",
   "id": "e0cb1bbc",
   "metadata": {},
   "source": [
    "**Key Difference:**\n",
    "- The main difference between the two expressions is that `'cat' in spam` directly checks for the presence of the key in the dictionary's keys, while `'cat' in spam.values()` checks for the presence of the value in the dictionary's values.\n",
    "- In this specific example, since the value `'cat'` is not present in the values of the dictionary `spam`, `'cat' in spam.values()` returns `False`."
   ]
  },
  {
   "cell_type": "markdown",
   "id": "2f7929ef",
   "metadata": {},
   "source": [
    "## 7.Question\n",
    "\n",
    "What is a shortcut for the following code?\n",
    "```python\n",
    "if 'color' not in spam:\n",
    "    spam['color'] = 'black'\n",
    "```     \n",
    "## Answer\n",
    "\n",
    "A shortcut for the given code is to use the `setdefault()` method of dictionaries. The `setdefault()` method checks if a key exists in a dictionary. If it does not exist, it sets the key to the specified default value. If the key already exists, it returns the value associated with the key. Here's the equivalent code using `setdefault()`:\n"
   ]
  },
  {
   "cell_type": "code",
   "execution_count": 17,
   "id": "603caf5e",
   "metadata": {},
   "outputs": [
    {
     "data": {
      "text/plain": [
       "'black'"
      ]
     },
     "execution_count": 17,
     "metadata": {},
     "output_type": "execute_result"
    }
   ],
   "source": [
    "spam.setdefault('color', 'black')"
   ]
  },
  {
   "cell_type": "markdown",
   "id": "272fa962",
   "metadata": {},
   "source": [
    "This line of code checks if the key `'color'` exists in the dictionary `spam`. If it does not exist, it sets the key `'color'` to the value `'black'`. If the key already exists, it does nothing.\n",
    "\n",
    "Using `setdefault()` can make the code more concise and readable when you want to set a default value for a key in a dictionary if the key does not already exist."
   ]
  },
  {
   "cell_type": "markdown",
   "id": "d6f56301",
   "metadata": {},
   "source": [
    "## 8.Question\n",
    "\n",
    "How do you \"pretty print\" dictionary values using which module and function?\n",
    "\n",
    "## Answer\n",
    "\n",
    "To \"pretty print\" dictionary values in Python, you can use the `pprint` module's `pprint()` function. The `pprint()` function provides a way to print data structures like dictionaries in a more readable format, with each key-value pair on a separate line and indentation for nested structures.\n",
    "\n",
    "Here's an example of how to use `pprint()` to pretty print a dictionary:"
   ]
  },
  {
   "cell_type": "code",
   "execution_count": 18,
   "id": "2af4848e",
   "metadata": {},
   "outputs": [
    {
     "name": "stdout",
     "output_type": "stream",
     "text": [
      "{'age': 30, 'city': 'New York', 'name': 'Alice'}\n"
     ]
    }
   ],
   "source": [
    "import pprint\n",
    "\n",
    "my_dict = {\n",
    "    'name': 'Alice',\n",
    "    'age': 30,\n",
    "    'city': 'New York'\n",
    "}\n",
    "\n",
    "pprint.pprint(my_dict)"
   ]
  },
  {
   "cell_type": "markdown",
   "id": "17537314",
   "metadata": {},
   "source": [
    "The  `pprint()` function can be especially useful when dealing with large dictionaries or nested data structures, as it helps improve the readability of the output."
   ]
  },
  {
   "cell_type": "code",
   "execution_count": null,
   "id": "cab9bd23",
   "metadata": {},
   "outputs": [],
   "source": []
  }
 ],
 "metadata": {
  "kernelspec": {
   "display_name": "Python 3 (ipykernel)",
   "language": "python",
   "name": "python3"
  },
  "language_info": {
   "codemirror_mode": {
    "name": "ipython",
    "version": 3
   },
   "file_extension": ".py",
   "mimetype": "text/x-python",
   "name": "python",
   "nbconvert_exporter": "python",
   "pygments_lexer": "ipython3",
   "version": "3.9.13"
  }
 },
 "nbformat": 4,
 "nbformat_minor": 5
}
