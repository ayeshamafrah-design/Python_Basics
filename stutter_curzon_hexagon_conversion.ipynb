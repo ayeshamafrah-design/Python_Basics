{
 "cells": [
  {
   "cell_type": "markdown",
   "id": "0734b5be-09e3-43b2-9216-d2ba2c7a310e",
   "metadata": {},
   "source": [
    "### Question 1:\n",
    "Write a function that stutters a word as if someone is struggling to read it. The first two letters are repeated twice with an ellipsis `...` and space after each, and then the word is pronounced with a question mark `?`."
   ]
  },
  {
   "cell_type": "code",
   "execution_count": 9,
   "id": "9a5ec80d-7623-4b14-a76b-44f92a2d716a",
   "metadata": {},
   "outputs": [
    {
     "name": "stdout",
     "output_type": "stream",
     "text": [
      "in... in... incredible?\n",
      "en... en... enthusiastic?\n",
      "ou... ou... outstanding?\n"
     ]
    }
   ],
   "source": [
    "#- stutter(\"incredible\") ➞ \"in... in... incredible?\"\n",
    "#- stutter(\"enthusiastic\") ➞ \"en... en... enthusiastic?\"\n",
    "#- stutter(\"outstanding\") ➞ \"ou... ou... outstanding?\"\n",
    "\n",
    "def stutter(word):\n",
    "    return f\"{word[:2]}... {word[:2]}... {word}?\"\n",
    "\n",
    "print(stutter(\"incredible\"))  \n",
    "print(stutter(\"enthusiastic\"))  \n",
    "print(stutter(\"outstanding\"))  "
   ]
  },
  {
   "cell_type": "markdown",
   "id": "79845591-f94b-4ae1-a7af-9b8bdefdbb4c",
   "metadata": {},
   "source": [
    "### Question 2:\n",
    "Create a function that takes an angle in radians and returns the corresponding angle in degrees rounded to one decimal place.\n",
    "\n",
    "- radians_to_degrees(1) ➞ 57.3\n",
    "- radians_to_degrees(20) ➞ 1145.9\n",
    "- radians_to_degrees(50) ➞ 2864.8"
   ]
  },
  {
   "cell_type": "code",
   "execution_count": 10,
   "id": "63a470a5-149a-46ac-b9bd-7911919776c2",
   "metadata": {},
   "outputs": [
    {
     "name": "stdout",
     "output_type": "stream",
     "text": [
      "57.3\n",
      "1145.9\n",
      "2864.8\n"
     ]
    }
   ],
   "source": [
    "import math\n",
    "\n",
    "def radians_to_degrees(radians):\n",
    "    return round(radians * (180 / math.pi), 1)\n",
    "\n",
    "print(radians_to_degrees(1))  \n",
    "print(radians_to_degrees(20))  \n",
    "print(radians_to_degrees(50))  \n"
   ]
  },
  {
   "cell_type": "markdown",
   "id": "c361182d-c0b6-4b00-93ce-6b4a48c11980",
   "metadata": {},
   "source": [
    "### Question 3:\n",
    "Determine if a given integer `num` is a Curzon number. If `1 + 2**num` is divisible by `1 + 2*num`, then `num` is a Curzon number.\n",
    "\n",
    "- is_curzon(5) ➞ True\n",
    "- is_curzon(10) ➞ False\n",
    "- is_curzon(14) ➞ True"
   ]
  },
  {
   "cell_type": "code",
   "execution_count": 11,
   "id": "9ecabb3b-b141-4e04-9dd9-c2969f32c750",
   "metadata": {},
   "outputs": [
    {
     "name": "stdout",
     "output_type": "stream",
     "text": [
      "True\n",
      "False\n",
      "True\n"
     ]
    }
   ],
   "source": [
    "def is_curzon(num):\n",
    "    return (2**num + 1) % (2*num + 1) == 0\n",
    "\n",
    "print(is_curzon(5))  \n",
    "print(is_curzon(10))  \n",
    "print(is_curzon(14))  "
   ]
  },
  {
   "cell_type": "markdown",
   "id": "e3e5e72e-6431-48cb-9110-0eb05542252d",
   "metadata": {},
   "source": [
    "### Question 4:\n",
    "Given the side length `x`, find the area of a hexagon.\n",
    "\n",
    "- area_of_hexagon(1) ➞ 2.6\n",
    "- area_of_hexagon(2) ➞ 10.4\n",
    "- area_of_hexagon(3) ➞ 23.4"
   ]
  },
  {
   "cell_type": "code",
   "execution_count": 12,
   "id": "25dcbdb6-975c-4763-be3c-70a95da7bfde",
   "metadata": {},
   "outputs": [
    {
     "name": "stdout",
     "output_type": "stream",
     "text": [
      "2.6\n",
      "10.4\n",
      "23.4\n"
     ]
    }
   ],
   "source": [
    "import math\n",
    "\n",
    "def area_of_hexagon(x):\n",
    "    return round((3 * math.sqrt(3) * (x**2)) / 2, 1)\n",
    "\n",
    "print(area_of_hexagon(1))  \n",
    "print(area_of_hexagon(2)) \n",
    "print(area_of_hexagon(3))  "
   ]
  },
  {
   "cell_type": "markdown",
   "id": "7f6223c0-66da-4a34-8386-8aa012eea5fe",
   "metadata": {},
   "source": [
    "### Question 5:\n",
    "Create a function that returns a base-2 (binary) representation of a base-10 (decimal) string number.\n",
    "\n",
    "- binary(1) ➞ \"1\"\n",
    "- binary(5) ➞ \"101\"\n",
    "- binary(10) ➞ \"1010\""
   ]
  },
  {
   "cell_type": "code",
   "execution_count": 13,
   "id": "b730f6c9-81b3-400e-b488-7f405c0b81b7",
   "metadata": {},
   "outputs": [
    {
     "name": "stdout",
     "output_type": "stream",
     "text": [
      "1\n",
      "101\n",
      "1010\n"
     ]
    }
   ],
   "source": [
    "def binary(decimal_number):\n",
    "    return bin(decimal_number)[2:]\n",
    "\n",
    "print(binary(1))  \n",
    "print(binary(5))  \n",
    "print(binary(10)) "
   ]
  }
 ],
 "metadata": {
  "kernelspec": {
   "display_name": "Python 3 (ipykernel)",
   "language": "python",
   "name": "python3"
  },
  "language_info": {
   "codemirror_mode": {
    "name": "ipython",
    "version": 3
   },
   "file_extension": ".py",
   "mimetype": "text/x-python",
   "name": "python",
   "nbconvert_exporter": "python",
   "pygments_lexer": "ipython3",
   "version": "3.11.5"
  }
 },
 "nbformat": 4,
 "nbformat_minor": 5
}
