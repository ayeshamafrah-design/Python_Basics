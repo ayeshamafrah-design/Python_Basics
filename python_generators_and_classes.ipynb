{
 "cells": [
  {
   "cell_type": "markdown",
   "id": "73936970-36a7-4c40-9218-4bbce52cdece",
   "metadata": {},
   "source": [
    "#### Q1: Write a program using a generator to print the numbers divisible by 5 and 7 between 0 and n in comma-separated form while n is input by the console."
   ]
  },
  {
   "cell_type": "code",
   "execution_count": 76,
   "id": "68837946-9ca6-4401-b318-39fbb5de9124",
   "metadata": {},
   "outputs": [
    {
     "name": "stdin",
     "output_type": "stream",
     "text": [
      "Enter the value of n:  100\n"
     ]
    },
    {
     "name": "stdout",
     "output_type": "stream",
     "text": [
      "0,35,70\n"
     ]
    }
   ],
   "source": [
    "def divisible_by_5_and_7(n):\n",
    "    for i in range(n + 1):\n",
    "        if i % 5 == 0 and i % 7 == 0:\n",
    "            yield i\n",
    "n = int(input(\"Enter the value of n: \"))\n",
    "result = list(divisible_by_5_and_7(n))\n",
    "print(\",\".join(map(str, result)))\n"
   ]
  },
  {
   "cell_type": "markdown",
   "id": "93e459b4-489b-4e39-b3ab-647ab6cd00b5",
   "metadata": {},
   "source": [
    "#### Q2: Write a program using a generator to print even numbers between 0 and n in comma-separated form while n is input by the console."
   ]
  },
  {
   "cell_type": "code",
   "execution_count": 75,
   "id": "9599aca3-f543-431d-bac2-7d184a874cca",
   "metadata": {},
   "outputs": [
    {
     "name": "stdin",
     "output_type": "stream",
     "text": [
      "Enter the value of n:  10\n"
     ]
    },
    {
     "name": "stdout",
     "output_type": "stream",
     "text": [
      "0,2,4,6,8,10\n"
     ]
    }
   ],
   "source": [
    "def even_numbers(n):\n",
    "    for i in range(0, n + 1, 2):\n",
    "        yield i\n",
    "\n",
    "n = int(input(\"Enter the value of n: \"))\n",
    "result = list(even_numbers(n))\n",
    "print(\",\".join(map(str, result)))\n"
   ]
  },
  {
   "cell_type": "markdown",
   "id": "3d6db2a9-5f22-4837-abb5-17dfffc81191",
   "metadata": {},
   "source": [
    "#### Q3: Write a program using list comprehension to print the Fibonacci Sequence in comma-separated form with a given n input by the console."
   ]
  },
  {
   "cell_type": "code",
   "execution_count": 77,
   "id": "a0834c14-be48-4ee2-b89b-92047577275a",
   "metadata": {},
   "outputs": [
    {
     "name": "stdin",
     "output_type": "stream",
     "text": [
      "Enter the value of n:  7\n"
     ]
    },
    {
     "name": "stdout",
     "output_type": "stream",
     "text": [
      "0,1,1,2,3,5,8,13\n"
     ]
    }
   ],
   "source": [
    "def fibonacci(n):\n",
    "    fib = [0, 1]\n",
    "    [fib.append(fib[-1] + fib[-2]) for _ in range(2, n + 1)]\n",
    "    return fib[:n + 1]\n",
    "\n",
    "n = int(input(\"Enter the value of n: \"))\n",
    "result = fibonacci(n)\n",
    "print(\",\".join(map(str, result)))\n"
   ]
  },
  {
   "cell_type": "markdown",
   "id": "19a02fba-d27a-4b0e-a3ac-55a47431be72",
   "metadata": {},
   "source": [
    "#### Q4: Write a program to extract the username from a given email address."
   ]
  },
  {
   "cell_type": "code",
   "execution_count": 78,
   "id": "78bf957d-5082-409c-9546-354b5358edd8",
   "metadata": {},
   "outputs": [
    {
     "name": "stdin",
     "output_type": "stream",
     "text": [
      "Enter an email address:  john@google.com\n"
     ]
    },
    {
     "name": "stdout",
     "output_type": "stream",
     "text": [
      "Username: john\n"
     ]
    }
   ],
   "source": [
    "email = input(\"Enter an email address: \")\n",
    "username = email.split(\"@\")[0]\n",
    "print(\"Username:\", username)"
   ]
  },
  {
   "cell_type": "markdown",
   "id": "ae9eddab-dbce-41e6-a860-b1524881e0f0",
   "metadata": {},
   "source": [
    "#### Define a class named Shape and its subclass Square.The Square class has an `__init__` function that takes a length as argument.Both classes have an `area` function to print the area, where Shape's area is 0 by default."
   ]
  },
  {
   "cell_type": "code",
   "execution_count": 79,
   "id": "b3fdbc5c-35ef-4874-a9a9-5eb86fb9e757",
   "metadata": {},
   "outputs": [
    {
     "name": "stdout",
     "output_type": "stream",
     "text": [
      "Area of Shape: 0\n",
      "Area of Square: 25\n"
     ]
    }
   ],
   "source": [
    "class Shape:\n",
    "    def area(self):\n",
    "        return 0\n",
    "\n",
    "class Square(Shape):\n",
    "    def __init__(self, length):\n",
    "        self.length = length\n",
    "\n",
    "    def area(self):\n",
    "        return self.length * self.length\n",
    "\n",
    "shape = Shape()\n",
    "square = Square(5)\n",
    "\n",
    "print(\"Area of Shape:\", shape.area())\n",
    "print(\"Area of Square:\", square.area())\n"
   ]
  }
 ],
 "metadata": {
  "kernelspec": {
   "display_name": "Python 3 (ipykernel)",
   "language": "python",
   "name": "python3"
  },
  "language_info": {
   "codemirror_mode": {
    "name": "ipython",
    "version": 3
   },
   "file_extension": ".py",
   "mimetype": "text/x-python",
   "name": "python",
   "nbconvert_exporter": "python",
   "pygments_lexer": "ipython3",
   "version": "3.11.5"
  }
 },
 "nbformat": 4,
 "nbformat_minor": 5
}
