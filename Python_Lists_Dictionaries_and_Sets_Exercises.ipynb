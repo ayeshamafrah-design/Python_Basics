{
 "cells": [
  {
   "cell_type": "markdown",
   "id": "6ea40a38-6b17-483f-9b33-1dc4a2d63eba",
   "metadata": {},
   "source": [
    "### 1. Create a list called `years_list`, starting with the year of your birth and each year thereafter until the year of your fifth birthday.\n",
    "\n",
    "To create the list, include the year of your birth and the next five years.\n",
    "\n",
    "#### Example:\n",
    "If you were born in 1993:"
   ]
  },
  {
   "cell_type": "code",
   "execution_count": 1,
   "id": "1d0d49f6-f3b0-450f-8b09-e444b3b817fd",
   "metadata": {},
   "outputs": [
    {
     "name": "stdout",
     "output_type": "stream",
     "text": [
      "[1993, 1994, 1995, 1996, 1997, 1998]\n"
     ]
    }
   ],
   "source": [
    "years_list = [1993, 1994, 1995, 1996, 1997, 1998]\n",
    "print(years_list)"
   ]
  },
  {
   "cell_type": "markdown",
   "id": "44d340dc-caca-4bb6-9283-76deb9f223d5",
   "metadata": {},
   "source": [
    "### 2. In which year in `years_list` was your third birthday? Remember, you were 0 years of age for your first year.\n",
    "\n",
    "Your third birthday occurred three years after the year of your birth. Access the corresponding element in the list using indexing (index `3`, since the list starts at `0`).\n",
    "\n",
    "#### Example:\n",
    "If `years_list = [1993, 1994, 1995, 1996, 1997, 1998]`:\n"
   ]
  },
  {
   "cell_type": "code",
   "execution_count": 2,
   "id": "8b98f6f8-c3e3-4cce-b600-4f0ec23ebf25",
   "metadata": {},
   "outputs": [
    {
     "name": "stdout",
     "output_type": "stream",
     "text": [
      "1996\n"
     ]
    }
   ],
   "source": [
    "third_birthday_year = years_list[3]\n",
    "print(third_birthday_year)"
   ]
  },
  {
   "cell_type": "markdown",
   "id": "dadc6a56-06b6-493c-8877-7f723196de7f",
   "metadata": {},
   "source": [
    "### 3. In the `years_list`, which year were you the oldest?\n",
    "\n",
    "You were the oldest in the last year of the list, which can be accessed using the `-1` index or by referencing the last element.\n",
    "\n",
    "#### Example:\n",
    "If `years_list = [1993, 1994, 1995, 1996, 1997, 1998]`:\n"
   ]
  },
  {
   "cell_type": "code",
   "execution_count": 3,
   "id": "74a59c7c-c97b-4df6-b927-665d36a0c632",
   "metadata": {},
   "outputs": [
    {
     "name": "stdout",
     "output_type": "stream",
     "text": [
      "1998\n"
     ]
    }
   ],
   "source": [
    "oldest_year = years_list[-1]\n",
    "print(oldest_year)"
   ]
  },
  {
   "cell_type": "markdown",
   "id": "c2d489be-eb0a-40f6-9bb5-dbebade4c15c",
   "metadata": {},
   "source": [
    "### 4. Make a list called `things` with these three strings as elements: \"mozzarella\", \"cinderella\", \"salmonella\".\n",
    "\n",
    "Create a list named `things` and populate it with the specified strings."
   ]
  },
  {
   "cell_type": "code",
   "execution_count": 4,
   "id": "87d32f04-74cf-4392-8688-250250372651",
   "metadata": {},
   "outputs": [
    {
     "name": "stdout",
     "output_type": "stream",
     "text": [
      "['mozzarella', 'cinderella', 'salmonella']\n"
     ]
    }
   ],
   "source": [
    "things = [\"mozzarella\", \"cinderella\", \"salmonella\"]\n",
    "print(things)"
   ]
  },
  {
   "cell_type": "markdown",
   "id": "87e149f8-8118-4b03-bba7-f6b0fd63da82",
   "metadata": {},
   "source": [
    "### 5. Capitalize the element in `things` that refers to a person and then print the list. Did it change the element in the list?\n",
    "\n",
    "Capitalize the string `\"cinderella\"`, which refers to a person, using the `.capitalize()` method. Note that this method does not modify the list in-place but returns a new string.\n"
   ]
  },
  {
   "cell_type": "code",
   "execution_count": 6,
   "id": "50f56d76-75ab-4663-882b-0d01638232c4",
   "metadata": {},
   "outputs": [
    {
     "name": "stdout",
     "output_type": "stream",
     "text": [
      "['mozzarella', 'Cinderella', 'salmonella']\n"
     ]
    }
   ],
   "source": [
    "things = [\"mozzarella\", \"cinderella\", \"salmonella\"]\n",
    "\n",
    "# Capitalize \"cinderella\" and print the list\n",
    "things[1] = things[1].capitalize()\n",
    "print(things)"
   ]
  },
  {
   "cell_type": "markdown",
   "id": "42cacaa9-ae21-4007-ab24-ac79e85f6da5",
   "metadata": {},
   "source": [
    "### 6. Make a list called `surprise` with the elements \"Groucho\", \"Chico\", and \"Harpo\".\n"
   ]
  },
  {
   "cell_type": "code",
   "execution_count": 7,
   "id": "90595998-fca7-4b24-827f-7043f206ca0b",
   "metadata": {},
   "outputs": [
    {
     "name": "stdout",
     "output_type": "stream",
     "text": [
      "['Groucho', 'Chico', 'Harpo']\n"
     ]
    }
   ],
   "source": [
    "surprise = [\"Groucho\", \"Chico\", \"Harpo\"]\n",
    "print(surprise)"
   ]
  },
  {
   "cell_type": "markdown",
   "id": "5d861e65-ab43-464e-8e56-32099ef94fe4",
   "metadata": {},
   "source": [
    "### 7. Lowercase the last element of the `surprise` list, reverse it, and then capitalize it.\n",
    "\n",
    "Perform the following steps:\n",
    "1. Access the last element of the list.\n",
    "2. Convert it to lowercase using `.lower()`.\n",
    "3. Reverse the string using slicing (`[::-1]`).\n",
    "4. Capitalize the reversed string using `.capitalize()`.\n"
   ]
  },
  {
   "cell_type": "code",
   "execution_count": 9,
   "id": "69d1ba14-1e8b-47ae-8123-57fea80b207c",
   "metadata": {},
   "outputs": [
    {
     "name": "stdout",
     "output_type": "stream",
     "text": [
      "Oprah\n"
     ]
    }
   ],
   "source": [
    "surprise = [\"Groucho\", \"Chico\", \"Harpo\"]\n",
    "last_element = surprise[-1].lower()[::-1].capitalize()\n",
    "\n",
    "print(last_element)"
   ]
  },
  {
   "cell_type": "markdown",
   "id": "3bf56dc3-23b1-4a8d-a617-4fb9389a36ac",
   "metadata": {},
   "source": [
    "### 8. Make an English-to-French dictionary called `e2f` and print it.\n",
    "\n",
    "Create a dictionary where English words are the keys and their French translations are the values."
   ]
  },
  {
   "cell_type": "code",
   "execution_count": 10,
   "id": "4918fccc-76db-44c3-96bb-00827f128dd4",
   "metadata": {},
   "outputs": [
    {
     "name": "stdout",
     "output_type": "stream",
     "text": [
      "{'dog': 'chien', 'cat': 'chat', 'walrus': 'morse'}\n"
     ]
    }
   ],
   "source": [
    "e2f = {\n",
    "    \"dog\": \"chien\",\n",
    "    \"cat\": \"chat\",\n",
    "    \"walrus\": \"morse\"\n",
    "}\n",
    "\n",
    "print(e2f)\n"
   ]
  },
  {
   "cell_type": "markdown",
   "id": "4919f3af-a063-4609-9e53-8d22621447a5",
   "metadata": {},
   "source": [
    "### 9. Write the French word for \"walrus\" in your three-word dictionary `e2f`.\n",
    "\n",
    "Access the value associated with the key `\"walrus\"` in the `e2f` dictionary.\n"
   ]
  },
  {
   "cell_type": "code",
   "execution_count": 11,
   "id": "a6eb1d61-a8b1-49c3-8022-bb1b7d93302e",
   "metadata": {},
   "outputs": [
    {
     "name": "stdout",
     "output_type": "stream",
     "text": [
      "morse\n"
     ]
    }
   ],
   "source": [
    "e2f = {\n",
    "    \"dog\": \"chien\",\n",
    "    \"cat\": \"chat\",\n",
    "    \"walrus\": \"morse\"\n",
    "}\n",
    "french_word_for_walrus = e2f[\"walrus\"]\n",
    "print(french_word_for_walrus)"
   ]
  },
  {
   "cell_type": "markdown",
   "id": "896486fb-91e5-4be6-b3ff-6ebfcaa76b2c",
   "metadata": {},
   "source": [
    "### 10. Make a French-to-English dictionary called `f2e` from `e2f`. Use the `items` method.\n",
    "\n",
    "Create a new dictionary by reversing the keys and values of the `e2f` dictionary using the `items` method."
   ]
  },
  {
   "cell_type": "code",
   "execution_count": 12,
   "id": "6faa00d0-d7bd-4854-8a64-a5e11bc038c9",
   "metadata": {},
   "outputs": [
    {
     "name": "stdout",
     "output_type": "stream",
     "text": [
      "{'chien': 'dog', 'chat': 'cat', 'morse': 'walrus'}\n"
     ]
    }
   ],
   "source": [
    "e2f = {\n",
    "    \"dog\": \"chien\",\n",
    "    \"cat\": \"chat\",\n",
    "    \"walrus\": \"morse\"\n",
    "}\n",
    "f2e = {french: english for english, french in e2f.items()}\n",
    "print(f2e)\n"
   ]
  },
  {
   "cell_type": "markdown",
   "id": "6dd94d2d-031e-4113-a5bf-09a5e17638bb",
   "metadata": {},
   "source": [
    "### 11. Print the English version of the French word \"chien\" using `f2e`.\n",
    "\n",
    "To retrieve the English word for the French word `\"chien\"` from the `f2e` dictionary, we use the key `\"chien\"`."
   ]
  },
  {
   "cell_type": "code",
   "execution_count": 15,
   "id": "922b2816-3b20-4f71-ac3c-bd3722ee3632",
   "metadata": {},
   "outputs": [
    {
     "name": "stdout",
     "output_type": "stream",
     "text": [
      "dog\n"
     ]
    }
   ],
   "source": [
    "f2e = {\n",
    "    'chien': 'dog',\n",
    "    'chat': 'cat',\n",
    "    'morse': 'walrus'\n",
    "}\n",
    "english_word_for_chien = f2e[\"chien\"]\n",
    "print(english_word_for_chien)"
   ]
  },
  {
   "cell_type": "markdown",
   "id": "4dc4b3a7-a7e0-4863-98f2-3fa23ee4728e",
   "metadata": {},
   "source": [
    "### 12. Make and print a set of English words from the keys in `e2f`.\n",
    "\n",
    "To create a set of English words, you can use the `keys()` method on the `e2f` dictionary and convert it to a set."
   ]
  },
  {
   "cell_type": "code",
   "execution_count": 16,
   "id": "2ba9615e-f612-4e04-9ae9-fb15d4877716",
   "metadata": {},
   "outputs": [
    {
     "name": "stdout",
     "output_type": "stream",
     "text": [
      "{'cat', 'walrus', 'dog'}\n"
     ]
    }
   ],
   "source": [
    "e2f = {\n",
    "    \"dog\": \"chien\",\n",
    "    \"cat\": \"chat\",\n",
    "    \"walrus\": \"morse\"\n",
    "}\n",
    "english_words_set = set(e2f.keys())\n",
    "print(english_words_set)"
   ]
  },
  {
   "cell_type": "markdown",
   "id": "325f3eb6-76f4-49d4-a303-80b3bf82a2c7",
   "metadata": {},
   "source": [
    "### 13. Make a multilevel dictionary called `life`. Use these strings for the topmost keys: 'animals', 'plants', and 'other'. Make the 'animals' key refer to another dictionary with the keys 'cats', 'octopi', and 'emus'. Make the 'cats' key refer to a list of strings with the values 'Henri', 'Grumpy', and 'Lucy'. Make all the other keys refer to empty dictionaries."
   ]
  },
  {
   "cell_type": "code",
   "execution_count": 17,
   "id": "c37d7151-97e9-4c44-b876-67609dde1bfe",
   "metadata": {},
   "outputs": [
    {
     "name": "stdout",
     "output_type": "stream",
     "text": [
      "{'animals': {'cats': ['Henri', 'Grumpy', 'Lucy'], 'octopi': [], 'emus': []}, 'plants': {}, 'other': {}}\n"
     ]
    }
   ],
   "source": [
    "life = {\n",
    "    'animals': {\n",
    "        'cats': ['Henri', 'Grumpy', 'Lucy'],\n",
    "        'octopi': [],\n",
    "        'emus': []\n",
    "    },\n",
    "    'plants': {},\n",
    "    'other': {}\n",
    "}\n",
    "\n",
    "print(life)"
   ]
  },
  {
   "cell_type": "markdown",
   "id": "25675b73-c2b7-48bb-b45c-78a261f65dd3",
   "metadata": {},
   "source": [
    "### 14. Print the top-level keys of `life`.\n",
    "\n",
    "To print the top-level keys of the `life` dictionary, you can use the `keys()` method."
   ]
  },
  {
   "cell_type": "code",
   "execution_count": 18,
   "id": "b4c543f8-dc02-40cf-bff6-105d06b68542",
   "metadata": {},
   "outputs": [
    {
     "name": "stdout",
     "output_type": "stream",
     "text": [
      "dict_keys(['animals', 'plants', 'other'])\n"
     ]
    }
   ],
   "source": [
    "print(life.keys())"
   ]
  },
  {
   "cell_type": "markdown",
   "id": "9d2b0243-0fd2-4c66-aa0e-1dcafb135916",
   "metadata": {},
   "source": [
    "### 15. Print the keys for `life['animals']`.\n",
    "\n",
    "To print the keys of the `animals` sub-dictionary within the `life` dictionary, you can use the `keys()` method again."
   ]
  },
  {
   "cell_type": "code",
   "execution_count": 19,
   "id": "582f6c56-9936-4cae-960a-f2d26dd76041",
   "metadata": {},
   "outputs": [
    {
     "name": "stdout",
     "output_type": "stream",
     "text": [
      "dict_keys(['cats', 'octopi', 'emus'])\n"
     ]
    }
   ],
   "source": [
    "print(life['animals'].keys())\n"
   ]
  },
  {
   "cell_type": "markdown",
   "id": "c1e3bec8-fa8f-4306-8de2-5dfc90d73c1f",
   "metadata": {},
   "source": [
    "### 16. Print the values for `life['animals']['cats']`.\n",
    "\n",
    "To print the values (list of cat names) for the `cats` key inside the `animals` sub-dictionary, you can access it directly."
   ]
  },
  {
   "cell_type": "code",
   "execution_count": 20,
   "id": "43a910af-9cb2-4007-ba72-5e6680e9e42c",
   "metadata": {},
   "outputs": [
    {
     "name": "stdout",
     "output_type": "stream",
     "text": [
      "['Henri', 'Grumpy', 'Lucy']\n"
     ]
    }
   ],
   "source": [
    "print(life['animals']['cats'])"
   ]
  }
 ],
 "metadata": {
  "kernelspec": {
   "display_name": "Python 3 (ipykernel)",
   "language": "python",
   "name": "python3"
  },
  "language_info": {
   "codemirror_mode": {
    "name": "ipython",
    "version": 3
   },
   "file_extension": ".py",
   "mimetype": "text/x-python",
   "name": "python",
   "nbconvert_exporter": "python",
   "pygments_lexer": "ipython3",
   "version": "3.11.5"
  }
 },
 "nbformat": 4,
 "nbformat_minor": 5
}
