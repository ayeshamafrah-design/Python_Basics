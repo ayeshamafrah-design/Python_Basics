{
 "cells": [
  {
   "cell_type": "code",
   "execution_count": 10,
   "id": "4bf6bcbf-4dbb-48a4-a90d-f18508025b19",
   "metadata": {},
   "outputs": [
    {
     "name": "stdin",
     "output_type": "stream",
     "text": [
      "Enter the number of terms:  7\n"
     ]
    },
    {
     "name": "stdout",
     "output_type": "stream",
     "text": [
      "Fibonacci sequence:\n",
      "0 1 1 2 3 5 8 "
     ]
    }
   ],
   "source": [
    "# Program to display the Fibonacci sequence using recursion\n",
    "\n",
    "def fibonacci(n):\n",
    "    if n <= 0:\n",
    "        return \"Invalid input. Please enter a positive integer.\"\n",
    "    elif n == 1:\n",
    "        return 0\n",
    "    elif n == 2:\n",
    "        return 1\n",
    "    else:\n",
    "        return fibonacci(n - 1) + fibonacci(n - 2)\n",
    "\n",
    "# Input from user\n",
    "terms = int(input(\"Enter the number of terms: \"))\n",
    "\n",
    "# Display the Fibonacci sequence\n",
    "if terms <= 0:\n",
    "    print(\"Please enter a positive integer.\")\n",
    "else:\n",
    "    print(\"Fibonacci sequence:\")\n",
    "    for i in range(1, terms + 1):\n",
    "        print(fibonacci(i), end=\" \")\n"
   ]
  },
  {
   "cell_type": "code",
   "execution_count": 12,
   "id": "77e6d796-75e4-41bf-aba3-d8bb801dbeac",
   "metadata": {},
   "outputs": [
    {
     "name": "stdin",
     "output_type": "stream",
     "text": [
      "Enter a number:  5\n"
     ]
    },
    {
     "name": "stdout",
     "output_type": "stream",
     "text": [
      "The factorial of 5 is: 120\n"
     ]
    }
   ],
   "source": [
    "# Program to find the factorial of a number using recursion\n",
    "\n",
    "def factorial(n):\n",
    "    if n < 0:\n",
    "        return \"Invalid input. Factorial does not exist for negative numbers.\"\n",
    "    elif n == 0 or n == 1:\n",
    "        return 1\n",
    "    else:\n",
    "        return n * factorial(n - 1)\n",
    "\n",
    "# Input from user\n",
    "num = int(input(\"Enter a number: \"))\n",
    "\n",
    "# Display factorial\n",
    "print(f\"The factorial of {num} is: {factorial(num)}\")\n"
   ]
  },
  {
   "cell_type": "code",
   "execution_count": 18,
   "id": "5b4a692d-d7cf-41ed-a9fb-a819f44fb9dc",
   "metadata": {},
   "outputs": [
    {
     "name": "stdin",
     "output_type": "stream",
     "text": [
      "Enter your weight in kilograms:  70\n",
      "Enter your height in meters:  1.75\n"
     ]
    },
    {
     "name": "stdout",
     "output_type": "stream",
     "text": [
      "Your BMI is: 22.86\n",
      "You have a normal weight.\n"
     ]
    }
   ],
   "source": [
    "# Program to calculate BMI\n",
    "\n",
    "def calculate_bmi(weight, height):\n",
    "    # BMI formula: weight (kg) / [height (m)]^2\n",
    "    bmi = weight / (height ** 2)\n",
    "    return bmi\n",
    "\n",
    "# Input from user\n",
    "weight = float(input(\"Enter your weight in kilograms: \"))\n",
    "height = float(input(\"Enter your height in meters: \"))\n",
    "\n",
    "# Calculate BMI\n",
    "bmi = calculate_bmi(weight, height)\n",
    "\n",
    "# Display result\n",
    "print(f\"Your BMI is: {bmi:.2f}\")\n",
    "\n",
    "# Categorize BMI\n",
    "if bmi < 18.5:\n",
    "    print(\"You are underweight.\")\n",
    "elif 18.5 <= bmi < 24.9:\n",
    "    print(\"You have a normal weight.\")\n",
    "elif 25 <= bmi < 29.9:\n",
    "    print(\"You are overweight.\")\n",
    "else:\n",
    "    print(\"You are obese.\")\n"
   ]
  },
  {
   "cell_type": "code",
   "execution_count": 19,
   "id": "98890f7e-ca06-4a0c-bb33-5de0c8c49052",
   "metadata": {},
   "outputs": [
    {
     "name": "stdin",
     "output_type": "stream",
     "text": [
      "Enter a number:  5\n"
     ]
    },
    {
     "name": "stdout",
     "output_type": "stream",
     "text": [
      "The natural logarithm of 5.0 is: 1.6094379124341003\n"
     ]
    }
   ],
   "source": [
    "# Program to calculate the natural logarithm of a number\n",
    "\n",
    "import math\n",
    "\n",
    "def natural_logarithm(number):\n",
    "    if number <= 0:\n",
    "        return \"Invalid input. Logarithm is not defined for zero or negative numbers.\"\n",
    "    else:\n",
    "        return math.log(number)  # Use math.log() for natural logarithm\n",
    "\n",
    "# Input from user\n",
    "num = float(input(\"Enter a number: \"))\n",
    "\n",
    "# Calculate natural logarithm\n",
    "result = natural_logarithm(num)\n",
    "\n",
    "# Display result\n",
    "print(f\"The natural logarithm of {num} is: {result}\" if isinstance(result, float) else result)\n"
   ]
  },
  {
   "cell_type": "code",
   "execution_count": 20,
   "id": "8b65f826-3a6c-4284-924f-33fe2565d22e",
   "metadata": {},
   "outputs": [
    {
     "name": "stdin",
     "output_type": "stream",
     "text": [
      "Enter a positive integer:  7\n"
     ]
    },
    {
     "name": "stdout",
     "output_type": "stream",
     "text": [
      "The cube sum of the first 7 natural numbers is: 784\n"
     ]
    }
   ],
   "source": [
    "# Program to calculate the cube sum of the first n natural numbers\n",
    "\n",
    "def cube_sum(n):\n",
    "    # Sum of cubes formula: (n * (n + 1) / 2)^2\n",
    "    return (n * (n + 1) // 2) ** 2\n",
    "\n",
    "# Input from user\n",
    "num = int(input(\"Enter a positive integer: \"))\n",
    "\n",
    "# Check for positive input\n",
    "if num <= 0:\n",
    "    print(\"Please enter a positive integer.\")\n",
    "else:\n",
    "    # Calculate and display cube sum\n",
    "    result = cube_sum(num)\n",
    "    print(f\"The cube sum of the first {num} natural numbers is: {result}\")\n"
   ]
  }
 ],
 "metadata": {
  "kernelspec": {
   "display_name": "Python 3 (ipykernel)",
   "language": "python",
   "name": "python3"
  },
  "language_info": {
   "codemirror_mode": {
    "name": "ipython",
    "version": 3
   },
   "file_extension": ".py",
   "mimetype": "text/x-python",
   "name": "python",
   "nbconvert_exporter": "python",
   "pygments_lexer": "ipython3",
   "version": "3.11.5"
  }
 },
 "nbformat": 4,
 "nbformat_minor": 5
}
