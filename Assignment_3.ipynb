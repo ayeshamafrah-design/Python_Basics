{
 "cells": [
  {
   "cell_type": "markdown",
   "id": "7921f5ca",
   "metadata": {},
   "source": [
    "## 1.Question\n",
    "\n",
    "Why are functions advantageous to have in your programs?\n",
    "\n",
    "## Answer\n",
    "\n",
    "Functions are advantageous to have in programs for many reasons:\n",
    "\n",
    "1. **Modularity:**\n",
    "   Functions allow to break down code into smaller, manageable pieces. Each function can perform a specific task, making  code more modular and easier to understand, maintain, and debug.\n",
    "\n",
    "2. **Reusability:**\n",
    "   Once we define a function, we can use it multiple times throughout our program or even in different programs. This promotes code reuse and avoids duplication of code, leading to shorter and more efficient programs.\n",
    "\n",
    "3. **Abstraction:**\n",
    "   Functions provide an abstraction layer, allowing us to focus on the high-level logic of our program without worrying about the implementation details of each function. This abstraction simplifies the overall structure of code and makes it more readable.\n",
    "\n",
    "4. **Organization:**\n",
    "   By grouping related code into functions, we can organize our program in a logical and systematic manner. Functions help to improve the overall structure and clarity of code, making it easier to navigate and maintain.\n",
    "\n",
    "5. **Testing and Debugging:**\n",
    "   Functions facilitate testing and debugging by isolating specific parts of code. We can test individual functions independently, making it easier to identify and fix errors without affecting other parts of the program.\n",
    "\n",
    "In summary, functions provide numerous advantages, including modularity, reusability, abstraction, organization, and ease of testing and debugging, which contribute to writing cleaner, more maintainable, and efficient code.\n"
   ]
  },
  {
   "cell_type": "markdown",
   "id": "013b77c0",
   "metadata": {},
   "source": [
    "## 2.Question\n",
    "\n",
    "When does the code in a function run: when it's specified or when it's called?\n",
    "\n",
    "## Answer\n",
    "\n",
    "The code in a function runs when the function is called, not when it's specified.\n",
    "\n",
    "When we define a function in Python, we are essentially creating a blueprint for that function. The code inside the function's body is not executed until we explicitly call the function elsewhere in program.\n",
    "\n",
    "Example:\n",
    "\n",
    "```python\n",
    "def my_function():\n",
    "    print(\"Glad to be part of ineuron\")\n",
    "```\n",
    "\n",
    " **Function definition :**\n",
    " \n",
    "In this case, the code inside the my_function() function, which prints \"This is inside the function\", will only execute when the function is called, like this:\n",
    "\n",
    "```\n",
    "my_function()  # Function call\n",
    "```\n",
    "\n"
   ]
  },
  {
   "cell_type": "code",
   "execution_count": 3,
   "id": "20c1bf7e",
   "metadata": {},
   "outputs": [],
   "source": [
    "def my_function():\n",
    "    print(\"Glad to be part of ineuron\")"
   ]
  },
  {
   "cell_type": "code",
   "execution_count": 4,
   "id": "09c5cf34",
   "metadata": {},
   "outputs": [
    {
     "name": "stdout",
     "output_type": "stream",
     "text": [
      "Glad to be part of ineuron\n"
     ]
    }
   ],
   "source": [
    "my_function()"
   ]
  },
  {
   "cell_type": "markdown",
   "id": "a9e1c13e",
   "metadata": {},
   "source": [
    "## 3.Question\n",
    "\n",
    "What statement creates a function?\n",
    "\n",
    "## Answer\n",
    "\n",
    "In Python, the `def` statement is used to create a function.\n",
    "\n",
    "For example:\n",
    "\n",
    "```python\n",
    "def my_function():\n",
    "    print(\"Hi, ineuron\")\n",
    "\n",
    "```"
   ]
  },
  {
   "cell_type": "code",
   "execution_count": 5,
   "id": "e01795f7",
   "metadata": {},
   "outputs": [
    {
     "name": "stdout",
     "output_type": "stream",
     "text": [
      "Hi, ineuron\n"
     ]
    }
   ],
   "source": [
    "def my_function():\n",
    "    print(\"Hi, ineuron\")\n",
    "    \n",
    "my_function()"
   ]
  },
  {
   "cell_type": "markdown",
   "id": "fc3d7e9d",
   "metadata": {},
   "source": [
    "## 4.Question\n",
    "\n",
    "What is the difference between a function and a function call?\n",
    "\n",
    "## Answer\n",
    "\n",
    "- **Function:**\n",
    "  - A function is a block of reusable code that performs a specific task. It consists of a name, parameters (optional), and a code block that defines the behavior of the function.\n",
    "  - Example:\n",
    "    ```python\n",
    "    def greet(name):\n",
    "        print(\"Hello, \" + name + \"!\")\n",
    "    ```\n",
    "  - In this example, `greet()` is a function that takes a `name` parameter and prints a greeting message.\n",
    "\n",
    "- **Function Call:**\n",
    "  - A function call is the action of invoking or executing a function. It is when we use the function's name followed by parentheses () with any required arguments or parameters to execute the code inside the function.\n",
    "  - Example:\n",
    "    ```python\n",
    "    greet(\"ineuron\")\n",
    "    ```\n",
    "  - In this example, `greet(\"ineuron\")` is a function call that invokes the `greet()` function with the argument `\"ineuron\"`.\n",
    "\n",
    "In summary, a function is a defined block of code, while a function call is the act of using that function to perform a specific task by executing its code.\n"
   ]
  },
  {
   "cell_type": "code",
   "execution_count": 6,
   "id": "639e3ff7",
   "metadata": {},
   "outputs": [
    {
     "name": "stdout",
     "output_type": "stream",
     "text": [
      "Hello, ineuron!\n"
     ]
    }
   ],
   "source": [
    "def greet(name):                      #function with parameter\n",
    "    print(\"Hello, \" + name + \"!\")\n",
    "    \n",
    "greet(\"ineuron\")                         #function call"
   ]
  },
  {
   "cell_type": "markdown",
   "id": "535b1ca5",
   "metadata": {},
   "source": [
    "## 5.Question\n",
    "\n",
    "How many global scopes are there in a Python program? How many local scopes?\n",
    "\n",
    "## Answer\n",
    "\n",
    "In a Python program, there is typically one global scope and multiple local scopes.\n",
    "\n",
    "- **Global Scope:**\n",
    "  - There is one global scope per program execution. Variables defined outside of any function or class have global scope and can be accessed from anywhere in the program.\n",
    "\n",
    "- **Local Scopes:**\n",
    "  - Local scopes are created whenever a function is called. Each function call creates its own local scope. Variables defined within a function have local scope and can only be accessed within that function.\n",
    "\n",
    "example:\n",
    "\n",
    "```python\n",
    "x = 10  # Global variable\n",
    "\n",
    "def my_function():\n",
    "    y = 20  # Local variable\n",
    "    print(x)  # Accessing global variable\n",
    "    print(y)  # Accessing local variable\n",
    "\n",
    "my_function()\n",
    "print(x)  # Accessing global variable outside function\n"
   ]
  },
  {
   "cell_type": "code",
   "execution_count": 10,
   "id": "e8596829",
   "metadata": {},
   "outputs": [],
   "source": [
    "x = 10 \n",
    "def my_function():\n",
    "    y = 20  \n",
    "    print(x)  \n",
    "    print(y) \n",
    "    "
   ]
  },
  {
   "cell_type": "code",
   "execution_count": 13,
   "id": "8f8ae107",
   "metadata": {},
   "outputs": [
    {
     "name": "stdout",
     "output_type": "stream",
     "text": [
      "10\n",
      "20\n",
      "10\n"
     ]
    }
   ],
   "source": [
    "my_function()\n",
    "print(x)"
   ]
  },
  {
   "cell_type": "markdown",
   "id": "d6ea0bb3",
   "metadata": {},
   "source": [
    "## 6.Question\n",
    "\n",
    "What happens to variables in a local scope when the function call returns?\n",
    "\n",
    "## Answer\n",
    "\n",
    "When a function call returns, the local variables within that function scope are destroyed or deallocated. This means that the memory allocated to store the local variables is released, and the variables cease to exist.\n",
    "\n",
    "After the function call returns, any attempt to access the local variables from outside the function scope will result in a `NameError` because the variables no longer exist.\n",
    "\n",
    "example:\n",
    "\n",
    "```python\n",
    "def my_function():\n",
    "    x1 = 100  # Local variable\n",
    "    print(\"Inside function:\", x1)\n",
    "\n",
    "my_function()  # Function call\n",
    "print(\"Outside function:\", x1) \n"
   ]
  },
  {
   "cell_type": "code",
   "execution_count": 20,
   "id": "6f187ff8",
   "metadata": {},
   "outputs": [],
   "source": [
    "def my_function():\n",
    "    x1 = 100  \n",
    "    print(\"Inside function:\", x1)\n"
   ]
  },
  {
   "cell_type": "code",
   "execution_count": 22,
   "id": "b985ff0b",
   "metadata": {},
   "outputs": [
    {
     "name": "stdout",
     "output_type": "stream",
     "text": [
      "Inside function: 100\n"
     ]
    }
   ],
   "source": [
    "my_function()  "
   ]
  },
  {
   "cell_type": "code",
   "execution_count": 23,
   "id": "5842a8d3",
   "metadata": {},
   "outputs": [
    {
     "ename": "NameError",
     "evalue": "name 'x1' is not defined",
     "output_type": "error",
     "traceback": [
      "\u001b[1;31m---------------------------------------------------------------------------\u001b[0m",
      "\u001b[1;31mNameError\u001b[0m                                 Traceback (most recent call last)",
      "\u001b[1;32m~\\AppData\\Local\\Temp\\ipykernel_2056\\2859963296.py\u001b[0m in \u001b[0;36m<module>\u001b[1;34m\u001b[0m\n\u001b[1;32m----> 1\u001b[1;33m \u001b[0mprint\u001b[0m\u001b[1;33m(\u001b[0m\u001b[1;34m\"Outside function:\"\u001b[0m\u001b[1;33m,\u001b[0m \u001b[0mx1\u001b[0m\u001b[1;33m)\u001b[0m\u001b[1;33m\u001b[0m\u001b[1;33m\u001b[0m\u001b[0m\n\u001b[0m",
      "\u001b[1;31mNameError\u001b[0m: name 'x1' is not defined"
     ]
    }
   ],
   "source": [
    "print(\"Outside function:\", x1) # Attempt to access local variable, so it shows name error"
   ]
  },
  {
   "cell_type": "markdown",
   "id": "7c80827e",
   "metadata": {},
   "source": [
    "## 7.Question\n",
    "\n",
    "What is the concept of a return value? Is it possible to have a return value in an expression?\n",
    "\n",
    "## Answer\n",
    "\n",
    "- **Concept of a Return Value:**\n",
    "  - In programming, a return value is the value that a function sends back to the code that called it. When a function is executed, it may perform some computation and produce a result. The return value is the result of that computation, which can be used by the calling code for further processing.\n",
    "  \n",
    "- **Return Value in an Expression:**\n",
    "  - Yes, it is possible to have a return value in an expression. Functions can be part of expressions in Python, and their return values can be used directly within those expressions.\n",
    "  - Example:\n",
    "    ```python\n",
    "    def add(a, b):\n",
    "        return a + b\n",
    "    \n",
    "    result = add(3, 5) \n",
    "    print(\"Result:\", result) \n",
    "    ```\n",
    "\n",
    "here, the `add()` function returns the sum of its two arguments (`a` and `b`). The return value of the function is then used directly within the expression `result = add(3, 5)` to assign the sum to the variable `result`.\n"
   ]
  },
  {
   "cell_type": "code",
   "execution_count": 27,
   "id": "93555de5",
   "metadata": {},
   "outputs": [
    {
     "name": "stdout",
     "output_type": "stream",
     "text": [
      "Result: 8\n"
     ]
    }
   ],
   "source": [
    "def add(a, b):\n",
    "    return a + b\n",
    "    \n",
    "result = add(3, 5)  # Function call with return value in expression\n",
    "print(\"Result:\", result)"
   ]
  },
  {
   "cell_type": "markdown",
   "id": "163f847e",
   "metadata": {},
   "source": [
    "## 8.Question\n",
    "\n",
    "If a function does not have a return statement, what is the return value of a call to that function?\n",
    "\n",
    "## Answer\n",
    "\n",
    "If a function does not have a return statement, or if the return statement does not specify any value to return, the function call will still return a value. In Python, every function call returns `None` by default if no explicit return value is provided.\n",
    "\n",
    "example:\n"
   ]
  },
  {
   "cell_type": "code",
   "execution_count": 32,
   "id": "91d19b80",
   "metadata": {},
   "outputs": [
    {
     "name": "stdout",
     "output_type": "stream",
     "text": [
      "This function does not have a return statement\n",
      "Return value: None\n"
     ]
    }
   ],
   "source": [
    "def my_function():\n",
    "    print(\"This function does not have a return statement\")\n",
    "\n",
    "result = my_function()\n",
    "print(\"Return value:\", result)"
   ]
  },
  {
   "cell_type": "markdown",
   "id": "8074aa5e",
   "metadata": {},
   "source": [
    "## 9.Question\n",
    "\n",
    "How do you make a function variable refer to the global variable?\n",
    "\n",
    "## Answer\n",
    "\n",
    "In Python, to make a function variable refer to the global variable, you can use the `global` keyword inside the function to explicitly declare the variable as global. This allows the function to access and modify the value of the global variable within its scope.\n",
    "\n",
    "example:\n"
   ]
  },
  {
   "cell_type": "code",
   "execution_count": 33,
   "id": "57fc1cc8",
   "metadata": {},
   "outputs": [
    {
     "name": "stdout",
     "output_type": "stream",
     "text": [
      "Updated global variable: 20\n"
     ]
    }
   ],
   "source": [
    "x = 10  # Global variable\n",
    "\n",
    "def my_function():\n",
    "    global x  # Declare x as global\n",
    "    x = 20   # Modify the global variable\n",
    "\n",
    "my_function()  # Call the function\n",
    "print(\"Updated global variable:\", x) "
   ]
  },
  {
   "cell_type": "markdown",
   "id": "4d7f53a4",
   "metadata": {},
   "source": [
    "## 10.Question\n",
    "\n",
    "What is the data type of None?\n",
    "\n",
    "## Answer\n",
    "\n",
    "In Python, `None` is a special constant that represents the absence of a value or a null value. It is often used to indicate that a variable or expression does not have a meaningful value.\n",
    "\n",
    "The data type of `None` is `NoneType`, which is a built-in data type in Python.\n",
    "\n",
    "For example:\n"
   ]
  },
  {
   "cell_type": "code",
   "execution_count": 34,
   "id": "eb7ea2be",
   "metadata": {},
   "outputs": [
    {
     "name": "stdout",
     "output_type": "stream",
     "text": [
      "<class 'NoneType'>\n"
     ]
    }
   ],
   "source": [
    "x = None\n",
    "print(type(x)) "
   ]
  },
  {
   "cell_type": "markdown",
   "id": "3a783069",
   "metadata": {},
   "source": [
    "## 11.Question\n",
    "\n",
    "What does the sentence `import areallyourpetsnamederic` do?\n",
    "\n",
    "## Answer\n",
    "\n",
    "The sentence `import areallyourpetsnamederic` attempts to import a module named `areallyourpetsnamederic` in Python.\n",
    "\n",
    "When you use the `import` statement in Python, you can import modules or packages that contain Python code and definitions. In this case, Python will try to find a module named `areallyourpetsnamederic` in the directories specified by the Python interpreter's search path.\n",
    "\n",
    "If the module is found, its code is executed, and its namespace becomes available for use in the current program. If the module is not found, Python will raise an `ModuleNotFoundError` indicating that the module could not be located.\n",
    "\n",
    "It's worth noting that the name `areallyourpetsnamederic` is not a standard Python module, so attempting to import it would result in an error unless you have defined such a module in your codebase.\n"
   ]
  },
  {
   "cell_type": "code",
   "execution_count": 36,
   "id": "63a6ea0e",
   "metadata": {},
   "outputs": [
    {
     "ename": "ModuleNotFoundError",
     "evalue": "No module named 'areallyourpetsnamederic'",
     "output_type": "error",
     "traceback": [
      "\u001b[1;31m---------------------------------------------------------------------------\u001b[0m",
      "\u001b[1;31mModuleNotFoundError\u001b[0m                       Traceback (most recent call last)",
      "\u001b[1;32m~\\AppData\\Local\\Temp\\ipykernel_2056\\1841865816.py\u001b[0m in \u001b[0;36m<module>\u001b[1;34m\u001b[0m\n\u001b[1;32m----> 1\u001b[1;33m \u001b[1;32mimport\u001b[0m \u001b[0mareallyourpetsnamederic\u001b[0m  \u001b[1;31m#ModuleNotFoundError\u001b[0m\u001b[1;33m\u001b[0m\u001b[1;33m\u001b[0m\u001b[0m\n\u001b[0m",
      "\u001b[1;31mModuleNotFoundError\u001b[0m: No module named 'areallyourpetsnamederic'"
     ]
    }
   ],
   "source": [
    "import areallyourpetsnamederic  #ModuleNotFoundError"
   ]
  },
  {
   "cell_type": "markdown",
   "id": "2504f99b",
   "metadata": {},
   "source": [
    "## 12.Question\n",
    "\n",
    "If you had a `bacon()` feature in a `spam` module, what would you call it after importing `spam`?\n",
    "\n",
    "## Answer\n",
    "\n",
    "After importing the `spam` module, you can call the `bacon()` function by using the dot notation, which combines the module name (`spam`) and the function name (`bacon()`).\n",
    "\n",
    "Here's how you would call the `bacon()` function after importing the `spam` module:\n",
    "\n",
    "```python\n",
    "import spam\n",
    "\n",
    "# Call the bacon() function from the spam module\n",
    "spam.bacon()\n"
   ]
  },
  {
   "cell_type": "markdown",
   "id": "79355859",
   "metadata": {},
   "source": [
    "## 13.Question\n",
    "\n",
    "What can you do to save a program from crashing if it encounters an error?\n",
    "\n",
    "## Answer\n",
    "\n",
    "To prevent a program from crashing when it encounters an error, you can implement error handling using try-except blocks in Python.\n",
    "\n",
    "- **Try-Except Blocks:**\n",
    "  - A try-except block allows you to catch and handle exceptions that occur within your code. You place the code that might raise an exception inside the `try` block, and specify the type of exception you want to catch in the `except` block. If an exception occurs in the `try` block, Python will execute the code in the corresponding `except` block, allowing your program to gracefully handle the error without crashing.\n",
    "  \n",
    "Example:\n"
   ]
  },
  {
   "cell_type": "code",
   "execution_count": 39,
   "id": "f01f5b78",
   "metadata": {},
   "outputs": [
    {
     "ename": "ZeroDivisionError",
     "evalue": "division by zero",
     "output_type": "error",
     "traceback": [
      "\u001b[1;31m---------------------------------------------------------------------------\u001b[0m",
      "\u001b[1;31mZeroDivisionError\u001b[0m                         Traceback (most recent call last)",
      "\u001b[1;32m~\\AppData\\Local\\Temp\\ipykernel_2056\\1197071274.py\u001b[0m in \u001b[0;36m<module>\u001b[1;34m\u001b[0m\n\u001b[1;32m----> 1\u001b[1;33m \u001b[0mresult\u001b[0m \u001b[1;33m=\u001b[0m \u001b[1;36m10\u001b[0m \u001b[1;33m/\u001b[0m \u001b[1;36m0\u001b[0m\u001b[1;33m\u001b[0m\u001b[1;33m\u001b[0m\u001b[0m\n\u001b[0m",
      "\u001b[1;31mZeroDivisionError\u001b[0m: division by zero"
     ]
    }
   ],
   "source": [
    " result = 10 / 0"
   ]
  },
  {
   "cell_type": "code",
   "execution_count": 37,
   "id": "ff9861a0",
   "metadata": {},
   "outputs": [
    {
     "name": "stdout",
     "output_type": "stream",
     "text": [
      "Error: Division by zero!\n"
     ]
    }
   ],
   "source": [
    "try:\n",
    "    # Code that might raise an exception\n",
    "    result = 10 / 0\n",
    "except ZeroDivisionError:\n",
    "    # Handle the exception\n",
    "    print(\"Error: Division by zero!\")"
   ]
  },
  {
   "cell_type": "markdown",
   "id": "bc5711a6",
   "metadata": {},
   "source": [
    "## 14.Question\n",
    "\n",
    "What is the purpose of the try clause? What is the purpose of the except clause?\n",
    "\n",
    "## Answer\n",
    "\n",
    "- **Purpose of the `try` Clause:**\n",
    "  - The purpose of the `try` clause in a try-except block is to enclose the code that might raise an exception. Inside the `try` block, you place the code that could potentially raise an exception. Python will attempt to execute the code within the `try` block, and if an exception occurs during execution, Python will jump to the corresponding `except` block.\n",
    "\n",
    "- **Purpose of the `except` Clause:**\n",
    "  - The purpose of the `except` clause is to handle exceptions that occur within the corresponding `try` block. If an exception occurs in the `try` block, Python will look for a matching `except` block that handles that specific type of exception. If a matching `except` block is found, Python will execute the code inside the `except` block to handle the exception. This allows your program to gracefully recover from errors without crashing.\n",
    "\n",
    "Example:\n",
    "\n",
    "```python\n",
    "try:\n",
    "    # Code that might raise an exception\n",
    "    result = 10 / 0  # Division by zero\n",
    "except ZeroDivisionError:\n",
    "    # Handle the exception\n",
    "    print(\"Error: Division by zero!\")\n"
   ]
  },
  {
   "cell_type": "code",
   "execution_count": null,
   "id": "7c3c6767",
   "metadata": {},
   "outputs": [],
   "source": []
  }
 ],
 "metadata": {
  "kernelspec": {
   "display_name": "Python 3 (ipykernel)",
   "language": "python",
   "name": "python3"
  },
  "language_info": {
   "codemirror_mode": {
    "name": "ipython",
    "version": 3
   },
   "file_extension": ".py",
   "mimetype": "text/x-python",
   "name": "python",
   "nbconvert_exporter": "python",
   "pygments_lexer": "ipython3",
   "version": "3.9.13"
  }
 },
 "nbformat": 4,
 "nbformat_minor": 5
}
