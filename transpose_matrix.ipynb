{
 "cells": [
  {
   "cell_type": "code",
   "execution_count": 3,
   "id": "f577374a-d259-4c48-aaa3-c19fc6e95230",
   "metadata": {},
   "outputs": [
    {
     "name": "stdin",
     "output_type": "stream",
     "text": [
      "Enter the number of rows:  2\n",
      "Enter the number of columns:  2\n"
     ]
    },
    {
     "name": "stdout",
     "output_type": "stream",
     "text": [
      "Enter the elements of the first matrix:\n"
     ]
    },
    {
     "name": "stdin",
     "output_type": "stream",
     "text": [
      "Element (1, 1):  1\n",
      "Element (1, 2):  2\n",
      "Element (2, 1):  3\n",
      "Element (2, 2):  3\n"
     ]
    },
    {
     "name": "stdout",
     "output_type": "stream",
     "text": [
      "Enter the elements of the second matrix:\n"
     ]
    },
    {
     "name": "stdin",
     "output_type": "stream",
     "text": [
      "Element (1, 1):  1\n",
      "Element (1, 2):  1\n",
      "Element (2, 1):  2\n",
      "Element (2, 2):  3\n"
     ]
    },
    {
     "name": "stdout",
     "output_type": "stream",
     "text": [
      "The resultant matrix after addition is:\n",
      "[2, 3]\n",
      "[5, 6]\n"
     ]
    }
   ],
   "source": [
    "# Program to add two matrices\n",
    "\n",
    "def add_matrices(matrix1, matrix2):\n",
    "    # Check if matrices have the same dimensions\n",
    "    if len(matrix1) != len(matrix2) or len(matrix1[0]) != len(matrix2[0]):\n",
    "        raise ValueError(\"Matrices must have the same dimensions for addition.\")\n",
    "    \n",
    "    # Perform matrix addition\n",
    "    result = [[matrix1[i][j] + matrix2[i][j] for j in range(len(matrix1[0]))] for i in range(len(matrix1))]\n",
    "    return result\n",
    "\n",
    "rows = int(input(\"Enter the number of rows: \"))\n",
    "cols = int(input(\"Enter the number of columns: \"))\n",
    "\n",
    "print(\"Enter the elements of the first matrix:\")\n",
    "matrix1 = [[int(input(f\"Element ({i+1}, {j+1}): \")) for j in range(cols)] for i in range(rows)]\n",
    "\n",
    "print(\"Enter the elements of the second matrix:\")\n",
    "matrix2 = [[int(input(f\"Element ({i+1}, {j+1}): \")) for j in range(cols)] for i in range(rows)]\n",
    "\n",
    "# Add the matrices\n",
    "try:\n",
    "    result_matrix = add_matrices(matrix1, matrix2)\n",
    "    print(\"The resultant matrix after addition is:\")\n",
    "    for row in result_matrix:\n",
    "        print(row)\n",
    "except ValueError as e:\n",
    "    print(e)\n"
   ]
  },
  {
   "cell_type": "code",
   "execution_count": 6,
   "id": "fe8ccb39-e7cb-4ca1-863d-1fb04d6fb60c",
   "metadata": {},
   "outputs": [
    {
     "name": "stdin",
     "output_type": "stream",
     "text": [
      "Enter the number of rows for the first matrix:  2\n",
      "Enter the number of columns for the first matrix:  2\n"
     ]
    },
    {
     "name": "stdout",
     "output_type": "stream",
     "text": [
      "Enter the elements of the first matrix:\n"
     ]
    },
    {
     "name": "stdin",
     "output_type": "stream",
     "text": [
      "Element (1, 1):  2\n",
      "Element (1, 2):  3\n",
      "Element (2, 1):  4\n",
      "Element (2, 2):  4\n",
      "Enter the number of rows for the second matrix:  2\n",
      "Enter the number of columns for the second matrix:  2\n"
     ]
    },
    {
     "name": "stdout",
     "output_type": "stream",
     "text": [
      "Enter the elements of the second matrix:\n"
     ]
    },
    {
     "name": "stdin",
     "output_type": "stream",
     "text": [
      "Element (1, 1):  3\n",
      "Element (1, 2):  4\n",
      "Element (2, 1):  5\n",
      "Element (2, 2):  6\n"
     ]
    },
    {
     "name": "stdout",
     "output_type": "stream",
     "text": [
      "The resultant matrix after multiplication is:\n",
      "[21, 26]\n",
      "[32, 40]\n"
     ]
    }
   ],
   "source": [
    "# Program to multiply two matrices\n",
    "\n",
    "def multiply_matrices(matrix1, matrix2):\n",
    "    # Check if matrices can be multiplied\n",
    "    if len(matrix1[0]) != len(matrix2):\n",
    "        raise ValueError(\"Number of columns in the first matrix must be equal to the number of rows in the second matrix.\")\n",
    "    \n",
    "    # Resultant matrix of size (rows of matrix1 x columns of matrix2)\n",
    "    result = [[0 for _ in range(len(matrix2[0]))] for _ in range(len(matrix1))]\n",
    "    \n",
    "    # Perform matrix multiplication\n",
    "    for i in range(len(matrix1)):\n",
    "        for j in range(len(matrix2[0])):\n",
    "            for k in range(len(matrix2)):\n",
    "                result[i][j] += matrix1[i][k] * matrix2[k][j]\n",
    "    \n",
    "    return result\n",
    "\n",
    "rows1 = int(input(\"Enter the number of rows for the first matrix: \"))\n",
    "cols1 = int(input(\"Enter the number of columns for the first matrix: \"))\n",
    "\n",
    "print(\"Enter the elements of the first matrix:\")\n",
    "matrix1 = [[int(input(f\"Element ({i+1}, {j+1}): \")) for j in range(cols1)] for i in range(rows1)]\n",
    "\n",
    "rows2 = int(input(\"Enter the number of rows for the second matrix: \"))\n",
    "cols2 = int(input(\"Enter the number of columns for the second matrix: \"))\n",
    "\n",
    "print(\"Enter the elements of the second matrix:\")\n",
    "matrix2 = [[int(input(f\"Element ({i+1}, {j+1}): \")) for j in range(cols2)] for i in range(rows2)]\n",
    "\n",
    "# Multiply the matrices\n",
    "try:\n",
    "    result_matrix = multiply_matrices(matrix1, matrix2)\n",
    "    print(\"The resultant matrix after multiplication is:\")\n",
    "    for row in result_matrix:\n",
    "        print(row)\n",
    "except ValueError as e:\n",
    "    print(e)\n",
    "\n"
   ]
  },
  {
   "cell_type": "code",
   "execution_count": 7,
   "id": "9e56f3e8-f4a5-4e66-86b3-fff0251d72a3",
   "metadata": {},
   "outputs": [
    {
     "name": "stdin",
     "output_type": "stream",
     "text": [
      "Enter the number of rows:  2\n",
      "Enter the number of columns:  2\n"
     ]
    },
    {
     "name": "stdout",
     "output_type": "stream",
     "text": [
      "Enter the elements of the matrix:\n"
     ]
    },
    {
     "name": "stdin",
     "output_type": "stream",
     "text": [
      "Element (1, 1):  3\n",
      "Element (1, 2):  4\n",
      "Element (2, 1):  5\n",
      "Element (2, 2):  5\n"
     ]
    },
    {
     "name": "stdout",
     "output_type": "stream",
     "text": [
      "The transposed matrix is:\n",
      "[3, 5]\n",
      "[4, 5]\n"
     ]
    }
   ],
   "source": [
    "# Program to transpose a matrix\n",
    "\n",
    "def transpose_matrix(matrix):\n",
    "    # Transpose the matrix\n",
    "    return [[matrix[j][i] for j in range(len(matrix))] for i in range(len(matrix[0]))]\n",
    "\n",
    "rows = int(input(\"Enter the number of rows: \"))\n",
    "cols = int(input(\"Enter the number of columns: \"))\n",
    "\n",
    "print(\"Enter the elements of the matrix:\")\n",
    "matrix = [[int(input(f\"Element ({i+1}, {j+1}): \")) for j in range(cols)] for i in range(rows)]\n",
    "\n",
    "# Transpose the matrix\n",
    "transposed_matrix = transpose_matrix(matrix)\n",
    "\n",
    "# Display the transposed matrix\n",
    "print(\"The transposed matrix is:\")\n",
    "for row in transposed_matrix:\n",
    "    print(row)\n"
   ]
  },
  {
   "cell_type": "code",
   "execution_count": 10,
   "id": "cd4c71be-3d37-431a-a91c-fe1d45bf882a",
   "metadata": {},
   "outputs": [
    {
     "name": "stdin",
     "output_type": "stream",
     "text": [
      "Enter a sentence:  python is fun and amazing\n"
     ]
    },
    {
     "name": "stdout",
     "output_type": "stream",
     "text": [
      "The sorted sentence is:\n",
      "amazing and fun is python\n"
     ]
    }
   ],
   "source": [
    "# Program to sort words in alphabetic order\n",
    "\n",
    "def sort_words(sentence):\n",
    "    # Split the sentence into words, sort them, and join them back\n",
    "    words = sentence.split()\n",
    "    words.sort(key=str.lower)  # Sort case-insensitively\n",
    "    return ' '.join(words)\n",
    "\n",
    "sentence = input(\"Enter a sentence: \")\n",
    "\n",
    "# Sort words\n",
    "sorted_sentence = sort_words(sentence)\n",
    "\n",
    "# Display the result\n",
    "print(\"The sorted sentence is:\")\n",
    "print(sorted_sentence)\n"
   ]
  },
  {
   "cell_type": "code",
   "execution_count": 11,
   "id": "a134cf89-89c6-4c86-8519-8e670e874bf3",
   "metadata": {},
   "outputs": [
    {
     "name": "stdin",
     "output_type": "stream",
     "text": [
      "Enter a string:  Hello, ineuron! How's it going?\n"
     ]
    },
    {
     "name": "stdout",
     "output_type": "stream",
     "text": [
      "The string without punctuation is:\n",
      "Hello ineuron Hows it going\n"
     ]
    }
   ],
   "source": [
    "# Program to remove punctuation from a string\n",
    "\n",
    "def remove_punctuation(input_string):\n",
    "    # Define a set of punctuation marks\n",
    "    punctuation = '''!()-[]{};:'\"\\,<>./?@#$%^&*_~'''\n",
    "    result = ''.join(char for char in input_string if char not in punctuation)\n",
    "    return result\n",
    "\n",
    "# Input string\n",
    "input_string = input(\"Enter a string: \")\n",
    "\n",
    "# Remove punctuation\n",
    "cleaned_string = remove_punctuation(input_string)\n",
    "\n",
    "# Display the result\n",
    "print(\"The string without punctuation is:\")\n",
    "print(cleaned_string)\n"
   ]
  }
 ],
 "metadata": {
  "kernelspec": {
   "display_name": "Python 3 (ipykernel)",
   "language": "python",
   "name": "python3"
  },
  "language_info": {
   "codemirror_mode": {
    "name": "ipython",
    "version": 3
   },
   "file_extension": ".py",
   "mimetype": "text/x-python",
   "name": "python",
   "nbconvert_exporter": "python",
   "pygments_lexer": "ipython3",
   "version": "3.11.5"
  }
 },
 "nbformat": 4,
 "nbformat_minor": 5
}
