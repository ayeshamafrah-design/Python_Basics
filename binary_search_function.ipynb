{
 "cells": [
  {
   "cell_type": "markdown",
   "id": "e54eb3a4-8a42-47a1-9727-a48186b02aa9",
   "metadata": {},
   "source": [
    "### Q1: Define a class with a generator which can iterate the numbers divisible by 7, between a given range 0 and n."
   ]
  },
  {
   "cell_type": "code",
   "execution_count": 66,
   "id": "b181057c-d291-4f8d-be03-daf3f6f590f6",
   "metadata": {},
   "outputs": [
    {
     "name": "stdout",
     "output_type": "stream",
     "text": [
      "Numbers divisible by 7 between 0 and 50:\n",
      "0 7 14 21 28 35 42 49 "
     ]
    }
   ],
   "source": [
    "class DivisibleBySeven:\n",
    "    def __init__(self, n):\n",
    "        self.n = n\n",
    "\n",
    "    def generator(self):\n",
    "        for i in range(self.n + 1):\n",
    "            if i % 7 == 0:\n",
    "                yield i\n",
    "\n",
    "obj = DivisibleBySeven(50)\n",
    "print(\"Numbers divisible by 7 between 0 and 50:\")\n",
    "for number in obj.generator():\n",
    "    print(number, end=\" \")\n"
   ]
  },
  {
   "cell_type": "markdown",
   "id": "428d5e19-a1e6-4e2b-b905-07d868f4f837",
   "metadata": {},
   "source": [
    "#### Q2: Write a program to compute the frequency of the words from the input.\n",
    "#### The output should be sorted alphanumerically by the keys."
   ]
  },
  {
   "cell_type": "code",
   "execution_count": 67,
   "id": "dd9c42ab-7e07-4f21-9b28-427e1a516a56",
   "metadata": {},
   "outputs": [
    {
     "name": "stdout",
     "output_type": "stream",
     "text": [
      "2:2\n",
      "3.:1\n",
      "3?:1\n",
      "New:1\n",
      "Python:5\n",
      "Read:1\n",
      "and:1\n",
      "between:1\n",
      "choosing:1\n",
      "or:2\n",
      "to:1\n"
     ]
    }
   ],
   "source": [
    "text = \"New to Python or choosing between Python 2 and Python 3? Read Python 2 or Python 3.\"\n",
    "\n",
    "words = text.split()\n",
    "word_freq = {}\n",
    "for word in words:\n",
    "    word_freq[word] = word_freq.get(word, 0) + 1\n",
    "\n",
    "for word, freq in sorted(word_freq.items()):\n",
    "    print(f\"{word}:{freq}\")\n"
   ]
  },
  {
   "cell_type": "markdown",
   "id": "bd839470-9d11-4984-8239-1bc9be77db15",
   "metadata": {},
   "source": [
    "#### Q3: Define a class Person and its two child classes: Male and Female.\n",
    "#### All classes have a method \"getGender\" to print \"Male\" or \"Female\".\n"
   ]
  },
  {
   "cell_type": "code",
   "execution_count": 69,
   "id": "65f7f0c0-893b-45c5-8811-8d5cc622147d",
   "metadata": {},
   "outputs": [
    {
     "name": "stdout",
     "output_type": "stream",
     "text": [
      "Gender of Male class: Male\n",
      "Gender of Female class: Female\n"
     ]
    }
   ],
   "source": [
    "class Person:\n",
    "    def getGender(self):\n",
    "        raise NotImplementedError(\"Subclass must implement abstract method\")\n",
    "\n",
    "class Male(Person):\n",
    "    def getGender(self):\n",
    "        return \"Male\"\n",
    "\n",
    "class Female(Person):\n",
    "    def getGender(self):\n",
    "        return \"Female\"\n",
    "\n",
    "# Example usage\n",
    "m = Male()\n",
    "f = Female()\n",
    "print(\"Gender of Male class:\", m.getGender())\n",
    "print(\"Gender of Female class:\", f.getGender())"
   ]
  },
  {
   "cell_type": "markdown",
   "id": "24f636cf-971d-482c-850d-f4b2bbfea131",
   "metadata": {},
   "source": [
    "#### Q4: Generate all sentences where subject is in [\"I\", \"You\"], verb is in [\"Play\", \"Love\"],\n",
    "#### and the object is in [\"Hockey\", \"Football\"]."
   ]
  },
  {
   "cell_type": "code",
   "execution_count": 70,
   "id": "e2de59cf-8e97-42d4-b6dc-01732761ce2d",
   "metadata": {},
   "outputs": [
    {
     "name": "stdout",
     "output_type": "stream",
     "text": [
      "Generated Sentences:\n",
      "I Play Hockey\n",
      "I Play Football\n",
      "I Love Hockey\n",
      "I Love Football\n",
      "You Play Hockey\n",
      "You Play Football\n",
      "You Love Hockey\n",
      "You Love Football\n"
     ]
    }
   ],
   "source": [
    "subjects = [\"I\", \"You\"]\n",
    "verbs = [\"Play\", \"Love\"]\n",
    "objects = [\"Hockey\", \"Football\"]\n",
    "\n",
    "# Generating sentences\n",
    "sentences = [f\"{sub} {verb} {obj}\" for sub in subjects for verb in verbs for obj in objects]\n",
    "print(\"Generated Sentences:\")\n",
    "for sentence in sentences:\n",
    "    print(sentence)"
   ]
  },
  {
   "cell_type": "markdown",
   "id": "eb699822-2010-43ef-b853-e5e5a4ac5f38",
   "metadata": {},
   "source": [
    "#### Q5: Write a program to compress and decompress the string \"hello world!hello world!hello world!hello world!\"."
   ]
  },
  {
   "cell_type": "code",
   "execution_count": 71,
   "id": "5a0444d8-f324-41f2-9daf-eb9aad5ac607",
   "metadata": {},
   "outputs": [
    {
     "name": "stdout",
     "output_type": "stream",
     "text": [
      "Compressed string: b'x\\x9c\\xcbH\\xcd\\xc9\\xc9W(\\xcf/\\xcaIQ\\xcc \\x82\\r\\x00\\xbd[\\x11\\xf5'\n",
      "Decompressed string: hello world!hello world!hello world!hello world!\n"
     ]
    }
   ],
   "source": [
    "import zlib\n",
    "\n",
    "original_string = \"hello world!hello world!hello world!hello world!\"\n",
    "\n",
    "compressed = zlib.compress(original_string.encode())\n",
    "print(\"Compressed string:\", compressed)\n",
    "\n",
    "decompressed = zlib.decompress(compressed).decode()\n",
    "print(\"Decompressed string:\", decompressed)\n"
   ]
  },
  {
   "cell_type": "markdown",
   "id": "856684dc-1e8d-4e26-878f-b95d14415368",
   "metadata": {},
   "source": [
    "#### Q6 : Write a binary search function which searches an item in a sorted list.\n",
    "#### The function should return the index of the element to be searched."
   ]
  },
  {
   "cell_type": "code",
   "execution_count": 72,
   "id": "6f7a2b10-c04e-43c3-9d8a-1665adfc06d4",
   "metadata": {},
   "outputs": [
    {
     "name": "stdout",
     "output_type": "stream",
     "text": [
      "Index of 7 in the list: 3\n"
     ]
    }
   ],
   "source": [
    "def binary_search(arr, target):\n",
    "    left, right = 0, len(arr) - 1\n",
    "    while left <= right:\n",
    "        mid = (left + right) // 2\n",
    "        if arr[mid] == target:\n",
    "            return mid\n",
    "        elif arr[mid] < target:\n",
    "            left = mid + 1\n",
    "        else:\n",
    "            right = mid - 1\n",
    "    return -1\n",
    "\n",
    "sorted_list = [1, 3, 5, 7, 9, 11]\n",
    "target = 7\n",
    "result = binary_search(sorted_list, target)\n",
    "print(f\"Index of {target} in the list:\", result)\n"
   ]
  }
 ],
 "metadata": {
  "kernelspec": {
   "display_name": "Python 3 (ipykernel)",
   "language": "python",
   "name": "python3"
  },
  "language_info": {
   "codemirror_mode": {
    "name": "ipython",
    "version": 3
   },
   "file_extension": ".py",
   "mimetype": "text/x-python",
   "name": "python",
   "nbconvert_exporter": "python",
   "pygments_lexer": "ipython3",
   "version": "3.11.5"
  }
 },
 "nbformat": 4,
 "nbformat_minor": 5
}
