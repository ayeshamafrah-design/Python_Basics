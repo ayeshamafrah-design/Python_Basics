{
 "cells": [
  {
   "cell_type": "markdown",
   "id": "79283327-a4ad-4189-922d-05fe3c3212ad",
   "metadata": {},
   "source": [
    "### 1. What is the relationship between `def` statements and `lambda` expressions?\n",
    "\n",
    "In Python, both `def` statements and `lambda` expressions are used to define functions, but they are used in different contexts and have distinct characteristics:\n",
    "\n",
    "- **`def` statement**:\n",
    "  - A function defined using the `def` keyword is a standard function definition.\n",
    "  - It is more flexible and allows for multi-line function bodies.\n",
    "  - It can include docstrings, multiple statements, and support for complex logic.\n",
    "  - Example:\n",
    "\n",
    "    ```python\n",
    "    def add(x, y):\n",
    "        return x + y\n",
    "    ```\n",
    "\n",
    "- **`lambda` expression**:\n",
    "  - A `lambda` function is an anonymous function (i.e., it does not have a name) defined using the `lambda` keyword.\n",
    "  - It is used for simple, one-liner functions.\n",
    "  - `lambda` expressions can only contain a single expression, which is returned automatically.\n",
    "  - Example:\n",
    "\n",
    "    ```python\n",
    "    add = lambda x, y: x + y\n",
    "    ```\n",
    "\n",
    "### **Relationship**:\n",
    "- Both `def` and `lambda` define functions, but `lambda` is a more compact and concise way to define functions that are typically used temporarily or in situations where a simple operation is needed.\n",
    "- `lambda` functions are often used in contexts where functions are passed as arguments to higher-order functions like `map()`, `filter()`, and `sorted()`, while `def` functions are used for more complex logic.\n",
    "\n",
    "### **Key Differences**:\n",
    "- `def` is suited for multi-line, complex function definitions, while `lambda` is best for simple, single-expression functions.\n",
    "- `lambda` functions are anonymous and do not have a name, unlike functions defined with `def`.\n"
   ]
  },
  {
   "cell_type": "markdown",
   "id": "f8b866d6-350e-4fbb-9c9f-9086d079c713",
   "metadata": {},
   "source": [
    "### 2. What is the benefit of `lambda`?\n",
    "\n",
    "The main benefits of `lambda` functions in Python are:\n",
    "\n",
    "- **Concise and Compact**:\n",
    "  - `lambda` functions allow you to define small, one-liner functions in a concise manner without needing a full function definition using `def`. This makes the code more compact, especially for simple operations.\n",
    "\n",
    "- **Anonymous Functions**:\n",
    "  - `lambda` functions are anonymous, meaning they don’t require a name. This makes them useful when you need a temporary function that won’t be reused.\n",
    "\n",
    "- **Inline Usage**:\n",
    "  - `lambda` is often used inline as an argument to higher-order functions like `map()`, `filter()`, and `sorted()`. It allows you to pass a function without needing to define it separately.\n",
    "  \n",
    "- **Improves Readability**:\n",
    "  - For simple, straightforward operations, using `lambda` can enhance readability by keeping the code short and eliminating unnecessary function definitions.\n",
    "\n",
    "### Example Usage:\n",
    "```python\n",
    "# Without lambda:\n",
    "def square(x):\n",
    "    return x ** 2\n",
    "\n",
    "# With lambda:\n",
    "square = lambda x: x ** 2\n",
    "\n",
    "print(square(5)) "
   ]
  },
  {
   "cell_type": "markdown",
   "id": "607921b0-3f6d-418d-8715-243bcb151e97",
   "metadata": {},
   "source": [
    "### 3. Compare and contrast `map()`, `filter()`, and `reduce()`.\n",
    "\n",
    "In Python, `map()`, `filter()`, and `reduce()` are higher-order functions that allow you to operate on iterables (like lists) in a functional programming style. Here’s how they differ:\n",
    "\n",
    "#### 1. `map()`\n",
    "- **Purpose**: Applies a function to every item in an iterable (e.g., list) and returns a new iterable (map object) with the results.\n",
    "- **Syntax**: `map(function, iterable)`\n",
    "- **Returns**: A map object (which can be converted to a list or other collection).\n",
    "- **Usage**: Ideal for transforming data by applying a function to each element in an iterable."
   ]
  },
  {
   "cell_type": "code",
   "execution_count": 15,
   "id": "a130bf1a-ecb6-41e9-8c81-038dccb3095a",
   "metadata": {},
   "outputs": [
    {
     "name": "stdout",
     "output_type": "stream",
     "text": [
      "[2, 4, 6, 8, 10]\n"
     ]
    }
   ],
   "source": [
    "# Function to double a number\n",
    "def double(x):\n",
    "    return x * 2\n",
    "\n",
    "# Using map to double every number in the list\n",
    "numbers = [1, 2, 3, 4, 5]\n",
    "result = map(double, numbers)\n",
    "print(list(result)) \n"
   ]
  },
  {
   "cell_type": "markdown",
   "id": "cdd36232-2e3b-4d49-b48f-6af6a1aaeb8d",
   "metadata": {},
   "source": [
    "2. filter()\n",
    "Purpose: Filters elements from an iterable based on a function that returns a boolean value. The function is applied to each element, and only those elements where the function returns True are kept.\n",
    "Syntax: filter(function, iterable)\n",
    "Returns: A filter object (which can be converted to a list or other collection).\n",
    "Usage: Useful when you want to filter data according to a condition."
   ]
  },
  {
   "cell_type": "code",
   "execution_count": 14,
   "id": "ca6f2599-829d-4665-991d-2ead5ecc17bb",
   "metadata": {},
   "outputs": [
    {
     "name": "stdout",
     "output_type": "stream",
     "text": [
      "[2, 4, 6]\n"
     ]
    }
   ],
   "source": [
    "# Function to check if a number is even\n",
    "def is_even(x):\n",
    "    return x % 2 == 0\n",
    "\n",
    "# Using filter to get only even numbers\n",
    "numbers = [1, 2, 3, 4, 5, 6]\n",
    "result = filter(is_even, numbers)\n",
    "print(list(result)) \n"
   ]
  },
  {
   "cell_type": "markdown",
   "id": "af867ba7-a567-4337-ab60-be2903b2e0b8",
   "metadata": {},
   "source": [
    "3. reduce(): Applies a function cumulatively to the items in an iterable (from left to right) to reduce them to a single value.\n",
    "Syntax: reduce(function, iterable[, initializer])\n",
    "Returns: A single value that is the result of reducing the iterable.\n",
    "Usage: Often used for cumulative operations such as summing a list, multiplying elements, or finding the greatest common divisor (GCD)."
   ]
  },
  {
   "cell_type": "code",
   "execution_count": 13,
   "id": "bfdd6a4a-2015-4d5a-b750-085906617cca",
   "metadata": {},
   "outputs": [
    {
     "name": "stdout",
     "output_type": "stream",
     "text": [
      "15\n"
     ]
    }
   ],
   "source": [
    "from functools import reduce\n",
    "\n",
    "# Function to add two numbers\n",
    "def add(x, y):\n",
    "    return x + y\n",
    "\n",
    "# Using reduce to sum all numbers in the list\n",
    "numbers = [1, 2, 3, 4, 5]\n",
    "result = reduce(add, numbers)\n",
    "print(result) \n"
   ]
  },
  {
   "cell_type": "markdown",
   "id": "5cbc2a8a-22a1-414f-a909-171a50185691",
   "metadata": {},
   "source": [
    "### 4. What are function annotations, and how are they used?\n",
    "\n",
    "Function annotations are a way to attach metadata or hints to the parameters and return value of a function. They don't change the functionality of the function, but they provide information about the types of parameters or the expected return type. This can be helpful for documentation, static analysis, and for better code readability.\n",
    "\n",
    "Function annotations are specified using a colon (:) after the parameter name and an arrow (->) for the return type.\n",
    "\n",
    "#### Syntax:\n",
    "```python\n",
    "def function_name(parameter: type) -> return_type:\n",
    "    pass\n"
   ]
  },
  {
   "cell_type": "code",
   "execution_count": 16,
   "id": "4252ac36-58c6-4b83-b37e-d6c5f7c3271d",
   "metadata": {},
   "outputs": [],
   "source": [
    "def add(a: int, b: int) -> int:\n",
    "    return a + b\n"
   ]
  },
  {
   "cell_type": "code",
   "execution_count": 17,
   "id": "122d496f-d462-498b-82d5-d9eed6c1133d",
   "metadata": {},
   "outputs": [
    {
     "name": "stdout",
     "output_type": "stream",
     "text": [
      "{'a': <class 'int'>, 'b': <class 'int'>, 'return': <class 'int'>}\n"
     ]
    }
   ],
   "source": [
    "print(add.__annotations__)"
   ]
  },
  {
   "cell_type": "markdown",
   "id": "4a495d88-99f7-46a4-a315-a31ac8bdbd27",
   "metadata": {},
   "source": [
    "### 5. What are recursive functions, and how are they used?\n",
    "\n",
    "A **recursive function** is a function that calls itself in order to solve a problem. It breaks the problem into smaller instances of the same problem, and the recursion stops when a **base case** is met.\n",
    "\n",
    "**Components of a Recursive Function**:\n",
    "- **Base Case**: The condition that ends the recursion. Without a base case, the function would call itself indefinitely, resulting in a stack overflow.\n",
    "- **Recursive Case**: The part where the function calls itself with a smaller or simpler input to move closer to the base case.\n",
    "\n",
    "**Example Use Case**:\n",
    "- Calculating the factorial of a number is a classic example of recursion, where the function calls itself with a decreasing value until it reaches 1, which is the base case.\n",
    "\n",
    "**Why Use Recursion?**:\n",
    "- Recursion simplifies problems that can be divided into smaller, similar subproblems. It's often used in algorithms like tree traversals, dynamic programming, and divide-and-conquer algorithms.\n",
    "\n",
    "**Common Examples**:\n",
    "1. Factorial Calculation\n",
    "2. Fibonacci Sequence Calculation\n",
    "3. Tree and Graph Traversals\n",
    "4. Searching and Sorting Algorithms\n",
    "\n",
    "Recursion can be a powerful tool for solving complex problems, but it must be used carefully to avoid infinite recursion and excessive memory usage.\n"
   ]
  },
  {
   "cell_type": "code",
   "execution_count": 20,
   "id": "5958dea2-da46-4688-ac37-fc44def02b9c",
   "metadata": {},
   "outputs": [
    {
     "name": "stdout",
     "output_type": "stream",
     "text": [
      "The factorial of 5 is 120\n"
     ]
    }
   ],
   "source": [
    "# Recursive function to calculate factorial\n",
    "def factorial(n):\n",
    "    # Base case: factorial of 0 or 1 is 1\n",
    "    if n == 0 or n == 1:\n",
    "        return 1\n",
    "    # Recursive case: factorial of n is n * factorial of (n-1)\n",
    "    else:\n",
    "        return n * factorial(n-1)\n",
    "\n",
    "# Example usage\n",
    "number = 5\n",
    "result = factorial(number)\n",
    "print(f\"The factorial of {number} is {result}\")\n"
   ]
  },
  {
   "cell_type": "markdown",
   "id": "8e08ebe8-bfa2-4fb6-8482-78a791327085",
   "metadata": {},
   "source": [
    "### 6. What are some general design guidelines for coding functions?\n",
    "\n",
    "When designing functions, it's important to follow certain guidelines to make your code clean, efficient, and maintainable. Here are some general design principles:\n",
    "\n",
    "1. **Single Responsibility Principle**:\n",
    "   - A function should perform a single task or solve one specific problem. If a function tries to do too much, it becomes harder to understand, test, and maintain.\n",
    "\n",
    "2. **Descriptive Function Names**:\n",
    "   - Choose meaningful, descriptive names for functions that clearly indicate what the function does. Avoid generic names like `doSomething` or `processData` unless it’s very clear from the context.\n",
    "\n",
    "3. **Function Length**:\n",
    "   - Functions should generally be small and concise. If a function becomes too large, it might be a sign that it is trying to handle too many tasks. Split it into smaller, more manageable functions if needed.\n",
    "\n",
    "4. **Parameters**:\n",
    "   - Keep the number of parameters to a reasonable level. Too many parameters can make the function harder to understand and use. If necessary, consider grouping related parameters into a dictionary or a class.\n",
    "\n",
    "5. **Return Values**:\n",
    "   - Functions should return values, not print them. By returning data, you allow the function to be more flexible, and it can be easily reused in different contexts.\n",
    "\n",
    "6. **Docstrings**:\n",
    "   - Always document your functions using docstrings. This is especially important in larger codebases or when working in teams. A good docstring should describe what the function does, the parameters it takes, and what it returns.\n",
    "\n",
    "7. **Avoid Side Effects**:\n",
    "   - Functions should ideally be \"pure\" – meaning they shouldn’t have side effects, like modifying global variables or performing I/O operations, unless explicitly required.\n",
    "\n",
    "8. **Error Handling**:\n",
    "   - Always account for possible errors by using `try` and `except` blocks. Handle exceptions gracefully and provide useful error messages to make debugging easier.\n",
    "\n",
    "9. **Testability**:\n",
    "   - Design your functions in a way that they can be easily tested. Functions should have clear inputs and outputs, and any side effects (such as changes to global state) should be minimized.\n",
    "\n",
    "10. **Avoid Duplication**:\n",
    "    - Don’t repeat the same logic in multiple places. If you find yourself doing so, create a reusable function. This makes your code more modular and easier to maintain.\n",
    "\n",
    "By following these guidelines, you can ensure that your functions are easy to understand, test, and maintain, leading to more efficient and scalable code.\n"
   ]
  },
  {
   "cell_type": "code",
   "execution_count": 21,
   "id": "f495120f-956a-4cb2-a722-85482e5501c3",
   "metadata": {},
   "outputs": [
    {
     "name": "stdout",
     "output_type": "stream",
     "text": [
      "The area of the rectangle is: 15\n"
     ]
    }
   ],
   "source": [
    "# Example: Function to calculate the area of a rectangle\n",
    "\n",
    "def calculate_rectangle_area(length, width):\n",
    "    \"\"\"\n",
    "    This function calculates the area of a rectangle.\n",
    "    \n",
    "    Parameters:\n",
    "    length (float): The length of the rectangle.\n",
    "    width (float): The width of the rectangle.\n",
    "    \n",
    "    Returns:\n",
    "    float: The area of the rectangle (length * width).\n",
    "    \"\"\"\n",
    "    \n",
    "    # Input validation (error handling)\n",
    "    if length <= 0 or width <= 0:\n",
    "        raise ValueError(\"Length and width must be positive values.\")\n",
    "    \n",
    "    # Return the area\n",
    "    return length * width\n",
    "\n",
    "# Example usage\n",
    "try:\n",
    "    length = 5\n",
    "    width = 3\n",
    "    area = calculate_rectangle_area(length, width)\n",
    "    print(f\"The area of the rectangle is: {area}\")\n",
    "except ValueError as e:\n",
    "    print(f\"Error: {e}\")\n"
   ]
  },
  {
   "cell_type": "markdown",
   "id": "d4a40e3e-a653-40fc-b855-63da747a15fc",
   "metadata": {},
   "source": [
    "### 7. Name three or more ways that functions can communicate results to a caller.\n",
    "\n",
    "Functions in Python can communicate results to the caller in several ways, depending on the context and what the function is designed to do. Here are three common methods:\n",
    "\n",
    "1. **Return Statement**:\n",
    "   - The most common way for a function to communicate results is by using the `return` statement. This allows the function to send back a value or object to the caller, which can then be used or further processed.\n",
    "\n",
    "2. **Global Variables**:\n",
    "   - Functions can also modify global variables. These are variables that are defined outside of any function and can be accessed or changed by any function in the program. However, modifying global variables is generally discouraged as it can lead to unexpected behavior.\n",
    "\n",
    "3. **Mutable Arguments**:\n",
    "   - Functions can communicate results by modifying mutable objects (e.g., lists, dictionaries) passed as arguments. These changes persist outside the function since mutable objects are passed by reference.\n",
    "\n",
    "4. **Exceptions**:\n",
    "   - Functions can raise exceptions to communicate error states or special conditions to the caller. By raising an exception, the function can terminate early and pass control to an exception handler in the caller.\n",
    "\n",
    "These are common ways that functions communicate results to the caller in Python. They allow for flexibility in how results are handled and passed between functions, depending on the specific use case.\n"
   ]
  },
  {
   "cell_type": "code",
   "execution_count": 23,
   "id": "6a349636-c22c-43d7-a935-43b4997f046d",
   "metadata": {},
   "outputs": [
    {
     "name": "stdout",
     "output_type": "stream",
     "text": [
      "The result of the addition is: 8\n"
     ]
    }
   ],
   "source": [
    "# Function to add two numbers\n",
    "def add(a, b):\n",
    "    return a + b  # Communicating the result back to the caller\n",
    "\n",
    "# Calling the function\n",
    "result = add(5, 3)\n",
    "\n",
    "# Printing the result\n",
    "print(f\"The result of the addition is: {result}\")\n"
   ]
  },
  {
   "cell_type": "code",
   "execution_count": null,
   "id": "888825ca-e206-4823-b7fe-beb9c7ecc88d",
   "metadata": {},
   "outputs": [],
   "source": []
  }
 ],
 "metadata": {
  "kernelspec": {
   "display_name": "Python 3 (ipykernel)",
   "language": "python",
   "name": "python3"
  },
  "language_info": {
   "codemirror_mode": {
    "name": "ipython",
    "version": 3
   },
   "file_extension": ".py",
   "mimetype": "text/x-python",
   "name": "python",
   "nbconvert_exporter": "python",
   "pygments_lexer": "ipython3",
   "version": "3.11.5"
  }
 },
 "nbformat": 4,
 "nbformat_minor": 5
}
