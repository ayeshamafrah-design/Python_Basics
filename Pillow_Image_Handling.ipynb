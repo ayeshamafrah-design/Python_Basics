{
 "cells": [
  {
   "cell_type": "markdown",
   "id": "cbad6e40-cc2c-496f-9532-f917c92f0c96",
   "metadata": {},
   "source": [
    "### 1. What does RGBA stand for?\n",
    "\n",
    "**RGBA** stands for:\n",
    "- **R**: Red\n",
    "- **G**: Green\n",
    "- **B**: Blue\n",
    "- **A**: Alpha (transparency)\n",
    "\n",
    "Each of these components is represented as a value ranging from 0 to 255. The **Alpha** channel controls the transparency:\n",
    "- A value of `0` means fully transparent.\n",
    "- A value of `255` means fully opaque.\n",
    "\n",
    "RGBA is a color model used in digital imaging to represent colors and their transparency.\n",
    "\n",
    "#### Example:\n",
    "An RGBA value `(255, 0, 0, 128)` represents:\n",
    "- Full red color,\n",
    "- No green or blue,\n",
    "- 50% transparency (as Alpha is 128 out of 255).\n"
   ]
  },
  {
   "cell_type": "markdown",
   "id": "2dcc4e8b-1b14-4aa1-901a-fb1b08dfc3e4",
   "metadata": {},
   "source": [
    "### 2. From the Pillow module, how do you get the RGBA value of any image?\n",
    "\n",
    "You can use the **`getpixel()`** method from the Pillow module to get the RGBA value of a specific pixel in an image.\n",
    "\n",
    "#### Steps:\n",
    "1. Open the image file using the **`Image.open()`** method.\n",
    "2. Ensure the image is in the RGBA mode. If not, convert it using the **`convert('RGBA')`** method.\n",
    "3. Use **`getpixel((x, y))`** to fetch the RGBA value of the pixel at the specified `(x, y)` coordinates.\n",
    "\n",
    "#### Example:\n"
   ]
  },
  {
   "cell_type": "code",
   "execution_count": 14,
   "id": "02015e6d-a1b0-4f19-8401-16fca9341ae2",
   "metadata": {},
   "outputs": [
    {
     "name": "stdout",
     "output_type": "stream",
     "text": [
      "RGBA value at (150, 400): (60, 121, 170, 255)\n"
     ]
    }
   ],
   "source": [
    "from PIL import Image\n",
    "\n",
    "# Open the image\n",
    "image = Image.open(\"python_logo.png\").convert(\"RGBA\")\n",
    "\n",
    "# Get the RGBA value of the pixel at (150, 400)\n",
    "rgba_value = image.getpixel((150, 400))\n",
    "\n",
    "print(f\"RGBA value at (150, 400): {rgba_value}\")\n"
   ]
  },
  {
   "cell_type": "markdown",
   "id": "e8ee8962-06f4-4707-b99a-0a34ccbefd6e",
   "metadata": {},
   "source": [
    "### 3. What is a box tuple, and how does it work?\n",
    "\n",
    "A **box tuple** in the Pillow library is a tuple that defines a rectangular region in an image. It consists of four integers:\n",
    "\n",
    "1. **(left, upper, right, lower)**\n",
    "\n",
    "#### How it works:\n",
    "- **`left`**: The x-coordinate of the left edge of the rectangle.\n",
    "- **`upper`**: The y-coordinate of the top edge of the rectangle.\n",
    "- **`right`**: The x-coordinate of the right edge of the rectangle.\n",
    "- **`lower`**: The y-coordinate of the bottom edge of the rectangle.\n",
    "\n",
    "The box defines the area to work with when cropping, pasting, or resizing images.\n",
    "\n",
    "### Example:\n",
    "Suppose you want to crop an image to a region starting at `(50, 50)` and ending at `(200, 200)`.\n"
   ]
  },
  {
   "cell_type": "code",
   "execution_count": 7,
   "id": "dadd1898-204b-4f87-a2a6-4124127cb33f",
   "metadata": {},
   "outputs": [],
   "source": [
    "from PIL import Image\n",
    "\n",
    "# Open an image\n",
    "image = Image.open(\"python_logo.png\")\n",
    "\n",
    "# Define a box tuple for cropping\n",
    "box = (50, 50, 200, 200)\n",
    "\n",
    "# Crop the image using the box\n",
    "cropped_image = image.crop(box)\n",
    "\n",
    "# Save or display the cropped image\n",
    "cropped_image.show()  # Shows the cropped image\n",
    "cropped_image.save(\"cropped_logo.png\")"
   ]
  },
  {
   "cell_type": "markdown",
   "id": "e0147a1d-77cf-4461-b3fa-b7102ca3be67",
   "metadata": {},
   "source": [
    "### 4. How can you find out the width and height of an Image object?\n",
    "\n",
    "You can use the **`size`** attribute of an Image object from the Pillow library. The `size` attribute returns a tuple with two values:\n",
    "1. **Width** (in pixels)\n",
    "2. **Height** (in pixels)\n"
   ]
  },
  {
   "cell_type": "code",
   "execution_count": 6,
   "id": "df4ad800-1ca3-461a-8427-3d9f9a81660d",
   "metadata": {},
   "outputs": [
    {
     "name": "stdout",
     "output_type": "stream",
     "text": [
      "Width: 800 pixels\n",
      "Height: 878 pixels\n"
     ]
    }
   ],
   "source": [
    "from PIL import Image\n",
    "\n",
    "# Open an image\n",
    "image = Image.open(\"python_logo.png\")\n",
    "\n",
    "# Get the width and height\n",
    "width, height = image.size\n",
    "\n",
    "print(f\"Width: {width} pixels\")\n",
    "print(f\"Height: {height} pixels\")"
   ]
  },
  {
   "cell_type": "markdown",
   "id": "e55f2ffe-432f-464b-904d-8ae24c619679",
   "metadata": {},
   "source": [
    "### 5. What method would you call to get an Image object for a 100×100 image, excluding the lower-left quarter of it?\n",
    "\n",
    "To get an Image object for a 100x100 image excluding the lower-left quarter, you can use the **`crop()`** method from the Pillow library. The **`crop()`** method takes a **box tuple** that specifies the region of the image to keep. In this case, you'll define a box that excludes the lower-left quarter.\n",
    "\n",
    "### Steps:\n",
    "1. Define the full image area (100x100).\n",
    "2. Specify the region to keep by excluding the lower-left quarter (which would be the bottom-left 50x50 portion).\n",
    "3. Use **`crop()`** to get the new Image object for the remaining region."
   ]
  },
  {
   "cell_type": "code",
   "execution_count": 18,
   "id": "8f05685d-4201-4f3d-a094-a59887040a49",
   "metadata": {},
   "outputs": [],
   "source": [
    "from PIL import Image\n",
    "\n",
    "# Open the image\n",
    "image = Image.open(\"python_logo.png\")\n",
    "\n",
    "# Define the box tuple for excluding the lower-left quarter\n",
    "# Full image is 100x100, so we want to keep the top-right 50x100\n",
    "box = (50, 0, 100, 100)\n",
    "\n",
    "# Crop the image\n",
    "cropped_image = image.crop(box)\n",
    "\n",
    "# Show or save the cropped image\n",
    "cropped_image.show()  # Displays the cropped image\n",
    "cropped_image.save(\"cropped_logo.png\")\n"
   ]
  },
  {
   "cell_type": "markdown",
   "id": "def1bb66-b2cd-41b7-b932-90d2178dbca5",
   "metadata": {},
   "source": [
    "### 6. After making changes to an Image object, how could you save it as an image file?\n",
    "\n",
    "After making changes to an Image object, you can save it using the **`save()`** method from the Pillow library. The **`save()`** method allows you to specify the output file format (e.g., PNG, JPEG) and save the modified image to a file.\n",
    "\n",
    "```python\n",
    "from PIL import Image\n",
    "\n",
    "# Open the image\n",
    "image = Image.open(\"python_logo.png\")\n",
    "\n",
    "# Make some changes to the image (for example, convert to grayscale)\n",
    "image = image.convert(\"L\")\n",
    "\n",
    "# Save the modified image\n",
    "image.save(\"modified_example.png\")\n"
   ]
  },
  {
   "cell_type": "markdown",
   "id": "e4b42861-06a4-4c53-aeb0-044c484d297f",
   "metadata": {},
   "source": [
    "### 7. What module contains Pillow’s shape-drawing code?\n",
    "\n",
    "Pillow’s shape-drawing code is contained in the **`ImageDraw`** module. The `ImageDraw` module allows you to draw various shapes (such as lines, rectangles, ellipses) and add text to an image.\n",
    "\n",
    "### Example of Drawing Shapes:\n",
    "To draw shapes, you need to first create an `ImageDraw.Draw` object, which allows you to draw on the `Image` object.\n",
    "\n",
    "```python\n",
    "from PIL import Image, ImageDraw\n",
    "\n",
    "# Open an image\n",
    "image = Image.open(\"shape_draw.png\")\n",
    "\n",
    "# Create an ImageDraw object\n",
    "draw = ImageDraw.Draw(image)\n",
    "\n",
    "# Draw a red rectangle (left, top, right, bottom)\n",
    "draw.rectangle([50, 50, 200, 200], outline=\"red\", width=3)\n",
    "\n",
    "# Draw a blue ellipse\n",
    "draw.ellipse([100, 100, 300, 300], outline=\"blue\", width=3)\n",
    "\n",
    "# Draw text on the image\n",
    "draw.text((10, 10), \"Hello, World!\", fill=\"green\")\n",
    "\n",
    "# Save the modified image\n",
    "image.save(\"shapes_logo.png\")\n",
    "\n",
    "# Show the image with shapes\n",
    "image.show()\n"
   ]
  },
  {
   "cell_type": "markdown",
   "id": "3d050517-683a-4d6d-9b15-1b37fbc14e56",
   "metadata": {},
   "source": [
    "### 8. Image objects do not have drawing methods. What kind of object does? How do you get this kind of object?\n",
    "\n",
    "Image objects themselves do not have drawing methods, but **`ImageDraw`** objects are used to draw on images. The `ImageDraw` object is used to draw shapes, lines, text, and other graphics on an image.\n",
    "\n",
    "### How to Get an ImageDraw Object:\n",
    "To get an `ImageDraw` object, you need to create one by passing an `Image` object to the `ImageDraw.Draw()` method. This allows you to draw on the image.\n",
    "\n",
    "```python\n",
    "from PIL import Image, ImageDraw\n",
    "\n",
    "# Open an image\n",
    "image = Image.open(\"imagedraw.png\")\n",
    "\n",
    "# Create an ImageDraw object\n",
    "draw = ImageDraw.Draw(image)\n",
    "\n",
    "# Now you can draw on the image using the 'draw' object\n",
    "draw.line((0, 0, 100, 100), fill=\"black\", width=5)  # Draw a line\n",
    "draw.rectangle([50, 50, 200, 200], outline=\"red\", width=3)  # Draw a rectangle\n",
    "\n",
    "# Save the modified image\n",
    "image.save(\"image_with_drawings.png\")\n",
    "\n",
    "# Show the image with drawings\n",
    "image.show()\n"
   ]
  }
 ],
 "metadata": {
  "kernelspec": {
   "display_name": "Python 3 (ipykernel)",
   "language": "python",
   "name": "python3"
  },
  "language_info": {
   "codemirror_mode": {
    "name": "ipython",
    "version": 3
   },
   "file_extension": ".py",
   "mimetype": "text/x-python",
   "name": "python",
   "nbconvert_exporter": "python",
   "pygments_lexer": "ipython3",
   "version": "3.11.5"
  }
 },
 "nbformat": 4,
 "nbformat_minor": 5
}
