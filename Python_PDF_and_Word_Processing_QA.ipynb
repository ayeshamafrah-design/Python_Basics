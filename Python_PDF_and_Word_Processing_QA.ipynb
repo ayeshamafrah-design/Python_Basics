{
 "cells": [
  {
   "cell_type": "markdown",
   "id": "02b9d2bd-62ec-4eb0-a2aa-655c141323e9",
   "metadata": {},
   "source": [
    "### 1. In what modes should the `PdfFileReader()` and `PdfFileWriter()` file objects be opened?\n",
    "\n",
    "- **`PdfFileReader()`**: The file should be opened in **binary read mode** (`'rb'`).\n",
    "- **`PdfFileWriter()`**: The file should be opened in **binary write mode** (`'wb'`).\n"
   ]
  },
  {
   "cell_type": "markdown",
   "id": "1bf16404-2959-462b-afe2-a403d27c9ba9",
   "metadata": {},
   "source": [
    "### 2. From a `PdfFileReader` object, how do you get a Page object for page 5?\n",
    "\n",
    "To get a Page object for page 5, use the `getPage()` method of the `PdfFileReader` object. Note that page numbers are zero-indexed, so page 5 is represented by index 4.\n",
    "\n",
    "#### Example:\n",
    "```python\n",
    "from PyPDF2 import PdfFileReader\n",
    "\n",
    "reader = PdfFileReader(open('example.pdf', 'rb'))\n",
    "page_5 = reader.getPage(4)  # Page 5 is at index 4\n",
    "print(page_5.extractText())  # Extract text from the page\n"
   ]
  },
  {
   "cell_type": "markdown",
   "id": "1da093f1-f362-4a19-8ac2-06f5fe9a49cd",
   "metadata": {},
   "source": [
    "### 3. What `PdfFileReader` variable stores the number of pages in the PDF document?\n",
    "\n",
    "The `numPages` attribute of the `PdfFileReader` object stores the total number of pages in the PDF.\n",
    "\n",
    "#### Example:\n",
    "```python\n",
    "from PyPDF2 import PdfFileReader\n",
    "\n",
    "reader = PdfFileReader(open('example.pdf', 'rb'))\n",
    "total_pages = reader.numPages\n",
    "print(f\"The PDF has {total_pages} pages.\")\n"
   ]
  },
  {
   "cell_type": "markdown",
   "id": "af16f89d-a168-4893-9d50-e133d46ffcc4",
   "metadata": {},
   "source": [
    "### 4. If a `PdfFileReader` object’s PDF is encrypted with the password `swordfish`, what must you do before you can obtain Page objects from it?\n",
    "\n",
    "If the PDF is encrypted, you must call the `decrypt()` method of the `PdfFileReader` object and provide the correct password (in this case, `swordfish`) before accessing its pages.\n",
    "\n",
    "#### Example:\n",
    "```python\n",
    "from PyPDF2 import PdfFileReader\n",
    "\n",
    "reader = PdfFileReader(open('encrypted.pdf', 'rb'))\n",
    "\n",
    "# Decrypt the PDF with the password\n",
    "if reader.isEncrypted:\n",
    "    reader.decrypt('swordfish')\n",
    "\n",
    "# Access a page after decryption\n",
    "page_5 = reader.getPage(4)  # Page 5 is at index 4\n",
    "print(page_5.extractText())\n"
   ]
  },
  {
   "cell_type": "markdown",
   "id": "9353c3c3-118d-421b-b593-d31f7f128777",
   "metadata": {},
   "source": [
    "### 5. What methods do you use to rotate a page?\n",
    "\n",
    "The following methods are used to rotate a page in a `PdfFileReader` or `PdfFileWriter` object:\n",
    "- **`rotateClockwise(degrees)`**: Rotates the page clockwise by the specified degrees (must be a multiple of 90).\n",
    "- **`rotateCounterClockwise(degrees)`**: Rotates the page counterclockwise by the specified degrees (must be a multiple of 90).\n",
    "\n",
    "#### Example:\n",
    "```python\n",
    "from PyPDF2 import PdfFileReader, PdfFileWriter\n",
    "\n",
    "reader = PdfFileReader(open('example.pdf', 'rb'))\n",
    "writer = PdfFileWriter()\n",
    "\n",
    "# Rotate the first page clockwise by 90 degrees\n",
    "page = reader.getPage(0)\n",
    "page.rotateClockwise(90)\n",
    "writer.addPage(page)\n",
    "\n",
    "# Save the rotated page to a new PDF\n",
    "with open('rotated_output.pdf', 'wb') as output_file:\n",
    "    writer.write(output_file)\n"
   ]
  },
  {
   "cell_type": "markdown",
   "id": "40c2dafd-c506-4553-b7d9-3f6e5a29bc39",
   "metadata": {},
   "source": [
    "### 6. What is the difference between a Run object and a Paragraph object?\n",
    "\n",
    "- **Paragraph Object**: Represents a single paragraph in a Word document. A paragraph can contain multiple styles and text but is considered a single unit.\n",
    "- **Run Object**: Represents a contiguous segment of text within a paragraph that shares the same style. A paragraph can contain multiple runs if the text style changes within the paragraph.\n",
    "\n",
    "#### Key Difference:\n",
    "- A paragraph can include multiple runs with varying styles (e.g., some text bold and some italic).\n",
    "- A run is a portion of a paragraph with consistent style.\n",
    "\n"
   ]
  },
  {
   "cell_type": "markdown",
   "id": "c040bcfd-f5f6-4ad8-bfb9-5e71170fb2a5",
   "metadata": {},
   "source": [
    "### 7. How do you obtain a list of Paragraph objects for a Document object that’s stored in a variable named `doc`?\n",
    "\n",
    "You can obtain a list of `Paragraph` objects from a `Document` object using its `paragraphs` attribute.\n",
    "\n",
    "#### Example:\n",
    "```python\n",
    "from docx import Document\n",
    "\n",
    "doc = Document('example.docx')\n",
    "\n",
    "# Get all paragraphs as a list\n",
    "paragraphs = doc.paragraphs\n",
    "\n",
    "# Print the text of each paragraph\n",
    "for paragraph in paragraphs:\n",
    "    print(paragraph.text)\n"
   ]
  },
  {
   "cell_type": "markdown",
   "id": "dded8f2a-2387-44b4-ba74-cb9d84189713",
   "metadata": {},
   "source": [
    "### 8. What type of object has `bold`, `underline`, `italic`, `strike`, and `outline` variables?\n",
    "\n",
    "The **`Run` object** has the following style-related variables:\n",
    "- `bold`\n",
    "- `underline`\n",
    "- `italic`\n",
    "- `strike`\n",
    "- `outline`\n",
    "\n",
    "These variables allow you to modify or check the styling of the text within a `Run`.\n",
    "\n",
    "#### Example:\n",
    "```python\n",
    "from docx import Document\n",
    "\n",
    "doc = Document()\n",
    "paragraph = doc.add_paragraph(\"This is a paragraph with \")\n",
    "run = paragraph.add_run(\"formatted text.\")\n",
    "\n",
    "# Apply formatting to the run\n",
    "run.bold = True\n",
    "run.italic = True\n",
    "run.underline = True\n",
    "\n",
    "doc.save('formatted_example.docx')\n"
   ]
  },
  {
   "cell_type": "markdown",
   "id": "04815ff9-92c1-4549-ab37-2d81daf69aef",
   "metadata": {},
   "source": [
    "### 9. What is the difference between `False`, `True`, and `None` for the `bold` variable?\n",
    "\n",
    "- **`False`**: This means the text is **not bold**.\n",
    "- **`True`**: This means the text is **bold**.\n",
    "- **`None`**: This means the **bold formatting is not set**. It is the default state, and no explicit bold formatting has been applied to the text.\n",
    "\n",
    "#### Example:\n",
    "```python\n",
    "from docx import Document\n",
    "\n",
    "doc = Document()\n",
    "paragraph = doc.add_paragraph(\"This is a paragraph with \")\n",
    "run = paragraph.add_run(\"bold text.\")\n",
    "\n",
    "# Set bold to True\n",
    "run.bold = True  # Text will be bold\n",
    "\n",
    "# Set bold to False\n",
    "run.bold = False  # Text will not be bold\n",
    "\n",
    "# Set bold to None\n",
    "run.bold = None  # No explicit bold formatting applied\n",
    "\n",
    "doc.save('example.docx')\n"
   ]
  },
  {
   "cell_type": "markdown",
   "id": "e050119c-9aff-447d-9a47-4a22fde5e9ba",
   "metadata": {},
   "source": [
    "### 10. How do you create a `Document` object for a new Word document?\n",
    "\n",
    "You can create a new `Document` object using the `Document()` constructor from the `python-docx` library. This will create an empty Word document.\n",
    "\n",
    "#### Example:\n",
    "```python\n",
    "from docx import Document\n",
    "\n",
    "# Create a new Document object\n",
    "doc = Document()\n",
    "\n",
    "# Add a title or content if needed\n",
    "doc.add_paragraph(\"This is a new document.\")\n",
    "\n",
    "# Save the document\n",
    "doc.save('new_document.docx')\n"
   ]
  },
  {
   "cell_type": "markdown",
   "id": "2bce6b61-3492-4dca-b18c-6c6f53247a2e",
   "metadata": {},
   "source": [
    "### 11. How do you add a paragraph with the text 'Hello, there!' to a `Document` object stored in a variable named `doc`?\n",
    "\n",
    "You can add a paragraph to a `Document` object using the `add_paragraph()` method. Pass the text `'Hello, there!'` as an argument to this method.\n",
    "\n",
    "#### Example:\n",
    "```python\n",
    "from docx import Document\n",
    "\n",
    "# Create or open a Document object\n",
    "doc = Document()\n",
    "\n",
    "# Add a paragraph with the text 'Hello, there!'\n",
    "doc.add_paragraph('Hello, there!')\n",
    "\n",
    "# Save the document\n",
    "doc.save('hello_paragraph.docx')\n"
   ]
  },
  {
   "cell_type": "markdown",
   "id": "677db4b7-6af4-4695-9355-a39fa154a710",
   "metadata": {},
   "source": [
    "### 12. What integers represent the levels of headings available in Word documents?\n",
    "\n",
    "In Word documents, heading levels are represented by integers ranging from 0 to 9, where:\n",
    "\n",
    "- **0**: Represents the main heading (Heading 1).\n",
    "- **1**: Represents the second level heading (Heading 2).\n",
    "- **2**: Represents the third level heading (Heading 3).\n",
    "- And so on, up to **9**, which represents the ninth level heading (Heading 9).\n",
    "\n",
    "#### Example:\n",
    "```python\n",
    "from docx import Document\n",
    "\n",
    "doc = Document()\n",
    "\n",
    "# Add a Heading 1 (main heading)\n",
    "doc.add_heading('Main Heading', level=0)\n",
    "\n",
    "# Add a Heading 2 (second-level heading)\n",
    "doc.add_heading('Subheading', level=1)\n",
    "\n",
    "# Add a Heading 3 (third-level heading)\n",
    "doc.add_heading('Sub-subheading', level=2)\n",
    "\n",
    "# Save the document\n",
    "doc.save('headings_example.docx')\n"
   ]
  }
 ],
 "metadata": {
  "kernelspec": {
   "display_name": "Python 3 (ipykernel)",
   "language": "python",
   "name": "python3"
  },
  "language_info": {
   "codemirror_mode": {
    "name": "ipython",
    "version": 3
   },
   "file_extension": ".py",
   "mimetype": "text/x-python",
   "name": "python",
   "nbconvert_exporter": "python",
   "pygments_lexer": "ipython3",
   "version": "3.11.5"
  }
 },
 "nbformat": 4,
 "nbformat_minor": 5
}
