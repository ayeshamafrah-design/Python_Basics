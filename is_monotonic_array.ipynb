{
 "cells": [
  {
   "cell_type": "code",
   "execution_count": 3,
   "id": "8f4996dc-5cb4-40c3-b523-a02b4553dcd0",
   "metadata": {},
   "outputs": [
    {
     "name": "stdin",
     "output_type": "stream",
     "text": [
      "Enter the number of elements in the array:  4\n"
     ]
    },
    {
     "name": "stdout",
     "output_type": "stream",
     "text": [
      "Enter the elements:\n"
     ]
    },
    {
     "name": "stdin",
     "output_type": "stream",
     "text": [
      "Element 1:  12\n",
      "Element 2:  3\n",
      "Element 3:  12\n",
      "Element 4:  412\n"
     ]
    },
    {
     "name": "stdout",
     "output_type": "stream",
     "text": [
      "The sum of the array elements is: 439.0\n"
     ]
    }
   ],
   "source": [
    "# Program to find the sum of elements in an array\n",
    "\n",
    "def array_sum(arr):\n",
    "    return sum(arr)\n",
    "\n",
    "# Input from user\n",
    "n = int(input(\"Enter the number of elements in the array: \"))\n",
    "array = []\n",
    "\n",
    "print(\"Enter the elements:\")\n",
    "for i in range(n):\n",
    "    element = float(input(f\"Element {i + 1}: \"))\n",
    "    array.append(element)\n",
    "\n",
    "# Calculate sum\n",
    "result = array_sum(array)\n",
    "\n",
    "# Display result\n",
    "print(f\"The sum of the array elements is: {result}\")\n"
   ]
  },
  {
   "cell_type": "code",
   "execution_count": 6,
   "id": "f04d2138-6cf6-41b3-84af-c480c7573c39",
   "metadata": {},
   "outputs": [
    {
     "name": "stdin",
     "output_type": "stream",
     "text": [
      "Enter the number of elements in the array:  3\n"
     ]
    },
    {
     "name": "stdout",
     "output_type": "stream",
     "text": [
      "Enter the elements:\n"
     ]
    },
    {
     "name": "stdin",
     "output_type": "stream",
     "text": [
      "Element 1:  234\n",
      "Element 2:  342\n",
      "Element 3:  453\n"
     ]
    },
    {
     "name": "stdout",
     "output_type": "stream",
     "text": [
      "The largest element in the array is: 453.0\n"
     ]
    }
   ],
   "source": [
    "# Program to find the largest element in an array\n",
    "\n",
    "def find_largest(arr):\n",
    "    return max(arr)\n",
    "\n",
    "# Input from user\n",
    "n = int(input(\"Enter the number of elements in the array: \"))\n",
    "array = []\n",
    "\n",
    "print(\"Enter the elements:\")\n",
    "for i in range(n):\n",
    "    element = float(input(f\"Element {i + 1}: \"))\n",
    "    array.append(element)\n",
    "\n",
    "# Find the largest element\n",
    "largest = find_largest(array)\n",
    "\n",
    "# Display result\n",
    "print(f\"The largest element in the array is: {largest}\")\n"
   ]
  },
  {
   "cell_type": "code",
   "execution_count": 10,
   "id": "d94906ce-16a0-44cc-bb2a-a0808947f5b6",
   "metadata": {},
   "outputs": [
    {
     "name": "stdin",
     "output_type": "stream",
     "text": [
      "Enter the number of elements in the array:  6\n"
     ]
    },
    {
     "name": "stdout",
     "output_type": "stream",
     "text": [
      "Enter the elements:\n"
     ]
    },
    {
     "name": "stdin",
     "output_type": "stream",
     "text": [
      "Element 1:  23\n",
      "Element 2:  22\n",
      "Element 3:  23\n",
      "Element 4:  45\n",
      "Element 5:  66\n",
      "Element 6:  44\n",
      "Enter the number of rotations:  3\n"
     ]
    },
    {
     "name": "stdout",
     "output_type": "stream",
     "text": [
      "The array after 3 rotations is: [45, 66, 44, 23, 22, 23]\n"
     ]
    }
   ],
   "source": [
    "# Program to rotate an array\n",
    "\n",
    "def rotate_array(arr, k):\n",
    "    k = k % len(arr)  # To handle rotations greater than the array length\n",
    "    return arr[k:] + arr[:k]\n",
    "\n",
    "# Input from user\n",
    "n = int(input(\"Enter the number of elements in the array: \"))\n",
    "array = []\n",
    "\n",
    "print(\"Enter the elements:\")\n",
    "for i in range(n):\n",
    "    element = int(input(f\"Element {i + 1}: \"))\n",
    "    array.append(element)\n",
    "\n",
    "k = int(input(\"Enter the number of rotations: \"))\n",
    "\n",
    "# Perform array rotation\n",
    "rotated_array = rotate_array(array, k)\n",
    "\n",
    "# Display result\n",
    "print(f\"The array after {k} rotations is: {rotated_array}\")\n"
   ]
  },
  {
   "cell_type": "code",
   "execution_count": 11,
   "id": "c571f553-65c4-4bf4-906a-b068f4c4cfdb",
   "metadata": {},
   "outputs": [
    {
     "name": "stdin",
     "output_type": "stream",
     "text": [
      "Enter the number of elements in the array:  7\n"
     ]
    },
    {
     "name": "stdout",
     "output_type": "stream",
     "text": [
      "Enter the elements:\n"
     ]
    },
    {
     "name": "stdin",
     "output_type": "stream",
     "text": [
      "Element 1:  12\n",
      "Element 2:  23\n",
      "Element 3:  34\n",
      "Element 4:  35\n",
      "Element 5:  45\n",
      "Element 6:  65\n",
      "Element 7:  4\n",
      "Enter the index at which to split the array:  2\n"
     ]
    },
    {
     "name": "stdout",
     "output_type": "stream",
     "text": [
      "The modified array is: [34, 35, 45, 65, 4, 12, 23]\n"
     ]
    }
   ],
   "source": [
    "# Program to split the array and add the first part to the end\n",
    "\n",
    "def split_and_add(arr, split_index):\n",
    "    return arr[split_index:] + arr[:split_index]\n",
    "\n",
    "# Input from user\n",
    "n = int(input(\"Enter the number of elements in the array: \"))\n",
    "array = []\n",
    "\n",
    "print(\"Enter the elements:\")\n",
    "for i in range(n):\n",
    "    element = int(input(f\"Element {i + 1}: \"))\n",
    "    array.append(element)\n",
    "\n",
    "split_index = int(input(\"Enter the index at which to split the array: \"))\n",
    "\n",
    "# Perform split and add\n",
    "if 0 <= split_index < len(array):\n",
    "    modified_array = split_and_add(array, split_index)\n",
    "    print(f\"The modified array is: {modified_array}\")\n",
    "else:\n",
    "    print(\"Invalid split index. It must be between 0 and the length of the array.\")\n"
   ]
  },
  {
   "cell_type": "code",
   "execution_count": 13,
   "id": "1577a06f-2f89-43a8-9fa9-a7d8f6abe93b",
   "metadata": {},
   "outputs": [
    {
     "name": "stdin",
     "output_type": "stream",
     "text": [
      "Enter the number of elements in the array:  5\n"
     ]
    },
    {
     "name": "stdout",
     "output_type": "stream",
     "text": [
      "Enter the elements:\n"
     ]
    },
    {
     "name": "stdin",
     "output_type": "stream",
     "text": [
      "Element 1:  1\n",
      "Element 2:  2\n",
      "Element 3:  3\n",
      "Element 4:  5\n",
      "Element 5:  76\n"
     ]
    },
    {
     "name": "stdout",
     "output_type": "stream",
     "text": [
      "The array is monotonic.\n"
     ]
    }
   ],
   "source": [
    "# Program to check if the given array is monotonic\n",
    "\n",
    "def is_monotonic(arr):\n",
    "    # Check if the array is increasing or decreasing\n",
    "    increasing = all(arr[i] <= arr[i + 1] for i in range(len(arr) - 1))\n",
    "    decreasing = all(arr[i] >= arr[i + 1] for i in range(len(arr) - 1))\n",
    "    return increasing or decreasing\n",
    "\n",
    "# Input from user\n",
    "n = int(input(\"Enter the number of elements in the array: \"))\n",
    "array = []\n",
    "\n",
    "print(\"Enter the elements:\")\n",
    "for i in range(n):\n",
    "    element = int(input(f\"Element {i + 1}: \"))\n",
    "    array.append(element)\n",
    "\n",
    "# Check if array is monotonic\n",
    "if is_monotonic(array):\n",
    "    print(\"The array is monotonic.\")\n",
    "else:\n",
    "    print(\"The array is not monotonic.\")"
   ]
  }
 ],
 "metadata": {
  "kernelspec": {
   "display_name": "Python 3 (ipykernel)",
   "language": "python",
   "name": "python3"
  },
  "language_info": {
   "codemirror_mode": {
    "name": "ipython",
    "version": 3
   },
   "file_extension": ".py",
   "mimetype": "text/x-python",
   "name": "python",
   "nbconvert_exporter": "python",
   "pygments_lexer": "ipython3",
   "version": "3.11.5"
  }
 },
 "nbformat": 4,
 "nbformat_minor": 5
}
