{
 "cells": [
  {
   "cell_type": "code",
   "execution_count": 7,
   "id": "e4bba2e8-8a46-4ebd-a4d5-ecece2b1e37c",
   "metadata": {},
   "outputs": [
    {
     "name": "stdin",
     "output_type": "stream",
     "text": [
      "Enter a number to find its factorial:  6\n"
     ]
    },
    {
     "name": "stdout",
     "output_type": "stream",
     "text": [
      "The factorial of 6 is 720\n"
     ]
    }
   ],
   "source": [
    "# Program to find the factorial of a number\n",
    "\n",
    "def factorial(num):\n",
    "    # Factorial of 0 or 1 is 1\n",
    "    if num == 0 or num == 1:\n",
    "        return 1\n",
    "    else:\n",
    "        result = 1\n",
    "        for i in range(2, num + 1):  # Loop to calculate factorial\n",
    "            result *= i\n",
    "        return result\n",
    "\n",
    "number = int(input(\"Enter a number to find its factorial: \"))\n",
    "\n",
    "# Check for negative input\n",
    "if number < 0:\n",
    "    print(\"Factorial does not exist for negative numbers.\")\n",
    "else:\n",
    "    print(f\"The factorial of {number} is {factorial(number)}\")\n"
   ]
  },
  {
   "cell_type": "code",
   "execution_count": 8,
   "id": "0492df2d-e343-40d3-9c1b-e7103127e6da",
   "metadata": {},
   "outputs": [
    {
     "name": "stdin",
     "output_type": "stream",
     "text": [
      "Enter a number to display its multiplication table:  4\n"
     ]
    },
    {
     "name": "stdout",
     "output_type": "stream",
     "text": [
      "Multiplication Table for 4:\n",
      "4 x 1 = 4\n",
      "4 x 2 = 8\n",
      "4 x 3 = 12\n",
      "4 x 4 = 16\n",
      "4 x 5 = 20\n",
      "4 x 6 = 24\n",
      "4 x 7 = 28\n",
      "4 x 8 = 32\n",
      "4 x 9 = 36\n",
      "4 x 10 = 40\n"
     ]
    }
   ],
   "source": [
    "# Program to display the multiplication table of a number\n",
    "\n",
    "def display_table(num):\n",
    "    print(f\"Multiplication Table for {num}:\")\n",
    "    for i in range(1, 11):  # Loop from 1 to 10\n",
    "        print(f\"{num} x {i} = {num * i}\")\n",
    "\n",
    "number = int(input(\"Enter a number to display its multiplication table: \"))\n",
    "\n",
    "# Display the table\n",
    "display_table(number)\n"
   ]
  },
  {
   "cell_type": "code",
   "execution_count": 10,
   "id": "651e7aa1-04e2-4a79-9e5a-ef4048005d19",
   "metadata": {},
   "outputs": [
    {
     "name": "stdin",
     "output_type": "stream",
     "text": [
      "Enter the number of terms for the Fibonacci sequence:  6\n"
     ]
    },
    {
     "name": "stdout",
     "output_type": "stream",
     "text": [
      "Fibonacci Sequence:\n",
      "0 1 1 2 3 5 "
     ]
    }
   ],
   "source": [
    "# Program to print the Fibonacci sequence\n",
    "\n",
    "def fibonacci_sequence(n):\n",
    "    a, b = 0, 1  # First two terms of the Fibonacci sequence\n",
    "    print(\"Fibonacci Sequence:\")\n",
    "    for _ in range(n):\n",
    "        print(a, end=\" \")  # Print the current term\n",
    "        a, b = b, a + b    # Update values of a and b for the next terms\n",
    "\n",
    "num_terms = int(input(\"Enter the number of terms for the Fibonacci sequence: \"))\n",
    "\n",
    "# Check for valid input\n",
    "if num_terms <= 0:\n",
    "    print(\"Please enter a positive integer.\")\n",
    "else:\n",
    "    fibonacci_sequence(num_terms)\n"
   ]
  },
  {
   "cell_type": "code",
   "execution_count": 11,
   "id": "4ba6cc41-462f-4040-98be-8d55683de311",
   "metadata": {},
   "outputs": [
    {
     "name": "stdin",
     "output_type": "stream",
     "text": [
      "Enter a number to check if it's an Armstrong number:  153\n"
     ]
    },
    {
     "name": "stdout",
     "output_type": "stream",
     "text": [
      "153 is an Armstrong number.\n"
     ]
    }
   ],
   "source": [
    "# Program to check if a number is an Armstrong number\n",
    "\n",
    "def is_armstrong(number):\n",
    "    # Convert number to string to easily count digits\n",
    "    num_str = str(number)\n",
    "    num_digits = len(num_str)  # Number of digits\n",
    "    armstrong_sum = sum(int(digit) ** num_digits for digit in num_str)  # Sum of digits raised to power\n",
    "\n",
    "    # Check if the calculated sum equals the original number\n",
    "    return armstrong_sum == number\n",
    "\n",
    "num = int(input(\"Enter a number to check if it's an Armstrong number: \"))\n",
    "\n",
    "# Check and display result\n",
    "if is_armstrong(num):\n",
    "    print(f\"{num} is an Armstrong number.\")\n",
    "else:\n",
    "    print(f\"{num} is not an Armstrong number.\")\n"
   ]
  },
  {
   "cell_type": "code",
   "execution_count": 12,
   "id": "ad34c426-cc33-48c2-92c7-84c4bdc48a72",
   "metadata": {},
   "outputs": [
    {
     "name": "stdin",
     "output_type": "stream",
     "text": [
      "Enter the start of the interval:  1\n",
      "Enter the end of the interval:  500\n"
     ]
    },
    {
     "name": "stdout",
     "output_type": "stream",
     "text": [
      "Armstrong numbers between 1 and 500 are:\n",
      "1 2 3 4 5 6 7 8 9 153 370 371 407 "
     ]
    }
   ],
   "source": [
    "# Program to find Armstrong numbers in an interval\n",
    "\n",
    "def is_armstrong(number):\n",
    "    # Convert number to string to easily count digits\n",
    "    num_str = str(number)\n",
    "    num_digits = len(num_str)  # Number of digits\n",
    "    armstrong_sum = sum(int(digit) ** num_digits for digit in num_str)  # Sum of digits raised to power\n",
    "    return armstrong_sum == number\n",
    "\n",
    "def find_armstrong_in_interval(start, end):\n",
    "    print(f\"Armstrong numbers between {start} and {end} are:\")\n",
    "    for num in range(start, end + 1):  # Iterate through the range\n",
    "        if is_armstrong(num):\n",
    "            print(num, end=\" \")\n",
    "\n",
    "start = int(input(\"Enter the start of the interval: \"))\n",
    "end = int(input(\"Enter the end of the interval: \"))\n",
    "\n",
    "# Check for valid input\n",
    "if start < 0 or end < 0:\n",
    "    print(\"Please enter non-negative values for the interval.\")\n",
    "elif start > end:\n",
    "    print(\"The start of the interval cannot be greater than the end.\")\n",
    "else:\n",
    "    find_armstrong_in_interval(start, end)\n"
   ]
  },
  {
   "cell_type": "code",
   "execution_count": 15,
   "id": "2f79dcd7-ef69-46d6-9fd2-e092919914de",
   "metadata": {},
   "outputs": [
    {
     "name": "stdin",
     "output_type": "stream",
     "text": [
      "Enter a positive number to find the sum of natural numbers:  7\n"
     ]
    },
    {
     "name": "stdout",
     "output_type": "stream",
     "text": [
      "The sum of natural numbers up to 7 is: 28\n"
     ]
    }
   ],
   "source": [
    "# Program to find the sum of natural numbers up to n\n",
    "\n",
    "def sum_of_natural_numbers(n):\n",
    "    # Formula for sum of first n natural numbers: n * (n + 1) / 2\n",
    "    return n * (n + 1) // 2\n",
    "\n",
    "num = int(input(\"Enter a positive number to find the sum of natural numbers: \"))\n",
    "\n",
    "# Check for valid input\n",
    "if num < 1:\n",
    "    print(\"Please enter a positive integer.\")\n",
    "else:\n",
    "    total_sum = sum_of_natural_numbers(num)\n",
    "    print(f\"The sum of natural numbers up to {num} is: {total_sum}\")\n"
   ]
  }
 ],
 "metadata": {
  "kernelspec": {
   "display_name": "Python 3 (ipykernel)",
   "language": "python",
   "name": "python3"
  },
  "language_info": {
   "codemirror_mode": {
    "name": "ipython",
    "version": 3
   },
   "file_extension": ".py",
   "mimetype": "text/x-python",
   "name": "python",
   "nbconvert_exporter": "python",
   "pygments_lexer": "ipython3",
   "version": "3.11.5"
  }
 },
 "nbformat": 4,
 "nbformat_minor": 5
}
