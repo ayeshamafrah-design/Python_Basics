{
 "cells": [
  {
   "cell_type": "markdown",
   "id": "c6625da7",
   "metadata": {},
   "source": [
    "### 1.Question:\n",
    "\n",
    "To what does a `relative path` refer?\n",
    "\n",
    "### Answer:\n",
    "\n",
    "A `relative path` refers to the location of a file or directory relative to the current working directory. It does not include the root directory of the file system and is used to specify the location of a file or directory in relation to where the program is currently running.\n"
   ]
  },
  {
   "cell_type": "markdown",
   "id": "162acc8c",
   "metadata": {},
   "source": [
    "### 2. Question:\n",
    "\n",
    "What does an `absolute path` start with in your operating system?\n",
    "\n",
    "### Answer:\n",
    "\n",
    "An `absolute path` in most operating systems starts with the root directory, which is represented by a forward slash (/) in Unix-based systems (such as `Linux`, `macOS`) and by a drive letter followed by a colon (e.g., C:) in `Windows`.\n"
   ]
  },
  {
   "cell_type": "markdown",
   "id": "de67f038",
   "metadata": {},
   "source": [
    "### 3. Question:\n",
    "\n",
    "What do the functions `os.getcwd()` and `os.chdir()` do?\n",
    "\n",
    "### Answer:\n",
    "\n",
    "- `os.getcwd()`: This function returns the current working directory as a string. The current working directory is the directory that the Python process is currently executing in.\n",
    "\n",
    "- `os.chdir()`: This function changes the current working directory to the one specified as an argument. It takes a path (absolute or relative) as input and sets the current working directory to that path.\n"
   ]
  },
  {
   "cell_type": "code",
   "execution_count": 8,
   "id": "3d067bdb",
   "metadata": {},
   "outputs": [
    {
     "name": "stdout",
     "output_type": "stream",
     "text": [
      "Current working directory: C:\\Users\\dell\n",
      "Changed working directory to: C:/Users/dell\n",
      "Current working directory: C:\\Users\\dell\n"
     ]
    }
   ],
   "source": [
    "import os\n",
    "\n",
    "# Get the current working directory\n",
    "current_directory = os.getcwd()\n",
    "print(\"Current working directory:\", current_directory)\n",
    "\n",
    "# Change the current working directory\n",
    "new_directory = \"C:/Users/dell\"\n",
    "os.chdir(new_directory)\n",
    "print(\"Changed working directory to:\", new_directory)\n",
    "\n",
    "# Verify the change\n",
    "current_directory = os.getcwd()\n",
    "print(\"Current working directory:\", current_directory)\n"
   ]
  },
  {
   "cell_type": "markdown",
   "id": "40af1195",
   "metadata": {},
   "source": [
    "### 4. Question:\n",
    "\n",
    "What are the `.` and `..` folders?\n",
    "\n",
    "### Answer:\n",
    "\n",
    "- `.` (dot): In file systems, `.` represents the current directory. It is used to refer to the directory you are currently in.\n",
    "\n",
    "- `..` (dot-dot): This represents the parent directory of the current directory. It is used to refer to the directory that contains the current directory.\n"
   ]
  },
  {
   "cell_type": "markdown",
   "id": "53703930",
   "metadata": {},
   "source": [
    "### 5.Question:\n",
    "\n",
    "In `C:\\bacon\\eggs\\spam.txt`, which part is the directory name, and which part is the base name?\n",
    "\n",
    "### Answer:\n",
    "\n",
    "- Directory Name: `C:\\bacon\\eggs`\n",
    "- Base Name: `spam.txt`\n",
    "\n",
    "In the given path, `C:\\bacon\\eggs` is the directory name, as it represents the path to the directory containing the file. `spam.txt` is the base name, which is the name of the file itself.\n"
   ]
  },
  {
   "cell_type": "markdown",
   "id": "d4b09a56",
   "metadata": {},
   "source": [
    "### 6.Question:\n",
    "\n",
    "What are the three \"mode\" arguments that can be passed to the `open()` function?\n",
    "\n",
    "### Answer:\n",
    "\n",
    "The three \"mode\" arguments that can be passed to the `open()` function in Python are:\n",
    "\n",
    "1. `'r'`: Read mode. Opens the file for reading. If the file does not exist or cannot be opened for reading, it will raise a `FileNotFoundError`.\n",
    "\n",
    "2. `'w'`: Write mode. Opens the file for writing. If the file already exists, it will be truncated (emptied). If the file does not exist, it will be created.\n",
    "\n",
    "3. `'a'`: Append mode. Opens the file for writing, but appends any new data to the end of the file without truncating it. If the file does not exist, it will be created.\n",
    "\n",
    "These modes can be combined with additional characters to specify additional behaviors, such as reading and writing in binary mode (`'rb'`, `'wb'`, `'ab'`), or reading and writing in text mode (`'rt'`, `'wt'`, `'at'`).\n"
   ]
  },
  {
   "cell_type": "markdown",
   "id": "c845d3de",
   "metadata": {},
   "source": [
    "### 7.Question:\n",
    "\n",
    "What happens if an existing file is opened in write mode?\n",
    "\n",
    "### Answer:\n",
    "\n",
    "If an existing file is opened in write mode (`'w'`) in Python, the file will be truncated, which means all existing data in the file will be erased. If the file does not exist, a new file will be created. It's important to use write mode with caution, as it can result in the loss of data in the existing file.\n"
   ]
  },
  {
   "cell_type": "markdown",
   "id": "14e13379",
   "metadata": {},
   "source": [
    "### 8.Question:\n",
    "\n",
    "How do you tell the difference between `read()` and `readlines()`?\n",
    "\n",
    "### Answer:\n",
    "\n",
    "- `read()`: The `read()` method reads the entire contents of a file as a single string. It reads the file from the current file position to the end of the file or to the number of characters specified, if given.\n",
    "\n",
    "- `readlines()`: The `readlines()` method reads all lines in a file and returns them as a list of strings. Each string in the list represents a line from the file, including the newline character at the end of each line.\n",
    "\n",
    "In summary, `read()` returns the entire file content as a single string, while `readlines()` returns a list of strings, each representing a line from the file.\n"
   ]
  },
  {
   "cell_type": "markdown",
   "id": "eb5e14f6",
   "metadata": {},
   "source": [
    "### 9.Question:\n",
    "\n",
    "What data structure does a shelf value resemble?\n",
    "\n",
    "### Answer:\n",
    "\n",
    "A shelf value in Python resembles a dictionary. It is a persistent, dictionary-like object that is stored as a file on the disk. It supports all the dictionary operations such as accessing items by key, adding new items, and deleting items. However, unlike a dictionary, a shelf value stores its data in a file, allowing it to persist between Python sessions.\n"
   ]
  }
 ],
 "metadata": {
  "kernelspec": {
   "display_name": "Python 3 (ipykernel)",
   "language": "python",
   "name": "python3"
  },
  "language_info": {
   "codemirror_mode": {
    "name": "ipython",
    "version": 3
   },
   "file_extension": ".py",
   "mimetype": "text/x-python",
   "name": "python",
   "nbconvert_exporter": "python",
   "pygments_lexer": "ipython3",
   "version": "3.9.13"
  }
 },
 "nbformat": 4,
 "nbformat_minor": 5
}
