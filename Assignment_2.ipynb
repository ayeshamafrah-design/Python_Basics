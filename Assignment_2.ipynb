{
 "cells": [
  {
   "cell_type": "markdown",
   "id": "1d1f9e7f",
   "metadata": {},
   "source": [
    "## 1.Question\n",
    "What are the two values of the Boolean data type ? how do you write them?\n",
    "\n",
    "\n",
    "## Answer\n",
    "\n",
    "The two values of the Boolean data type are:\n",
    "\n",
    "1. **True**: Represents the truth or a positive condition.\n",
    "2. **False**: Represents the falsehood or a negative condition.\n",
    "\n",
    "In Python, these values are case-sensitive, and you need to write them with an initial uppercase letter, `True` and `False`.\n",
    "\n",
    "**Example:**\n",
    "\n",
    "```\n",
    "is_positive = True\n",
    "is_negative = False\n",
    "\n",
    "print(is_positive)  \n",
    "print(is_negative)  \n"
   ]
  },
  {
   "cell_type": "code",
   "execution_count": 1,
   "id": "d7ff8584",
   "metadata": {},
   "outputs": [
    {
     "name": "stdout",
     "output_type": "stream",
     "text": [
      "True\n",
      "False\n"
     ]
    }
   ],
   "source": [
    "is_positive = True\n",
    "is_negative = False\n",
    "\n",
    "print(is_positive)  \n",
    "print(is_negative)"
   ]
  },
  {
   "cell_type": "markdown",
   "id": "6d0c322d",
   "metadata": {},
   "source": [
    "## 2.Question\n",
    "\n",
    "What are the three different types of Boolean operators?\n",
    "\n",
    "## Answer\n",
    "\n",
    "The three different types of Boolean operators are:\n",
    "\n",
    "1. **AND Operator (`and`):** Returns True if both operands are True. Example: `True and False` evaluates to `False`.\n",
    "\n",
    "2. **OR Operator (`or`):** Returns True if at least one of the operands is True. Example: `True or False` evaluates to `True`.\n",
    "\n",
    "3. **NOT Operator (`not`):** Returns the opposite of the operand's Boolean value. Example: `not True` evaluates to `False`.\n",
    "\n",
    "Boolean operators are used to perform logical operations on Boolean values, making it possible to express more complex conditions in programming.\n"
   ]
  },
  {
   "cell_type": "markdown",
   "id": "dfe5c097",
   "metadata": {},
   "source": [
    "## 3.Question\n",
    "\n",
    "Make a list of each Boolean operator's truth tables (i.e. every possible combination of Boolean\n",
    "values for the operator and what it evaluate ).\n",
    "\n",
    "## Answer\n",
    "\n",
    "1. **AND Operator (`and`):**\n",
    "\n",
    "| A     | B     | A and B |\n",
    "|-------|-------|---------|\n",
    "| True  | True  | True    |\n",
    "| True  | False | False   |\n",
    "| False | True  | False   |\n",
    "| False | False | False   |\n",
    "\n",
    "2. **OR Operator (`or`):**\n",
    "\n",
    "| A     | B     | A or B  |\n",
    "|-------|-------|---------|\n",
    "| True  | True  | True    |\n",
    "| True  | False | True    |\n",
    "| False | True  | True    |\n",
    "| False | False | False   |\n",
    "\n",
    "3. **NOT Operator (`not`):**\n",
    "\n",
    "| A     | not A |\n",
    "|-------|-------|\n",
    "| True  | False |\n",
    "| False | True  |\n",
    "\n",
    "These truth tables shows the possible combinations of Boolean values and the resulting evaluations for each Boolean operator.\n"
   ]
  },
  {
   "cell_type": "markdown",
   "id": "0350273d",
   "metadata": {},
   "source": [
    "## 4.Question\n",
    "\n",
    "What are the values of the following expressions?\n",
    "\n",
    "1. `(5 > 4) and (3 == 5)`\n",
    "2. `not (5 > 4)`\n",
    "3. `(5 > 4) or (3 == 5)`\n",
    "4. `not ((5 > 4) or (3 == 5))`\n",
    "5. `(True and True) and (True == False)`\n",
    "6. `(not False) or (not True)`\n",
    "\n",
    "## Answer\n",
    "\n",
    "1. `(5 > 4) and (3 == 5)`= `False`.\n",
    "2. `not (5 > 4)` = `False`.\n",
    "3. `(5 > 4) or (3 == 5)` =`True`.\n",
    "4. `not ((5 > 4) or (3 == 5))` =`False`.\n",
    "5. `(True and True) and (True == False)` = `False`.\n",
    "6. `(not False) or (not True)` = `True`.\n",
    "\n",
    "These values are the results of evaluating the given Boolean expressions.\n"
   ]
  },
  {
   "cell_type": "code",
   "execution_count": 3,
   "id": "f4c1a2e3",
   "metadata": {},
   "outputs": [
    {
     "data": {
      "text/plain": [
       "False"
      ]
     },
     "execution_count": 3,
     "metadata": {},
     "output_type": "execute_result"
    }
   ],
   "source": [
    "(5 > 4) and (3 == 5)"
   ]
  },
  {
   "cell_type": "code",
   "execution_count": 4,
   "id": "b7d3283b",
   "metadata": {},
   "outputs": [
    {
     "data": {
      "text/plain": [
       "False"
      ]
     },
     "execution_count": 4,
     "metadata": {},
     "output_type": "execute_result"
    }
   ],
   "source": [
    "not (5 > 4)"
   ]
  },
  {
   "cell_type": "code",
   "execution_count": 5,
   "id": "3551bd8d",
   "metadata": {},
   "outputs": [
    {
     "data": {
      "text/plain": [
       "True"
      ]
     },
     "execution_count": 5,
     "metadata": {},
     "output_type": "execute_result"
    }
   ],
   "source": [
    "(5 > 4) or (3 == 5)\n"
   ]
  },
  {
   "cell_type": "code",
   "execution_count": 6,
   "id": "72cabedf",
   "metadata": {},
   "outputs": [
    {
     "data": {
      "text/plain": [
       "False"
      ]
     },
     "execution_count": 6,
     "metadata": {},
     "output_type": "execute_result"
    }
   ],
   "source": [
    "not ((5 > 4) or (3 == 5))"
   ]
  },
  {
   "cell_type": "code",
   "execution_count": 7,
   "id": "f4d1337a",
   "metadata": {},
   "outputs": [
    {
     "data": {
      "text/plain": [
       "False"
      ]
     },
     "execution_count": 7,
     "metadata": {},
     "output_type": "execute_result"
    }
   ],
   "source": [
    "(True and True) and (True == False)"
   ]
  },
  {
   "cell_type": "code",
   "execution_count": 8,
   "id": "929616a2",
   "metadata": {},
   "outputs": [
    {
     "data": {
      "text/plain": [
       "True"
      ]
     },
     "execution_count": 8,
     "metadata": {},
     "output_type": "execute_result"
    }
   ],
   "source": [
    "(not False) or (not True)"
   ]
  },
  {
   "cell_type": "markdown",
   "id": "f0e73fe6",
   "metadata": {},
   "source": [
    "## 5.Question\n",
    "\n",
    "What are the six comparison operators?\n",
    "\n",
    "## Answer\n",
    "\n",
    "The six comparison operators in Python are:\n",
    "\n",
    "1. **Equal to (`==`):** Checks if two values are equal.\n",
    "2. **Not equal to (`!=`):** Checks if two values are not equal.\n",
    "3. **Greater than (`>`):** Checks if the left operand is greater than the right operand.\n",
    "4. **Less than (`<`):** Checks if the left operand is less than the right operand.\n",
    "5. **Greater than or equal to (`>=`):** Checks if the left operand is greater than or equal to the right operand.\n",
    "6. **Less than or equal to (`<=`):** Checks if the left operand is less than or equal to the right operand.\n",
    "\n",
    "These operators are used to compare values and create conditions in programming.\n"
   ]
  },
  {
   "cell_type": "markdown",
   "id": "b0614cb5",
   "metadata": {},
   "source": [
    "## 6.Question\n",
    "\n",
    "How do you tell the difference between the equal to and assignment operators? Describe a condition and when you would use one.\n",
    "\n",
    "## Answer\n",
    "\n",
    "The equal to (`==`) operator is used to compare two values for equality, while the assignment (`=`) operator is used to assign a value to a variable.\n",
    "\n",
    "**Difference:**\n",
    "- `==` (Equal to): Checks if two values are equal.\n",
    "- `=` (Assignment): Assigns the value on the right to the variable on the left.\n",
    "\n",
    "**Example:**\n",
    "lets take a variable `x` and to check if it is equal to `10`. we will use the equal to operator in a condition like this:\n",
    "\n",
    "```\n",
    "x = 10\n",
    "if x == 10:\n",
    "    print(\"x is equal to 10\")\n",
    "\n",
    "```\n",
    "here the condition checks whether the value of x is equal to 10.\n",
    "\n",
    "**When to Use:**\n",
    "\n",
    "- Use == when you want to compare values in conditions.\n",
    "- Use = when you want to assign a value to a variable."
   ]
  },
  {
   "cell_type": "code",
   "execution_count": 1,
   "id": "32861307",
   "metadata": {},
   "outputs": [
    {
     "name": "stdout",
     "output_type": "stream",
     "text": [
      "x is equal to 10\n"
     ]
    }
   ],
   "source": [
    "x = 10\n",
    "if x == 10:\n",
    "    print(\"x is equal to 10\")"
   ]
  },
  {
   "cell_type": "markdown",
   "id": "fd28b254",
   "metadata": {},
   "source": [
    "## 7. Question\n",
    "\n",
    "Identify the three blocks in this code:\n",
    "\n",
    "```\n",
    "spam = 0\n",
    "if spam == 10:\n",
    "    print('eggs')\n",
    "if spam > 5:\n",
    "    print('bacon')\n",
    "else:\n",
    "    print('ham')\n",
    "print('spam')\n",
    "print('spam')\n",
    "\n",
    "```\n",
    "\n",
    "## Answer\n",
    "\n",
    "Block 1:\n",
    "```\n",
    "if spam == 10:\n",
    "    print('eggs')\n",
    "```\n",
    "This block checks if the value of spam is equal to 10 and prints 'eggs' if the condition is true.\n",
    "\n",
    "Block 2:\n",
    "```\n",
    "if spam > 5:\n",
    "    print('bacon')\n",
    "```    \n",
    "This block checks if the value of spam is greater than 5 and prints 'bacon' if the condition is true.\n",
    "\n",
    "Block 3:\n",
    "```\n",
    "else:\n",
    "    print('ham')\n",
    "```\n",
    "This block is the else statement corresponding to the second if statement. It prints 'ham' if the condition in Block 2 is false.\n",
    "\n",
    "The last two print statements (print('spam')) are not part of any conditional block and will be executed regardless of the conditions."
   ]
  },
  {
   "cell_type": "code",
   "execution_count": 5,
   "id": "597962bd",
   "metadata": {},
   "outputs": [
    {
     "name": "stdout",
     "output_type": "stream",
     "text": [
      "ham\n",
      "spam\n",
      "spam\n"
     ]
    }
   ],
   "source": [
    "spam = 0\n",
    "if spam == 10:\n",
    "    print('eggs')\n",
    "if spam > 5:\n",
    "    print('bacon')\n",
    "else:\n",
    "    print('ham')\n",
    "print('spam')\n",
    "print('spam')"
   ]
  },
  {
   "cell_type": "markdown",
   "id": "bac37ee8",
   "metadata": {},
   "source": [
    "## 8.Question\n",
    "\n",
    "Write code that prints Hello if 1 is stored in spam, prints Howdy if 2 is stored in spam, and prints Greetings! if anything else is stored in spam.\n",
    "\n",
    "## Answer\n",
    "\n",
    "```\n",
    "spam =  # give value to assign for spam\n",
    "\n",
    "if spam == 1:\n",
    "    print(\"Hello\")\n",
    "elif spam == 2:\n",
    "    print(\"Howdy\")\n",
    "else:\n",
    "    print(\"Greetings!\")\n",
    "```\n",
    "\n"
   ]
  },
  {
   "cell_type": "code",
   "execution_count": 17,
   "id": "f60ca281",
   "metadata": {},
   "outputs": [
    {
     "name": "stdout",
     "output_type": "stream",
     "text": [
      "Greetings!\n"
     ]
    }
   ],
   "source": [
    "spam =6\n",
    "\n",
    "if spam == 1:\n",
    "    print(\"Hello\")\n",
    "elif spam == 2:\n",
    "    print(\"Howdy\")\n",
    "else:\n",
    "    print(\"Greetings!\")"
   ]
  },
  {
   "cell_type": "markdown",
   "id": "40cba0a0",
   "metadata": {},
   "source": [
    "## 9.Question\n",
    "\n",
    "If your program is stuck in an endless loop, what keys would you press?\n",
    "\n",
    "## Answer\n",
    "\n",
    "To interrupt or break out of an endless loop in a Jupyter Notebook, you can press the following keys:\n",
    "\n",
    "- **Keyboard Interrupt:**\n",
    "  - Press the `I` key twice while holding the `Shift` key or press `ctrl+c`. This will interrupt the execution of the current cell.\n",
    "\n",
    "- **Restart Kernel:**\n",
    "  - Click on the \"Kernel\" menu and select \"Restart\". This will restart the Python kernel,stopping the execution of all code cells.\n",
    "\n",
    "we need to review and debug code to fix the issue causing the endless loop before running it again.\n"
   ]
  },
  {
   "cell_type": "markdown",
   "id": "bafe0470",
   "metadata": {},
   "source": [
    "## 10.Question\n",
    "\n",
    "How can you tell the difference between `break` and `continue`?\n",
    "\n",
    "## Answer\n",
    "\n",
    "In programming, `break` and `continue` are used in loops to control the flow of execution.\n",
    "\n",
    "- **`break`:**\n",
    "  - The `break` statement is used to exit a loop prematurely. When encountered, it immediately terminates the loop and transfers control to the next statement after the loop.\n",
    "  - Example:\n",
    "    ```python\n",
    "    for i in range(5):\n",
    "        if i == 3:\n",
    "            break\n",
    "        print(i)\n",
    "    ```\n",
    "    Output:\n",
    "    ```\n",
    "    0\n",
    "    1\n",
    "    2\n",
    "    ```\n",
    "\n",
    "- **`continue`:**\n",
    "  - The `continue` statement is used to skip the rest of the code inside a loop for the current iteration and move to the next iteration.\n",
    "  - Example:\n",
    "    ```python\n",
    "    for i in range(5):\n",
    "        if i == 2:\n",
    "            continue\n",
    "        print(i)\n",
    "    ```\n",
    "    Output:\n",
    "    ```\n",
    "    0\n",
    "    1\n",
    "    3\n",
    "    4\n",
    "    ```\n",
    "\n",
    "In summary, `break` is used to exit the loop entirely, while `continue` is used to skip the remaining code in the current iteration and move to the next iteration.\n"
   ]
  },
  {
   "cell_type": "code",
   "execution_count": 26,
   "id": "748d8c9a",
   "metadata": {},
   "outputs": [
    {
     "name": "stdout",
     "output_type": "stream",
     "text": [
      "0\n",
      "1\n",
      "2\n"
     ]
    }
   ],
   "source": [
    "for i in range(5):\n",
    "        if i == 3:\n",
    "            break\n",
    "        print(i)"
   ]
  },
  {
   "cell_type": "code",
   "execution_count": 25,
   "id": "90e95ebf",
   "metadata": {},
   "outputs": [
    {
     "name": "stdout",
     "output_type": "stream",
     "text": [
      "0\n",
      "2\n",
      "3\n",
      "4\n"
     ]
    }
   ],
   "source": [
    "for i in range(5):\n",
    "        if i == 1:\n",
    "            continue\n",
    "        print(i)"
   ]
  },
  {
   "cell_type": "markdown",
   "id": "50c20fb0",
   "metadata": {},
   "source": [
    "## 11.Question\n",
    "\n",
    "In a for loop, what is the difference between `range(10)`, `range(0, 10)`, and `range(0, 10, 1)`?\n",
    "\n",
    "## Answer\n",
    "\n",
    "In Python, these three expressions in a `for` loop are equivalent and give the same result:\n",
    "\n",
    "- **`range(10)`:**\n",
    "  - This generates a sequence of numbers from 0 to 9 (10 excluded).\n",
    "  - Example:\n",
    "    ```python\n",
    "    for i in range(10):\n",
    "        print(i)\n",
    "    ```\n",
    "\n",
    "- **`range(0, 10)`:**\n",
    "  - This also generates a sequence of numbers from 0 to 9 (10 excluded). The `0` is the starting point, and `10` is the endpoint.\n",
    "  - Example:\n",
    "    ```python\n",
    "    for i in range(0, 10):\n",
    "        print(i)\n",
    "    ```\n",
    "\n",
    "- **`range(0, 10, 1)`:**\n",
    "  - This specifies the starting point (`0`), the endpoint (`10`), and the step (`1`). \n",
    "  \n",
    "  - Example:\n",
    "    ```python\n",
    "    for i in range(0, 10, 1):\n",
    "        print(i)\n",
    "    ```\n"
   ]
  },
  {
   "cell_type": "code",
   "execution_count": 27,
   "id": "503a9563",
   "metadata": {},
   "outputs": [
    {
     "name": "stdout",
     "output_type": "stream",
     "text": [
      "0\n",
      "1\n",
      "2\n",
      "3\n",
      "4\n",
      "5\n",
      "6\n",
      "7\n",
      "8\n",
      "9\n"
     ]
    }
   ],
   "source": [
    "for i in range(10):\n",
    "        print(i)"
   ]
  },
  {
   "cell_type": "code",
   "execution_count": 36,
   "id": "9ac40638",
   "metadata": {},
   "outputs": [
    {
     "name": "stdout",
     "output_type": "stream",
     "text": [
      "0\n",
      "1\n",
      "2\n",
      "3\n",
      "4\n",
      "5\n",
      "6\n",
      "7\n",
      "8\n",
      "9\n"
     ]
    }
   ],
   "source": [
    "for i in range(0, 10):\n",
    "    print(i)"
   ]
  },
  {
   "cell_type": "code",
   "execution_count": 33,
   "id": "f00cc13c",
   "metadata": {},
   "outputs": [
    {
     "name": "stdout",
     "output_type": "stream",
     "text": [
      "0\n",
      "1\n",
      "2\n",
      "3\n",
      "4\n",
      "5\n",
      "6\n",
      "7\n",
      "8\n",
      "9\n"
     ]
    }
   ],
   "source": [
    "for i in range(0, 10, 1):\n",
    "    print(i)"
   ]
  },
  {
   "cell_type": "markdown",
   "id": "1ff8ad4b",
   "metadata": {},
   "source": [
    "## 12.Question\n",
    "\n",
    "Write a short program that prints the numbers 1 to 10 using a for loop. Then write an equivalent program that prints the numbers 1 to 10 using a while loop.\n",
    "\n",
    "## Answer\n",
    "\n",
    "**Using a `for` loop:**\n",
    "\n",
    "```python\n",
    "# Program using a for loop\n",
    "for i in range(1, 11):\n",
    "    print(i)\n",
    "```\n",
    "\n",
    "**Using a `while` loop:**\n",
    "\n",
    "```python\n",
    "# Program using a while loop\n",
    "counter = 1\n",
    "while counter <= 10:\n",
    "    print(counter)\n",
    "    counter += 1\n",
    "```"
   ]
  },
  {
   "cell_type": "code",
   "execution_count": 37,
   "id": "92428225",
   "metadata": {},
   "outputs": [
    {
     "name": "stdout",
     "output_type": "stream",
     "text": [
      "1\n",
      "2\n",
      "3\n",
      "4\n",
      "5\n",
      "6\n",
      "7\n",
      "8\n",
      "9\n",
      "10\n"
     ]
    }
   ],
   "source": [
    "# Program using a for loop\n",
    "for i in range(1, 11):\n",
    "    print(i)"
   ]
  },
  {
   "cell_type": "code",
   "execution_count": 40,
   "id": "21d86204",
   "metadata": {},
   "outputs": [
    {
     "name": "stdout",
     "output_type": "stream",
     "text": [
      "1\n",
      "2\n",
      "3\n",
      "4\n",
      "5\n",
      "6\n",
      "7\n",
      "8\n",
      "9\n",
      "10\n"
     ]
    }
   ],
   "source": [
    "# Program using a while loop\n",
    "counter = 1\n",
    "while counter <= 10:\n",
    "    print(counter)\n",
    "    counter += 1"
   ]
  },
  {
   "cell_type": "markdown",
   "id": "ad6c1208",
   "metadata": {},
   "source": [
    "## 13. Question\n",
    "\n",
    "If you had a function named `bacon()` inside a module named `spam`, how would you call it after importing `spam`?\n",
    "\n",
    "## Answer\n",
    "\n",
    "After importing the module `spam`, you can call the function `bacon()` using the following syntax:\n",
    "\n",
    "```python\n",
    "import spam\n",
    "\n",
    "# Call bacon() function from the spam module\n",
    "spam.bacon()\n"
   ]
  },
  {
   "cell_type": "code",
   "execution_count": null,
   "id": "22e9adab",
   "metadata": {},
   "outputs": [],
   "source": []
  }
 ],
 "metadata": {
  "kernelspec": {
   "display_name": "Python 3 (ipykernel)",
   "language": "python",
   "name": "python3"
  },
  "language_info": {
   "codemirror_mode": {
    "name": "ipython",
    "version": 3
   },
   "file_extension": ".py",
   "mimetype": "text/x-python",
   "name": "python",
   "nbconvert_exporter": "python",
   "pygments_lexer": "ipython3",
   "version": "3.9.16"
  }
 },
 "nbformat": 4,
 "nbformat_minor": 5
}
