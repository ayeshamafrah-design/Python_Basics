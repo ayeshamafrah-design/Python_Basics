{
 "cells": [
  {
   "cell_type": "markdown",
   "id": "cee8d5e5-75e3-46da-a2d3-559be25bef48",
   "metadata": {},
   "source": [
    "### 1. How many seconds are in an hour? Use the interactive interpreter as a calculator and multiply the number of seconds in a minute (60) by the number of minutes in an hour (also 60).\n",
    "\n",
    "To calculate the number of seconds in an hour, multiply the number of seconds in a minute (60) by the number of minutes in an hour (60).\n"
   ]
  },
  {
   "cell_type": "code",
   "execution_count": 21,
   "id": "1390405e-9fe2-4469-b847-8897123c370f",
   "metadata": {},
   "outputs": [
    {
     "name": "stdout",
     "output_type": "stream",
     "text": [
      "3600\n"
     ]
    }
   ],
   "source": [
    "seconds_in_minute = 60\n",
    "minutes_in_hour = 60\n",
    "\n",
    "seconds_in_hour = seconds_in_minute * minutes_in_hour\n",
    "print(seconds_in_hour) "
   ]
  },
  {
   "cell_type": "markdown",
   "id": "3e667fdc-b978-4abb-9380-452b83589b74",
   "metadata": {},
   "source": [
    "### 2. Assign the result from the previous task (seconds in an hour) to a variable called `seconds_per_hour`.\n",
    "\n",
    "After calculating the number of seconds in an hour (which is 3600), assign this result to a variable called `seconds_per_hour`.\n"
   ]
  },
  {
   "cell_type": "code",
   "execution_count": 23,
   "id": "06de6224-a2e9-483a-b081-0c15db0f008e",
   "metadata": {},
   "outputs": [
    {
     "name": "stdout",
     "output_type": "stream",
     "text": [
      "3600\n"
     ]
    }
   ],
   "source": [
    "seconds_per_hour = 3600\n",
    "print(seconds_per_hour)"
   ]
  },
  {
   "cell_type": "markdown",
   "id": "eadecb98-733b-4d4d-959c-cc80bedc3969",
   "metadata": {},
   "source": [
    "### 3. How many seconds do you think there are in a day? Make use of the variables `seconds_per_hour` and `minutes_per_hour`.\n",
    "\n",
    "To calculate the number of seconds in a day, you can use the `seconds_per_hour` variable from the previous task and multiply it by the number of hours in a day (24).\n"
   ]
  },
  {
   "cell_type": "code",
   "execution_count": 26,
   "id": "aa9cfa61-116d-45fb-bf3c-d7b1cd8f7040",
   "metadata": {},
   "outputs": [
    {
     "name": "stdout",
     "output_type": "stream",
     "text": [
      "86400\n"
     ]
    }
   ],
   "source": [
    "minutes_per_hour = 60\n",
    "seconds_per_hour = minutes_per_hour * 60  \n",
    "\n",
    "hours_in_day = 24\n",
    "seconds_per_day = seconds_per_hour * hours_in_day\n",
    "print(seconds_per_day)"
   ]
  },
  {
   "cell_type": "markdown",
   "id": "3593adc5-cf33-449c-8920-d042d4547078",
   "metadata": {},
   "source": [
    "### 4. Calculate seconds per day again, but this time save the result in a variable called `seconds_per_day`.\n",
    "\n",
    "You can calculate the number of seconds in a day by using the `seconds_per_hour` variable and multiplying it by the number of hours in a day. Assign the result to a variable called `seconds_per_day`.\n"
   ]
  },
  {
   "cell_type": "code",
   "execution_count": 28,
   "id": "3110d8ce-2b1b-4cc6-9a6e-eea6d5b4cf35",
   "metadata": {},
   "outputs": [
    {
     "name": "stdout",
     "output_type": "stream",
     "text": [
      "86400\n"
     ]
    }
   ],
   "source": [
    "seconds_per_day = seconds_per_hour * hours_in_day\n",
    "print(seconds_per_day) "
   ]
  },
  {
   "cell_type": "markdown",
   "id": "7cb62c19-13fc-4712-8a7c-af7e773e946f",
   "metadata": {},
   "source": [
    "### 5. Divide `seconds_per_day` by `seconds_per_hour`. Use floating-point (`/`) division.\n",
    "\n",
    "To find how many hours are in a day, divide `seconds_per_day` by `seconds_per_hour` using floating-point division (`/`).\n"
   ]
  },
  {
   "cell_type": "code",
   "execution_count": 30,
   "id": "69f2a942-75f8-4988-bc3a-5c09b1b80bba",
   "metadata": {},
   "outputs": [
    {
     "name": "stdout",
     "output_type": "stream",
     "text": [
      "24.0\n"
     ]
    }
   ],
   "source": [
    "hours_in_day = seconds_per_day / seconds_per_hour\n",
    "print(hours_in_day)"
   ]
  },
  {
   "cell_type": "markdown",
   "id": "20fade2a-aa71-433e-a070-9a796e74ae90",
   "metadata": {},
   "source": [
    "### 6. Divide `seconds_per_day` by `seconds_per_hour`, using integer (`//`) division. Did this number agree with the floating-point value from the previous question, aside from the final `.0`?\n",
    "\n",
    "To calculate how many hours are in a day using integer division (`//`), divide `seconds_per_day` by `seconds_per_hour`.\n"
   ]
  },
  {
   "cell_type": "code",
   "execution_count": 31,
   "id": "a605e990-af04-4793-b0ff-025cf20b1e9c",
   "metadata": {},
   "outputs": [
    {
     "name": "stdout",
     "output_type": "stream",
     "text": [
      "24\n"
     ]
    }
   ],
   "source": [
    "hours_in_day_integer = seconds_per_day // seconds_per_hour\n",
    "print(hours_in_day_integer) "
   ]
  },
  {
   "cell_type": "markdown",
   "id": "0d904107-8c74-4318-a206-a7644e14d67c",
   "metadata": {},
   "source": [
    "### 7. Write a generator, `genPrimes`, that returns the sequence of prime numbers on successive calls to its `next()` method: 2, 3, 5, 7, 11, ...\n",
    "\n",
    "A generator is a special type of function that yields values one at a time using the `yield` keyword. Below is a generator function `genPrimes` that produces prime numbers:\n"
   ]
  },
  {
   "cell_type": "code",
   "execution_count": 32,
   "id": "8f15ebcb-0253-45cb-8b30-702a7d793551",
   "metadata": {},
   "outputs": [],
   "source": [
    "def genPrimes():\n",
    "    primes = []  # List to store prime numbers\n",
    "    candidate = 2  # Start with the first prime number\n",
    "    \n",
    "    while True:\n",
    "        # Check if the candidate is a prime number\n",
    "        is_prime = all(candidate % p != 0 for p in primes)\n",
    "        if is_prime:\n",
    "            primes.append(candidate)  # Add to the list of primes\n",
    "            yield candidate  # Yield the prime number\n",
    "        candidate += 1  # Move to the next number\n"
   ]
  },
  {
   "cell_type": "code",
   "execution_count": 36,
   "id": "d8272be7-af76-4656-98aa-10a8f23ee8a8",
   "metadata": {},
   "outputs": [
    {
     "name": "stdout",
     "output_type": "stream",
     "text": [
      "2\n",
      "3\n",
      "5\n",
      "7\n",
      "11\n",
      "13\n",
      "17\n"
     ]
    }
   ],
   "source": [
    "prime_generator = genPrimes()\n",
    "\n",
    "print(next(prime_generator))  \n",
    "print(next(prime_generator)) \n",
    "print(next(prime_generator)) \n",
    "print(next(prime_generator)) \n",
    "print(next(prime_generator))  \n",
    "print(next(prime_generator))  \n",
    "print(next(prime_generator))  "
   ]
  }
 ],
 "metadata": {
  "kernelspec": {
   "display_name": "Python 3 (ipykernel)",
   "language": "python",
   "name": "python3"
  },
  "language_info": {
   "codemirror_mode": {
    "name": "ipython",
    "version": 3
   },
   "file_extension": ".py",
   "mimetype": "text/x-python",
   "name": "python",
   "nbconvert_exporter": "python",
   "pygments_lexer": "ipython3",
   "version": "3.11.5"
  }
 },
 "nbformat": 4,
 "nbformat_minor": 5
}
