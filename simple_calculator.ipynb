{
 "cells": [
  {
   "cell_type": "code",
   "execution_count": 3,
   "id": "1bd62ad9-8172-40ec-b389-b54cbd728173",
   "metadata": {},
   "outputs": [
    {
     "name": "stdin",
     "output_type": "stream",
     "text": [
      "Enter the first number:  8\n",
      "Enter the second number:  4\n"
     ]
    },
    {
     "name": "stdout",
     "output_type": "stream",
     "text": [
      "The LCM of 8 and 4 is: 8\n"
     ]
    }
   ],
   "source": [
    "# Program to find the LCM of two numbers\n",
    "\n",
    "def find_lcm(x, y):\n",
    "    # Choose the greater number\n",
    "    if x > y:\n",
    "        greater = x\n",
    "    else:\n",
    "        greater = y\n",
    "\n",
    "    while True:\n",
    "        if greater % x == 0 and greater % y == 0:  # Check if divisible by both x and y\n",
    "            lcm = greater\n",
    "            break\n",
    "        greater += 1  # Increment to find the next multiple\n",
    "\n",
    "    return lcm\n",
    "\n",
    "num1 = int(input(\"Enter the first number: \"))\n",
    "num2 = int(input(\"Enter the second number: \"))\n",
    "\n",
    "# Compute and display the LCM\n",
    "lcm = find_lcm(num1, num2)\n",
    "print(f\"The LCM of {num1} and {num2} is: {lcm}\")\n"
   ]
  },
  {
   "cell_type": "code",
   "execution_count": 6,
   "id": "d1c89bc1-8c3a-4712-a660-c9ac2c95f90a",
   "metadata": {},
   "outputs": [
    {
     "name": "stdin",
     "output_type": "stream",
     "text": [
      "Enter the first number:  6\n",
      "Enter the second number:  8\n"
     ]
    },
    {
     "name": "stdout",
     "output_type": "stream",
     "text": [
      "The HCF of 6 and 8 is: 2\n"
     ]
    }
   ],
   "source": [
    "# Program to find the HCF of two numbers\n",
    "\n",
    "def find_hcf(x, y):\n",
    "    # Smaller number is the limit for HCF\n",
    "    if x > y:\n",
    "        smaller = y\n",
    "    else:\n",
    "        smaller = x\n",
    "\n",
    "    hcf = 1  # Start with 1 as the default HCF\n",
    "    for i in range(1, smaller + 1):\n",
    "        if x % i == 0 and y % i == 0:  # Check if i divides both numbers\n",
    "            hcf = i\n",
    "    return hcf\n",
    "\n",
    "num1 = int(input(\"Enter the first number: \"))\n",
    "num2 = int(input(\"Enter the second number: \"))\n",
    "\n",
    "# Compute and display the HCF\n",
    "hcf = find_hcf(num1, num2)\n",
    "print(f\"The HCF of {num1} and {num2} is: {hcf}\")\n"
   ]
  },
  {
   "cell_type": "code",
   "execution_count": 7,
   "id": "24f21bd3-9de4-4829-b5f1-022ae7f0a65f",
   "metadata": {},
   "outputs": [
    {
     "name": "stdin",
     "output_type": "stream",
     "text": [
      "Enter a decimal number:  45\n"
     ]
    },
    {
     "name": "stdout",
     "output_type": "stream",
     "text": [
      "Decimal: 45\n",
      "Binary: 101101\n",
      "Octal: 55\n",
      "Hexadecimal: 2D\n"
     ]
    }
   ],
   "source": [
    "# Program to convert decimal to binary, octal, and hexadecimal\n",
    "\n",
    "def convert_number(decimal):\n",
    "    # Conversion using built-in functions\n",
    "    binary = bin(decimal)   # Convert to binary\n",
    "    octal = oct(decimal)    # Convert to octal\n",
    "    hexadecimal = hex(decimal)  # Convert to hexadecimal\n",
    "    \n",
    "    return binary[2:], octal[2:], hexadecimal[2:]  # Remove the prefixes '0b', '0o', '0x'\n",
    "\n",
    "decimal = int(input(\"Enter a decimal number: \"))\n",
    "\n",
    "# Perform conversions\n",
    "binary, octal, hexadecimal = convert_number(decimal)\n",
    "\n",
    "# Display results\n",
    "print(f\"Decimal: {decimal}\")\n",
    "print(f\"Binary: {binary}\")\n",
    "print(f\"Octal: {octal}\")\n",
    "print(f\"Hexadecimal: {hexadecimal.upper()}\")\n"
   ]
  },
  {
   "cell_type": "code",
   "execution_count": 8,
   "id": "33dd3dc1-5f0a-467c-adc0-f410d91c9497",
   "metadata": {},
   "outputs": [
    {
     "name": "stdin",
     "output_type": "stream",
     "text": [
      "Enter a character:  g\n"
     ]
    },
    {
     "name": "stdout",
     "output_type": "stream",
     "text": [
      "The ASCII value of 'g' is: 103\n"
     ]
    }
   ],
   "source": [
    "# Program to find the ASCII value of a character\n",
    "\n",
    "def ascii_value(character):\n",
    "    return ord(character)  # ord() function gives the ASCII value of a character\n",
    "\n",
    "char = input(\"Enter a character: \")\n",
    "\n",
    "# Check if the input is a single character\n",
    "if len(char) == 1:\n",
    "    # Find and display the ASCII value\n",
    "    print(f\"The ASCII value of '{char}' is: {ascii_value(char)}\")\n",
    "else:\n",
    "    print(\"Please enter a single character.\")\n"
   ]
  },
  {
   "cell_type": "code",
   "execution_count": 9,
   "id": "8439bcf0-e92d-438e-934e-622c318a6e2b",
   "metadata": {},
   "outputs": [
    {
     "name": "stdout",
     "output_type": "stream",
     "text": [
      "Select operation:\n",
      "1. Add\n",
      "2. Subtract\n",
      "3. Multiply\n",
      "4. Divide\n"
     ]
    },
    {
     "name": "stdin",
     "output_type": "stream",
     "text": [
      "Enter choice (1/2/3/4):  4\n",
      "Enter first number:  80\n",
      "Enter second number:  5\n"
     ]
    },
    {
     "name": "stdout",
     "output_type": "stream",
     "text": [
      "80.0 / 5.0 = 16.0\n"
     ]
    }
   ],
   "source": [
    "# Program to create a simple calculator\n",
    "\n",
    "def add(x, y):\n",
    "    return x + y\n",
    "\n",
    "def subtract(x, y):\n",
    "    return x - y\n",
    "\n",
    "def multiply(x, y):\n",
    "    return x * y\n",
    "\n",
    "def divide(x, y):\n",
    "    if y == 0:\n",
    "        return \"Error! Division by zero.\"\n",
    "    else:\n",
    "        return x / y\n",
    "\n",
    "# Display the options to the user\n",
    "print(\"Select operation:\")\n",
    "print(\"1. Add\")\n",
    "print(\"2. Subtract\")\n",
    "print(\"3. Multiply\")\n",
    "print(\"4. Divide\")\n",
    "\n",
    "choice = input(\"Enter choice (1/2/3/4): \")\n",
    "\n",
    "num1 = float(input(\"Enter first number: \"))\n",
    "num2 = float(input(\"Enter second number: \"))\n",
    "\n",
    "# Perform the selected operation\n",
    "if choice == '1':\n",
    "    print(f\"{num1} + {num2} = {add(num1, num2)}\")\n",
    "elif choice == '2':\n",
    "    print(f\"{num1} - {num2} = {subtract(num1, num2)}\")\n",
    "elif choice == '3':\n",
    "    print(f\"{num1} * {num2} = {multiply(num1, num2)}\")\n",
    "elif choice == '4':\n",
    "    print(f\"{num1} / {num2} = {divide(num1, num2)}\")\n",
    "else:\n",
    "    print(\"Invalid input! Please select a valid operation.\")\n"
   ]
  }
 ],
 "metadata": {
  "kernelspec": {
   "display_name": "Python 3 (ipykernel)",
   "language": "python",
   "name": "python3"
  },
  "language_info": {
   "codemirror_mode": {
    "name": "ipython",
    "version": 3
   },
   "file_extension": ".py",
   "mimetype": "text/x-python",
   "name": "python",
   "nbconvert_exporter": "python",
   "pygments_lexer": "ipython3",
   "version": "3.11.5"
  }
 },
 "nbformat": 4,
 "nbformat_minor": 5
}
