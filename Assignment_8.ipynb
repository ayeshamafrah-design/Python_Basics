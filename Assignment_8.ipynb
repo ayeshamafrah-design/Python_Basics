{
 "cells": [
  {
   "cell_type": "markdown",
   "id": "7d13c42a",
   "metadata": {},
   "source": [
    "## 1.Question\n",
    "Is the Python Standard Library included with PyInputPlus?\n",
    "\n",
    "## Answer\n",
    "\n",
    "No, the Python Standard Library is not included with PyInputPlus. PyInputPlus is a separate Python package that provides additional functionality for taking input from the user, such as validating input, retrying on invalid input, and more. You need to install PyInputPlus separately using pip:"
   ]
  },
  {
   "cell_type": "code",
   "execution_count": 1,
   "id": "7e4ac6a6",
   "metadata": {},
   "outputs": [
    {
     "name": "stdout",
     "output_type": "stream",
     "text": [
      "Defaulting to user installation because normal site-packages is not writeable\n",
      "Collecting pyinputplus\n",
      "  Downloading PyInputPlus-0.2.12.tar.gz (20 kB)\n",
      "  Installing build dependencies: started\n",
      "  Installing build dependencies: finished with status 'done'\n",
      "  Getting requirements to build wheel: started\n",
      "  Getting requirements to build wheel: finished with status 'done'\n",
      "  Preparing metadata (pyproject.toml): started\n",
      "  Preparing metadata (pyproject.toml): finished with status 'done'\n",
      "Collecting stdiomask>=0.0.3\n",
      "  Downloading stdiomask-0.0.6.tar.gz (3.6 kB)\n",
      "  Installing build dependencies: started\n",
      "  Installing build dependencies: finished with status 'done'\n",
      "  Getting requirements to build wheel: started\n",
      "  Getting requirements to build wheel: finished with status 'done'\n",
      "  Preparing metadata (pyproject.toml): started\n",
      "  Preparing metadata (pyproject.toml): finished with status 'done'\n",
      "Collecting pysimplevalidate>=0.2.7\n",
      "  Downloading PySimpleValidate-0.2.12.tar.gz (22 kB)\n",
      "  Installing build dependencies: started\n",
      "  Installing build dependencies: finished with status 'done'\n",
      "  Getting requirements to build wheel: started\n",
      "  Getting requirements to build wheel: finished with status 'done'\n",
      "  Preparing metadata (pyproject.toml): started\n",
      "  Preparing metadata (pyproject.toml): finished with status 'done'\n",
      "Building wheels for collected packages: pyinputplus, pysimplevalidate, stdiomask\n",
      "  Building wheel for pyinputplus (pyproject.toml): started\n",
      "  Building wheel for pyinputplus (pyproject.toml): finished with status 'done'\n",
      "  Created wheel for pyinputplus: filename=PyInputPlus-0.2.12-py3-none-any.whl size=11319 sha256=46c9232b9e0a511720727ae77743e8aa6004ab9126626914d2fa16beefa4adfb\n",
      "  Stored in directory: c:\\users\\dell\\appdata\\local\\pip\\cache\\wheels\\b4\\6e\\2f\\8a852732646cabec36c3fe8fc060ec5bea1c1be711432c47f7\n",
      "  Building wheel for pysimplevalidate (pyproject.toml): started\n",
      "  Building wheel for pysimplevalidate (pyproject.toml): finished with status 'done'\n",
      "  Created wheel for pysimplevalidate: filename=PySimpleValidate-0.2.12-py3-none-any.whl size=16204 sha256=93b2a8d67557c7853584174d3267221f65eb973a07ae3d2bcdcdd7392fd1c6f1\n",
      "  Stored in directory: c:\\users\\dell\\appdata\\local\\pip\\cache\\wheels\\b1\\44\\4a\\043a4f4c4512c7cdfb0c2b8408b18b0de5fd45cac57f5dfa02\n",
      "  Building wheel for stdiomask (pyproject.toml): started\n",
      "  Building wheel for stdiomask (pyproject.toml): finished with status 'done'\n",
      "  Created wheel for stdiomask: filename=stdiomask-0.0.6-py3-none-any.whl size=3321 sha256=969cfa08ac3ea915e51efc894f42f9afade934b4f9f7b7c011107a58f6dd7a94\n",
      "  Stored in directory: c:\\users\\dell\\appdata\\local\\pip\\cache\\wheels\\1d\\aa\\47\\f41f117d22c5de82e95d9342f44da578c80610739a2d5ebec4\n",
      "Successfully built pyinputplus pysimplevalidate stdiomask\n",
      "Installing collected packages: stdiomask, pysimplevalidate, pyinputplus\n",
      "Successfully installed pyinputplus-0.2.12 pysimplevalidate-0.2.12 stdiomask-0.0.6\n",
      "Note: you may need to restart the kernel to use updated packages.\n"
     ]
    }
   ],
   "source": [
    "pip install pyinputplus"
   ]
  },
  {
   "cell_type": "markdown",
   "id": "71ee5792",
   "metadata": {},
   "source": [
    "Once installed, you can import and use PyInputPlus in your Python programs to enhance user input handling."
   ]
  },
  {
   "cell_type": "markdown",
   "id": "43388c02",
   "metadata": {},
   "source": [
    "## 2.Question\n",
    "\n",
    "Why is PyInputPlus commonly imported with import pyinputplus as pyip?\n",
    "\n",
    "## Answer\n",
    "\n",
    "PyInputPlus is commonly imported with the alias `pyip` (or any other alias) to make it easier to refer to the module in your code. Using an alias allows you to type fewer characters when accessing PyInputPlus functions, which can be especially useful if you use PyInputPlus frequently in your code. It also helps make your code more readable by providing a shorter, more descriptive name for the module.\n",
    "\n",
    "For example, instead of writing `pyinputplus.inputInt()`, you can write `pyip.inputInt()`, which is shorter and easier to type. The choice of alias (`pyip` in this case) is arbitrary and can be any valid Python identifier."
   ]
  },
  {
   "cell_type": "markdown",
   "id": "a6cb9643",
   "metadata": {},
   "source": [
    "## 3.Question\n",
    "How do you distinguish between `inputInt()` and `inputFloat()`?\n",
    "\n",
    "## Answer:\n",
    "`inputInt()` and `inputFloat()` are hypothetical functions used to receive user input in programming. The main distinction between them lies in the type of data they accept:\n",
    "\n",
    "- `inputInt()` is used to read an integer value from the user. It expects the user to enter a whole number without any decimal points.\n",
    "- `inputFloat()` is used to read a floating-point value (a number with decimal points) from the user. It allows the user to enter a number with or without decimal points.\n",
    "\n",
    "Example:\n"
   ]
  },
  {
   "cell_type": "code",
   "execution_count": 14,
   "id": "357dd4c1",
   "metadata": {},
   "outputs": [
    {
     "name": "stdout",
     "output_type": "stream",
     "text": [
      "Enter an integer: 8.9\n",
      "Please enter an integer.\n",
      "Enter an integer: 90\n",
      "Enter a number: 78.9\n",
      "Integer input: 90\n",
      "Float input: 78.9\n"
     ]
    }
   ],
   "source": [
    "\n",
    "def inputInt(prompt=\"Enter an integer: \"):\n",
    "    while True:\n",
    "        try:\n",
    "            return int(input(prompt))\n",
    "        except ValueError:\n",
    "            print(\"Please enter an integer.\")\n",
    "\n",
    "def inputFloat(prompt=\"Enter a number: \"):\n",
    "    while True:\n",
    "        try:\n",
    "            return float(input(prompt))\n",
    "        except ValueError:\n",
    "            print(\"Please enter a number.\")\n",
    "\n",
    "integer_input = inputInt()\n",
    "float_input = inputFloat()\n",
    "\n",
    "print(\"Integer input:\", integer_input)\n",
    "print(\"Float input:\", float_input)\n",
    "\n"
   ]
  },
  {
   "cell_type": "markdown",
   "id": "99448d7e",
   "metadata": {},
   "source": [
    "## 4.Question:\n",
    "Using PyInputPlus, how do you ensure that the user enters a whole number between 0 and 99?\n",
    "\n",
    "## Answer:\n",
    "You can use PyInputPlus to ensure that the user enters a whole number between 0 and 99 by using the `inputInt()` function with additional parameters for `min`, `max`, and `greaterThan`:\n",
    "\n"
   ]
  },
  {
   "cell_type": "code",
   "execution_count": 16,
   "id": "73933fb4",
   "metadata": {},
   "outputs": [
    {
     "name": "stdout",
     "output_type": "stream",
     "text": [
      "Enter a whole number between 0 and 99: 50548\n",
      "Number must be at maximum 99.\n",
      "Enter a whole number between 0 and 99: 683\n",
      "Number must be at maximum 99.\n",
      "Enter a whole number between 0 and 99: 6\n"
     ]
    }
   ],
   "source": [
    "import pyinputplus as pyip\n",
    "\n",
    "num = pyip.inputInt(prompt='Enter a whole number between 0 and 99: ',\n",
    "                    min=0, max=99)"
   ]
  },
  {
   "cell_type": "markdown",
   "id": "f04e798d",
   "metadata": {},
   "source": [
    "## 5. Question:\n",
    "\n",
    "What is transferred to the keyword arguments `allowRegexes` and `blockRegexes`?\n",
    "\n",
    "## Answer:\n",
    "\n",
    "\n",
    "In Python, the ** operator is used to unpack keyword arguments from a dictionary into a function call. When used with the allowRegexes and blockRegexes arguments, it means that the values for these arguments should be provided as dictionaries, where the keys are the argument names (allowRegexes and blockRegexes) and the values are regular expressions.\n",
    "\n",
    "Example:"
   ]
  },
  {
   "cell_type": "code",
   "execution_count": 18,
   "id": "37114d7c",
   "metadata": {},
   "outputs": [
    {
     "name": "stdout",
     "output_type": "stream",
     "text": [
      "allowRegexes: ^[0-9]+$\n",
      "blockRegexes: ^[a-zA-Z]+$\n"
     ]
    }
   ],
   "source": [
    "def process_data(**kwargs):\n",
    "    for key, value in kwargs.items():\n",
    "        print(f\"{key}: {value}\")\n",
    "\n",
    "allow_regexes = {\"allowRegexes\": \"^[0-9]+$\"}\n",
    "block_regexes = {\"blockRegexes\": \"^[a-zA-Z]+$\"}\n",
    "\n",
    "process_data(**allow_regexes, **block_regexes)"
   ]
  },
  {
   "cell_type": "markdown",
   "id": "ecdce7c7",
   "metadata": {},
   "source": [
    "## 6.Question:\n",
    "\n",
    "If a blank input is entered three times, what does `inputStr(limit=3)` do?\n",
    "\n",
    "## Answer:\n",
    "\n",
    "The `inputStr(limit=3)` function with a limit of 3 specifies that the user can only enter a non-blank input up to three times. If a blank input is entered three times in a row, the function will raise an exception or return a default value, depending on the implementation. This behavior helps limit the number of consecutive blank inputs allowed, enforcing a limit on the number of retries the user has to provide a valid input.\n"
   ]
  },
  {
   "cell_type": "markdown",
   "id": "0bc9104e",
   "metadata": {},
   "source": [
    "## 7. Question:\n",
    "\n",
    "If a blank input is entered three times, what does `inputStr(limit=3, default='hello')` do?\n",
    "\n",
    "## Answer:\n",
    "\n",
    "If a blank input is entered three times, the `inputStr(limit=3, default='hello')` function will return the default value `'hello'` after the third attempt. This means that if the user enters a blank input three times in a row, the function will return `'hello'` instead of raising an exception.\n"
   ]
  },
  {
   "cell_type": "code",
   "execution_count": 22,
   "id": "3479ee80",
   "metadata": {},
   "outputs": [
    {
     "name": "stdout",
     "output_type": "stream",
     "text": [
      "Enter a string: \n",
      "Enter a string: \n",
      "Enter a string: \n",
      "String input: hello\n"
     ]
    }
   ],
   "source": [
    "def inputStr(prompt=\"Enter a string: \", limit=3, default='hello'):\n",
    "    for _ in range(limit):\n",
    "        user_input = input(prompt)\n",
    "        if user_input.strip():  \n",
    "            return user_input\n",
    "    return default\n",
    "\n",
    "string_input = inputStr()\n",
    "print(\"String input:\", string_input)\n"
   ]
  },
  {
   "cell_type": "code",
   "execution_count": null,
   "id": "02c0b0fc",
   "metadata": {},
   "outputs": [],
   "source": []
  }
 ],
 "metadata": {
  "kernelspec": {
   "display_name": "Python 3 (ipykernel)",
   "language": "python",
   "name": "python3"
  },
  "language_info": {
   "codemirror_mode": {
    "name": "ipython",
    "version": 3
   },
   "file_extension": ".py",
   "mimetype": "text/x-python",
   "name": "python",
   "nbconvert_exporter": "python",
   "pygments_lexer": "ipython3",
   "version": "3.9.13"
  }
 },
 "nbformat": 4,
 "nbformat_minor": 5
}
