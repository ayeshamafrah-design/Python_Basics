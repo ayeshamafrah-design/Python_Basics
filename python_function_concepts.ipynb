{
 "cells": [
  {
   "cell_type": "markdown",
   "id": "bf9177e3-ce20-436a-8a81-07526cbc95eb",
   "metadata": {},
   "source": [
    "### 1) What is the difference between enclosing a list comprehension in square brackets and parentheses?\n",
    "\n",
    "- **Square Brackets (`[]`)**: Enclosing a list comprehension in square brackets creates a **list**. It generates a new list containing the results of the comprehension.\n",
    "  \n",
    "- **Parentheses (`()`)**: Enclosing a list comprehension in parentheses creates a **generator expression**. A generator expression does not create an entire list in memory; it generates values one at a time, which is more memory efficient, especially for large datasets."
   ]
  },
  {
   "cell_type": "code",
   "execution_count": 27,
   "id": "2d0d220f-66f3-4c67-90c7-af9b6e360164",
   "metadata": {},
   "outputs": [
    {
     "name": "stdout",
     "output_type": "stream",
     "text": [
      "[0, 1, 4, 9, 16]\n"
     ]
    }
   ],
   "source": [
    "squares = [x ** 2 for x in range(5)]\n",
    "print(squares) "
   ]
  },
  {
   "cell_type": "markdown",
   "id": "218128e0-d1a1-45b3-bc28-d51f51b36063",
   "metadata": {},
   "source": [
    "### 2) What is the relationship between generators and iterators?\n",
    "\n",
    "- **Iterators**: An iterator is an object that implements the `__iter__()` and `__next__()` methods. You can use an iterator to traverse through a collection of items (like a list or a set) one by one.\n",
    "  \n",
    "- **Generators**: A generator is a type of iterator. It is a function that uses the `yield` keyword to produce a sequence of results lazily, one at a time, without storing them in memory. A generator is defined using a function or a generator expression.\n",
    "\n",
    "  **Key Relationship**: All generators are iterators, but not all iterators are generators. Generators provide an efficient way to iterate through data because they generate items on demand instead of creating a whole sequence in memory.\n"
   ]
  },
  {
   "cell_type": "markdown",
   "id": "9470d9ff-9996-405e-b571-034861d36a3b",
   "metadata": {},
   "source": [
    "### 3) What are the signs that a function is a generator function?\n",
    "\n",
    "A function is a **generator function** if it:\n",
    "- Contains at least one `yield` statement.\n",
    "- Does not return a value with `return`; instead, it \"yields\" values one at a time."
   ]
  },
  {
   "cell_type": "code",
   "execution_count": 32,
   "id": "63ba80aa-8e8c-4663-ac76-d8fffe6f5d9b",
   "metadata": {},
   "outputs": [],
   "source": [
    "def count_up_to(max):\n",
    "    count = 1\n",
    "    while count <= max:\n",
    "        yield count  # Yield value instead of returning it\n",
    "        count += 1\n"
   ]
  },
  {
   "cell_type": "markdown",
   "id": "0a955f7a-4b8d-4679-9979-85b624cb3dfa",
   "metadata": {},
   "source": [
    "### 4) What is the purpose of a yield statement?\n",
    "\n",
    "The `yield` statement is used in a function to:\n",
    "- Pause the function and **return a value** to the caller.\n",
    "- The function can later be resumed from where it left off, allowing it to produce a sequence of values lazily without storing them in memory.\n",
    "\n",
    "  This makes `yield` a core feature of **generator functions**, enabling them to produce values one at a time."
   ]
  },
  {
   "cell_type": "code",
   "execution_count": 33,
   "id": "0e2cfdd6-e1aa-47dc-93f5-743b2f2a8df6",
   "metadata": {},
   "outputs": [
    {
     "name": "stdout",
     "output_type": "stream",
     "text": [
      "1\n",
      "2\n",
      "3\n",
      "4\n",
      "5\n"
     ]
    }
   ],
   "source": [
    "def count_up_to(max):\n",
    "    count = 1\n",
    "    while count <= max:\n",
    "        yield count  # Pause the function and return the current count\n",
    "        count += 1\n",
    "\n",
    "for number in count_up_to(5):\n",
    "    print(number)\n"
   ]
  },
  {
   "cell_type": "markdown",
   "id": "c03ff757-5d49-4670-b966-d7038e5cd97d",
   "metadata": {},
   "source": [
    "### 5) What is the relationship between map calls and list comprehensions? Make a comparison and contrast between the two.\n",
    "\n",
    "- **List Comprehensions**: List comprehensions are a more concise and readable way to create a new list by iterating over an iterable and applying an expression. They are generally more Pythonic and easier to understand for simple operations.\n",
    "\n",
    "- **`map()` Function**: The `map()` function applies a given function to all items in an iterable and returns a map object (which is an iterator). It is functionally similar to list comprehension but is often considered less readable for simple cases. It can be more efficient when working with complex functions or external function definitions.\n",
    "\n",
    "  **Comparison**:\n",
    "  - **List comprehensions** are often preferred for their readability and simplicity, especially for short, clear operations.\n",
    "  - **`map()`** can be used when you want to apply a function to the entire iterable, and it is more efficient when using pre-defined functions.\n",
    "  - Both **return a sequence** of values, but **list comprehension** creates a list directly, while `map()` returns a map object, which is an iterator.\n",
    "\n",
    "  **Summary**:\n",
    "  - Use list comprehensions for simplicity and readability.\n",
    "  - Use `map()` when you have a pre-existing function and want to apply it to an iterable in a functional style."
   ]
  },
  {
   "cell_type": "code",
   "execution_count": 34,
   "id": "51b4c8f3-896e-49f1-b482-72a0e95a852f",
   "metadata": {},
   "outputs": [],
   "source": [
    "squares = [x ** 2 for x in range(5)]"
   ]
  }
 ],
 "metadata": {
  "kernelspec": {
   "display_name": "Python 3 (ipykernel)",
   "language": "python",
   "name": "python3"
  },
  "language_info": {
   "codemirror_mode": {
    "name": "ipython",
    "version": 3
   },
   "file_extension": ".py",
   "mimetype": "text/x-python",
   "name": "python",
   "nbconvert_exporter": "python",
   "pygments_lexer": "ipython3",
   "version": "3.11.5"
  }
 },
 "nbformat": 4,
 "nbformat_minor": 5
}
