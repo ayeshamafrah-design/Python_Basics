{
 "cells": [
  {
   "cell_type": "markdown",
   "id": "b2fafaf8-99ff-48ba-8f03-fe8aec0b6934",
   "metadata": {},
   "source": [
    "### Question 1:\n",
    "Create a function that takes a string and returns a string in which each character is repeated once.\n",
    "\n",
    "- double_char(\"String\") ➞ \"SSttrriinngg\"\n",
    "- double_char(\"Hello World!\") ➞ \"HHeelllloo WWoorrlldd!!\"\n",
    "- double_char(\"1234!_ \") ➞ \"11223344!!__ \"\n"
   ]
  },
  {
   "cell_type": "code",
   "execution_count": 13,
   "id": "435c5566-d0aa-4fe0-beda-a12914a5e5f7",
   "metadata": {},
   "outputs": [
    {
     "name": "stdout",
     "output_type": "stream",
     "text": [
      "SSttrriinngg\n",
      "HHeelllloo  WWoorrlldd!!\n",
      "11223344!!__  \n"
     ]
    }
   ],
   "source": [
    "def double_char(s):\n",
    "    return ''.join([ch * 2 for ch in s])\n",
    "\n",
    "print(double_char(\"String\"))      \n",
    "print(double_char(\"Hello World!\"))\n",
    "print(double_char(\"1234!_ \"))   "
   ]
  },
  {
   "cell_type": "markdown",
   "id": "2c4d432a-40c4-40bc-a48b-04584009fc37",
   "metadata": {},
   "source": [
    "### Question 2:\n",
    "Create a function that reverses a boolean value and returns the string \"boolean expected\" if another variable type is given.\n",
    "\n",
    "- reverse(True) ➞ False\n",
    "- reverse(False) ➞ True\n",
    "- reverse(0) ➞ \"boolean expected\"\n",
    "- reverse(None) ➞ \"boolean expected\""
   ]
  },
  {
   "cell_type": "code",
   "execution_count": 14,
   "id": "b4025231-22e6-4dcc-ad82-937996e4a04f",
   "metadata": {},
   "outputs": [
    {
     "name": "stdout",
     "output_type": "stream",
     "text": [
      "False\n",
      "True\n",
      "boolean expected\n",
      "boolean expected\n"
     ]
    }
   ],
   "source": [
    "def reverse(value):\n",
    "    if isinstance(value, bool):\n",
    "        return not value\n",
    "    return \"boolean expected\"\n",
    "\n",
    "print(reverse(True))  \n",
    "print(reverse(False)) \n",
    "print(reverse(0))     \n",
    "print(reverse(None)) "
   ]
  },
  {
   "cell_type": "markdown",
   "id": "371da156-26f5-4f16-9c41-5ff1fba648df",
   "metadata": {},
   "source": [
    "### Question 3:\n",
    "Create a function that returns the thickness (in meters) of a piece of paper after folding it `n` number of times. The paper starts off with a thickness of 0.5mm.\n",
    "\n",
    "- num_layers(1) ➞ \"0.001m\"\n",
    "- num_layers(4) ➞ \"0.008m\"\n",
    "- num_layers(21) ➞ \"1048.576m\"\n"
   ]
  },
  {
   "cell_type": "code",
   "execution_count": 16,
   "id": "36f68b16-515e-4599-8c1c-cf274b8b7b48",
   "metadata": {},
   "outputs": [
    {
     "name": "stdout",
     "output_type": "stream",
     "text": [
      "0.001m\n",
      "0.008m\n",
      "1048.576m\n"
     ]
    }
   ],
   "source": [
    "def num_layers(n):\n",
    "    thickness_mm = 0.5 * (2 ** n)\n",
    "    return f\"{thickness_mm / 1000}m\"\n",
    "\n",
    "print(num_layers(1))   \n",
    "print(num_layers(4))   \n",
    "print(num_layers(21)) "
   ]
  },
  {
   "cell_type": "markdown",
   "id": "1d3f0249-5129-40f3-ab7d-e95e478cedb1",
   "metadata": {},
   "source": [
    "### Question 4:\n",
    "Create a function that takes a single string as an argument and returns an ordered list containing the indices of all capital letters in the string.\n",
    "\n",
    "- index_of_caps(\"eDaBiT\") ➞ [1, 3, 5]\n",
    "- index_of_caps(\"eQuINoX\") ➞ [1, 3, 4, 6]\n",
    "- index_of_caps(\"determine\") ➞ []\n",
    "- index_of_caps(\"STRIKE\") ➞ [0, 1, 2, 3, 4, 5]\n",
    "- index_of_caps(\"sUn\") ➞ [1]"
   ]
  },
  {
   "cell_type": "code",
   "execution_count": 17,
   "id": "e2b9a943-cce9-4173-87a5-34c5e0e9d4c7",
   "metadata": {},
   "outputs": [
    {
     "name": "stdout",
     "output_type": "stream",
     "text": [
      "[1, 3, 5]\n",
      "[1, 3, 4, 6]\n",
      "[]\n",
      "[0, 1, 2, 3, 4, 5]\n",
      "[1]\n"
     ]
    }
   ],
   "source": [
    "def index_of_caps(s):\n",
    "    return [i for i, ch in enumerate(s) if ch.isupper()]\n",
    "\n",
    "print(index_of_caps(\"eDaBiT\"))    \n",
    "print(index_of_caps(\"eQuINoX\"))   \n",
    "print(index_of_caps(\"determine\")) \n",
    "print(index_of_caps(\"STRIKE\"))    \n",
    "print(index_of_caps(\"sUn\"))     "
   ]
  },
  {
   "cell_type": "markdown",
   "id": "e0182562-b57d-48d5-b974-c3d35b2115fa",
   "metadata": {},
   "source": [
    "### Question 5:\n",
    "Using list comprehensions, create a function that finds all even numbers from 1 to the given number.\n",
    "\n",
    "- find_even_nums(8) ➞ [2, 4, 6, 8]\n",
    "- find_even_nums(4) ➞ [2, 4]\n",
    "- find_even_nums(2) ➞ [2]"
   ]
  },
  {
   "cell_type": "code",
   "execution_count": 18,
   "id": "bf36858f-13f1-42be-9235-a1a918e374c3",
   "metadata": {},
   "outputs": [
    {
     "name": "stdout",
     "output_type": "stream",
     "text": [
      "[2, 4, 6, 8]\n",
      "[2, 4]\n",
      "[2]\n"
     ]
    }
   ],
   "source": [
    "def find_even_nums(n):\n",
    "    return [i for i in range(1, n + 1) if i % 2 == 0]\n",
    "\n",
    "print(find_even_nums(8)) \n",
    "print(find_even_nums(4)) \n",
    "print(find_even_nums(2)) "
   ]
  }
 ],
 "metadata": {
  "kernelspec": {
   "display_name": "Python 3 (ipykernel)",
   "language": "python",
   "name": "python3"
  },
  "language_info": {
   "codemirror_mode": {
    "name": "ipython",
    "version": 3
   },
   "file_extension": ".py",
   "mimetype": "text/x-python",
   "name": "python",
   "nbconvert_exporter": "python",
   "pygments_lexer": "ipython3",
   "version": "3.11.5"
  }
 },
 "nbformat": 4,
 "nbformat_minor": 5
}
