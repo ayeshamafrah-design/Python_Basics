{
 "cells": [
  {
   "cell_type": "markdown",
   "id": "817ba51f",
   "metadata": {},
   "source": [
    "## 1.Question\n",
    "\n",
    "In the below elements which of them are values or an expression? eg:- values can be\n",
    "integer or string and expressions will be mathematical operators.\n",
    "\n",
    "* *\n",
    "* 'hello'\n",
    "* -87.8\n",
    "* -\n",
    "* /\n",
    "* +\n",
    "* 6\n",
    "\n",
    "## Answer\n",
    "\n",
    "In the given elements:\n",
    "\n",
    "### Values:\n",
    "1. 'hello' (string)\n",
    "2. -87.8 (floating-point number)\n",
    "3. 6 (integer)\n",
    "\n",
    "### Expressions:\n",
    "\n",
    "1.  (multiplication) *\n",
    "2.  (subtraction) -\n",
    "3.  (division) /\n",
    "4.  (addition) +\n",
    "\n"
   ]
  },
  {
   "cell_type": "markdown",
   "id": "625abc8e",
   "metadata": {},
   "source": [
    "## 2.Question\n",
    "\n",
    "What is the difference between string and variable? \n",
    "\n",
    "## Answer\n",
    "\n",
    "A **string** is a data type used to represent textual data. It is a sequence of characters enclosed within single (' ') or double (\" \") quotes. \n",
    "\n",
    "```python\n",
    "For example: 'hello' or \"ineuron\" are strings.\n",
    "\n",
    "```\n",
    "\n",
    "A **variable** on the other hand, is a symbolic name or identifier that can be used to store and manipulate data. Variables can hold various types of data, including strings. When you assign a string to a variable, you are associating that variable with the string value.\n",
    "\n",
    "```python\n",
    "variable_example = 42\n",
    "print(variable_example)\n",
    "\n",
    "```\n",
    "\n",
    "In short, a string is a specific type of data representing text, while a variable is a placeholder or container that can store different types of data, including strings.\n"
   ]
  },
  {
   "cell_type": "markdown",
   "id": "83460aec",
   "metadata": {},
   "source": [
    "## 3.Question\n",
    "\n",
    "Describe three different data types.\n",
    "\n",
    "## Answer\n",
    "\n",
    "1. **Integer (int):** An integer is a whole number without any decimal point. It can be positive or negative, such as 5, -10, or 0.\n",
    "\n",
    "2. **Float (float):** A float, or floating point number, is a numerical data type with decimal points or an exponent. Example: 3.14, -0.5, or 2.0e3.\n",
    "\n",
    "3. **String (str):** A string is a sequence of characters, typically used to represent text. It is enclosed within single (' ') or double (\" \") quotes. Example: 'hello' and \"ineuron\" are strings.\n",
    "\n",
    "These three data types—integer, float, and string—serve different purposes in programming and are fundamental for storing and manipulating various types of information.\n"
   ]
  },
  {
   "cell_type": "markdown",
   "id": "6e23de13",
   "metadata": {},
   "source": [
    "## 4.Question\n",
    "\n",
    "What is an expression made up of? What do all expressions do?\n",
    "\n",
    "## Answer\n",
    "\n",
    "An **expression** in programming is made up of a combination of values, variables, and operators. It can include literals, variables, and/or operations that, when evaluated, produce a single value.\n",
    "\n",
    "**Components of an Expression:**\n",
    "- **Values:** Constants or variables representing data (example: numbers, strings).\n",
    "- **Operators:** Symbols that perform operations on values or variables (example: +, -, *, /).\n",
    "\n",
    "**Purpose of Expressions:**\n",
    "Expressions serve the purpose of computing and producing a result. When an expression is evaluated, the values and operators are processed according to the rules of the programming language, and a final value is returned. Expressions are fundamental for performing calculations, making decisions, and manipulating data within a program.\n"
   ]
  },
  {
   "cell_type": "markdown",
   "id": "2f7dd728",
   "metadata": {},
   "source": [
    "## 5.Question\n",
    "\n",
    "This assignment statements, like spam = 10. What is the difference between an expression and a statement?\n",
    "\n",
    "## Answer\n",
    "\n",
    "In programming, an **expression** is a combination of values, variables, and operators that, when evaluated, produces a single value. example: `spam = 10` contains the expression `10`, and when this expression is executed, it assigns the value `10` to the variable `spam`.\n",
    "\n",
    "A **statement**, on the other hand, is a complete line of code that performs an action. The assignment statement `spam = 10` is an example of a statement. It not only contains an expression (`10`) but also carries out the action of assigning that value to the variable `spam`.\n",
    "\n",
    "To conclude - an expression produces a value, a statement is a complete line of code that performs an action, which may involve one or more expressions.\n"
   ]
  },
  {
   "cell_type": "markdown",
   "id": "32446b1a",
   "metadata": {},
   "source": [
    "## 6.Question\n",
    "\n",
    "After running the following code, what does the variable `bacon` contain?\n",
    "\n",
    "```python\n",
    "bacon = 22\n",
    "bacon + 1\n",
    "```\n",
    "\n",
    "## Answer\n",
    "The variable `bacon`still contains the original value of `22`. \n",
    "The expression `bacon + 1` evaluates to `23`, but this result is not assigned back to the variable `bacon`.\n",
    "\n",
    "If you want to update the value of `bacon` to the result of the expression, you would need to use the assignment statement like `bacon = bacon + 1` or the shorthand `bacon += 1`."
   ]
  },
  {
   "cell_type": "code",
   "execution_count": 3,
   "id": "e556a81f",
   "metadata": {},
   "outputs": [
    {
     "data": {
      "text/plain": [
       "23"
      ]
     },
     "execution_count": 3,
     "metadata": {},
     "output_type": "execute_result"
    }
   ],
   "source": [
    "bacon = 22\n",
    "bacon + 1"
   ]
  },
  {
   "cell_type": "code",
   "execution_count": 4,
   "id": "c72099f1",
   "metadata": {},
   "outputs": [
    {
     "data": {
      "text/plain": [
       "22"
      ]
     },
     "execution_count": 4,
     "metadata": {},
     "output_type": "execute_result"
    }
   ],
   "source": [
    "bacon #clearly you can see bacon contains the original value"
   ]
  },
  {
   "cell_type": "markdown",
   "id": "11b5187c",
   "metadata": {},
   "source": [
    "## 7.Question\n",
    "\n",
    "What should the values of the following two terms be?\n",
    "\n",
    "1. `'spam' + 'spamspam'`\n",
    "2. `'spam' * 3`\n",
    "\n",
    "## Answer\n",
    "\n",
    "1. `'spam' + 'spamspam'` evaluates to `'spamspamspam'`. This expression concatenates the string `'spam'` with the string `'spamspam'`, resulting in the combined string `'spamspamspam'`.\n",
    "\n",
    "2. `'spam' * 3` evaluates to `'spamspamspam'` as well. This expression repeats the string `'spam'` three times, giving the same result as the concatenation in the first term.\n",
    "\n",
    "Therefore, the values of the two terms are `'spamspamspam'`.\n"
   ]
  },
  {
   "cell_type": "code",
   "execution_count": 6,
   "id": "e2bc0dfe",
   "metadata": {},
   "outputs": [
    {
     "data": {
      "text/plain": [
       "'spamspamspam'"
      ]
     },
     "execution_count": 6,
     "metadata": {},
     "output_type": "execute_result"
    }
   ],
   "source": [
    "'spam' + 'spamspam'"
   ]
  },
  {
   "cell_type": "code",
   "execution_count": 7,
   "id": "5768710e",
   "metadata": {},
   "outputs": [
    {
     "data": {
      "text/plain": [
       "'spamspamspam'"
      ]
     },
     "execution_count": 7,
     "metadata": {},
     "output_type": "execute_result"
    }
   ],
   "source": [
    "'spam' * 3"
   ]
  },
  {
   "cell_type": "markdown",
   "id": "85046730",
   "metadata": {},
   "source": [
    "## 8.Question\n",
    "\n",
    "Why is eggs a valid variable name while 100 is invalid?\n",
    "\n",
    "## Answer\n",
    "\n",
    "In programming, variable names must be in certain rules and conventions. One among the rule is that a variable name cannot start with a number. This is why `eggs` is a valid variable name, as it starts with a letter.\n",
    "\n",
    "On the other hand, `100` starts with a numeral, against the rule that variable names should begin with a letter. Therefore, `100` is an invalid variable name.\n",
    "\n"
   ]
  },
  {
   "cell_type": "markdown",
   "id": "4220ba62",
   "metadata": {},
   "source": [
    "## 9.Question\n",
    "\n",
    "What three functions can be used to get the integer, floating-point number, or string\n",
    "version of a value?\n",
    "\n",
    "## Answer\n",
    "\n",
    "1. **`int()` Function:** This function is used to convert a value to an integer. example: `int(5.7)` result in `5`.\n",
    "\n",
    "2. **`float()` Function:** This function is used to convert a value to a floating point number. example: `float(7)` result in `7.0`.\n",
    "\n",
    "3. **`str()` Function:** This function is used to convert a value to a string. example: `str(42)` give in string `'42'`.\n",
    "\n",
    "These functions are useful for type conversion in Python, allowing you to transform values between different data types.\n"
   ]
  },
  {
   "cell_type": "code",
   "execution_count": 13,
   "id": "7588cb19",
   "metadata": {},
   "outputs": [
    {
     "data": {
      "text/plain": [
       "5"
      ]
     },
     "execution_count": 13,
     "metadata": {},
     "output_type": "execute_result"
    }
   ],
   "source": [
    "int(5.7)"
   ]
  },
  {
   "cell_type": "code",
   "execution_count": 15,
   "id": "78efa0f3",
   "metadata": {},
   "outputs": [
    {
     "data": {
      "text/plain": [
       "7.0"
      ]
     },
     "execution_count": 15,
     "metadata": {},
     "output_type": "execute_result"
    }
   ],
   "source": [
    "float (7)"
   ]
  },
  {
   "cell_type": "code",
   "execution_count": 16,
   "id": "4a6d87d4",
   "metadata": {},
   "outputs": [
    {
     "data": {
      "text/plain": [
       "'42'"
      ]
     },
     "execution_count": 16,
     "metadata": {},
     "output_type": "execute_result"
    }
   ],
   "source": [
    "str(42)"
   ]
  },
  {
   "cell_type": "markdown",
   "id": "54389812",
   "metadata": {},
   "source": [
    "## 10.Question\n",
    "\n",
    "Why does this expression cause an error? How can you fix it?\n",
    "\n",
    "```\n",
    "'I have eaten ' + 99 + ' burritos.'\n",
    "```\n",
    "\n",
    "## Answer\n",
    "\n",
    "The expression causes an error because it concatenate a string ('I have eaten ') with an integer (99).\n",
    "\n",
    "To fix it, we need to convert the integer to a string using the str() function:\n",
    "'I have eaten ' + str(99) + ' burritos.'\n",
    "\n",
    "The integer 99 is now converted to the string '99' and below it shows the result."
   ]
  },
  {
   "cell_type": "code",
   "execution_count": 17,
   "id": "aa679b77",
   "metadata": {},
   "outputs": [
    {
     "data": {
      "text/plain": [
       "'I have eaten 99 burritos.'"
      ]
     },
     "execution_count": 17,
     "metadata": {},
     "output_type": "execute_result"
    }
   ],
   "source": [
    "'I have eaten ' + str(99) + ' burritos.'"
   ]
  },
  {
   "cell_type": "code",
   "execution_count": null,
   "id": "dae4fc79",
   "metadata": {},
   "outputs": [],
   "source": []
  }
 ],
 "metadata": {
  "kernelspec": {
   "display_name": "Python 3 (ipykernel)",
   "language": "python",
   "name": "python3"
  },
  "language_info": {
   "codemirror_mode": {
    "name": "ipython",
    "version": 3
   },
   "file_extension": ".py",
   "mimetype": "text/x-python",
   "name": "python",
   "nbconvert_exporter": "python",
   "pygments_lexer": "ipython3",
   "version": "3.9.13"
  }
 },
 "nbformat": 4,
 "nbformat_minor": 5
}
