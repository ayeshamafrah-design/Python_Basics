{
 "cells": [
  {
   "cell_type": "code",
   "execution_count": 15,
   "id": "3a3ff618-7b52-475c-825e-49482354353c",
   "metadata": {},
   "outputs": [
    {
     "name": "stdout",
     "output_type": "stream",
     "text": [
      "Hello Python\n"
     ]
    }
   ],
   "source": [
    "## 1. Write a Python program to print \"Hello Python\".\n",
    "print(\"Hello Python\")\n"
   ]
  },
  {
   "cell_type": "code",
   "execution_count": 16,
   "id": "646722a9-3bcf-4f51-a640-740b07fe729e",
   "metadata": {},
   "outputs": [
    {
     "name": "stdout",
     "output_type": "stream",
     "text": [
      "Addition: 15\n",
      "Division: 2.0\n"
     ]
    }
   ],
   "source": [
    "## 2. Write a Python program to do arithmetical operations addition and division.\n",
    "\n",
    "# Addition\n",
    "num1 = 10\n",
    "num2 = 5\n",
    "addition = num1 + num2\n",
    "print(\"Addition:\", addition)\n",
    "\n",
    "# Division\n",
    "division = num1 / num2\n",
    "print(\"Division:\", division)\n"
   ]
  },
  {
   "cell_type": "code",
   "execution_count": 18,
   "id": "48c13632-7d5c-4d4e-9678-93048148917b",
   "metadata": {},
   "outputs": [
    {
     "name": "stdout",
     "output_type": "stream",
     "text": [
      "Area of the triangle: 25.0\n"
     ]
    }
   ],
   "source": [
    "## 3. Write a Python program to find the area of a triangle.\n",
    "\n",
    "# Base and height of the triangle\n",
    "base = 10\n",
    "height = 5\n",
    "\n",
    "# Calculate the area\n",
    "area = 0.5 * base * height\n",
    "print(\"Area of the triangle:\", area)\n"
   ]
  },
  {
   "cell_type": "code",
   "execution_count": 19,
   "id": "ecb3ee49-0fa6-4304-b145-8bd4ea4504df",
   "metadata": {},
   "outputs": [
    {
     "name": "stdout",
     "output_type": "stream",
     "text": [
      "a: 20\n",
      "b: 10\n"
     ]
    }
   ],
   "source": [
    "## 4. Write a Python program to swap two variables.\n",
    "\n",
    "# Assigning values to variables\n",
    "a = 10\n",
    "b = 20\n",
    "\n",
    "# Swapping the values\n",
    "a, b = b, a\n",
    "\n",
    "# Printing swapped values\n",
    "print(\"a:\", a)\n",
    "print(\"b:\", b)\n"
   ]
  },
  {
   "cell_type": "code",
   "execution_count": 22,
   "id": "d804e367-c200-4cc0-8089-b56cdd7e7baa",
   "metadata": {},
   "outputs": [
    {
     "name": "stdout",
     "output_type": "stream",
     "text": [
      "Random number: 58\n"
     ]
    }
   ],
   "source": [
    "## 5. Write a Python program to generate a random number.\n",
    "\n",
    "import random\n",
    "\n",
    "# Generate a random number between 1 and 100\n",
    "random_number = random.randint(1, 100)\n",
    "print(\"Random number:\", random_number)\n"
   ]
  }
 ],
 "metadata": {
  "kernelspec": {
   "display_name": "Python 3 (ipykernel)",
   "language": "python",
   "name": "python3"
  },
  "language_info": {
   "codemirror_mode": {
    "name": "ipython",
    "version": 3
   },
   "file_extension": ".py",
   "mimetype": "text/x-python",
   "name": "python",
   "nbconvert_exporter": "python",
   "pygments_lexer": "ipython3",
   "version": "3.11.5"
  }
 },
 "nbformat": 4,
 "nbformat_minor": 5
}
