{
 "cells": [
  {
   "cell_type": "code",
   "execution_count": 3,
   "id": "91b74279-a533-4b89-932d-a2158e494c3d",
   "metadata": {},
   "outputs": [
    {
     "name": "stdin",
     "output_type": "stream",
     "text": [
      "Enter a number:  135\n"
     ]
    },
    {
     "name": "stdout",
     "output_type": "stream",
     "text": [
      "135 is a Disarium Number.\n"
     ]
    }
   ],
   "source": [
    "# Program to check if a number is a Disarium Number\n",
    "\n",
    "def is_disarium(number):\n",
    "    digits = list(str(number))\n",
    "    result = sum(int(digits[i]) ** (i + 1) for i in range(len(digits)))\n",
    "    return result == number\n",
    "\n",
    "num = int(input(\"Enter a number: \"))\n",
    "\n",
    "# Check if the number is Disarium\n",
    "if is_disarium(num):\n",
    "    print(f\"{num} is a Disarium Number.\")\n",
    "else:\n",
    "    print(f\"{num} is not a Disarium Number.\")\n"
   ]
  },
  {
   "cell_type": "code",
   "execution_count": 2,
   "id": "a52ead44-45a3-4356-8a0e-c342adacd0c3",
   "metadata": {},
   "outputs": [
    {
     "name": "stdout",
     "output_type": "stream",
     "text": [
      "Disarium numbers between 1 and 100 are:\n",
      "1 2 3 4 5 6 7 8 9 89 "
     ]
    }
   ],
   "source": [
    "# Program to print all Disarium numbers between 1 and 100\n",
    "\n",
    "def is_disarium(number):\n",
    "    digits = list(str(number))\n",
    "    result = sum(int(digits[i]) ** (i + 1) for i in range(len(digits)))\n",
    "    return result == number\n",
    "\n",
    "# Find and print all Disarium numbers between 1 and 100\n",
    "print(\"Disarium numbers between 1 and 100 are:\")\n",
    "for num in range(1, 101):\n",
    "    if is_disarium(num):\n",
    "        print(num, end=\" \")\n"
   ]
  },
  {
   "cell_type": "code",
   "execution_count": 4,
   "id": "390555b9-f9c4-4b56-9941-82034d206a0f",
   "metadata": {},
   "outputs": [
    {
     "name": "stdin",
     "output_type": "stream",
     "text": [
      "Enter a number:  19\n"
     ]
    },
    {
     "name": "stdout",
     "output_type": "stream",
     "text": [
      "19 is a Happy Number.\n"
     ]
    }
   ],
   "source": [
    "# Program to check if a number is a Happy Number\n",
    "\n",
    "def is_happy_number(number):\n",
    "    seen_numbers = set()\n",
    "    while number != 1 and number not in seen_numbers:\n",
    "        seen_numbers.add(number)\n",
    "        number = sum(int(digit) ** 2 for digit in str(number))\n",
    "    return number == 1\n",
    "\n",
    "num = int(input(\"Enter a number: \"))\n",
    "\n",
    "# Check if the number is Happy\n",
    "if is_happy_number(num):\n",
    "    print(f\"{num} is a Happy Number.\")\n",
    "else:\n",
    "    print(f\"{num} is not a Happy Number.\")\n"
   ]
  },
  {
   "cell_type": "code",
   "execution_count": 6,
   "id": "b965f6d7-39b9-4353-a106-dd80549ce13b",
   "metadata": {},
   "outputs": [
    {
     "name": "stdout",
     "output_type": "stream",
     "text": [
      "Happy numbers between 1 and 100 are:\n",
      "1 7 10 13 19 23 28 31 32 44 49 68 70 79 82 86 91 94 97 100 "
     ]
    }
   ],
   "source": [
    "# Program to print all Happy Numbers between 1 and 100\n",
    "\n",
    "def is_happy_number(number):\n",
    "    seen_numbers = set()\n",
    "    while number != 1 and number not in seen_numbers:\n",
    "        seen_numbers.add(number)\n",
    "        number = sum(int(digit) ** 2 for digit in str(number))\n",
    "    return number == 1\n",
    "\n",
    "print(\"Happy numbers between 1 and 100 are:\")\n",
    "for num in range(1, 101):\n",
    "    if is_happy_number(num):\n",
    "        print(num, end=\" \")\n"
   ]
  },
  {
   "cell_type": "code",
   "execution_count": 7,
   "id": "8e792d98-afe3-492a-8864-62e779565f51",
   "metadata": {},
   "outputs": [
    {
     "name": "stdin",
     "output_type": "stream",
     "text": [
      "Enter a number:  18\n"
     ]
    },
    {
     "name": "stdout",
     "output_type": "stream",
     "text": [
      "18 is a Harshad Number.\n"
     ]
    }
   ],
   "source": [
    "# Program to check if a number is a Harshad Number\n",
    "\n",
    "def is_harshad_number(number):\n",
    "    # Find the sum of digits\n",
    "    sum_of_digits = sum(int(digit) for digit in str(number))\n",
    "    # Check if the number is divisible by the sum of its digits\n",
    "    return number % sum_of_digits == 0\n",
    "\n",
    "num = int(input(\"Enter a number: \"))\n",
    "\n",
    "if is_harshad_number(num):\n",
    "    print(f\"{num} is a Harshad Number.\")\n",
    "else:\n",
    "    print(f\"{num} is not a Harshad Number.\")\n"
   ]
  },
  {
   "cell_type": "code",
   "execution_count": 8,
   "id": "575583ef-469e-4c72-b1f2-e9df6501779e",
   "metadata": {},
   "outputs": [
    {
     "name": "stdout",
     "output_type": "stream",
     "text": [
      "Pronic numbers between 1 and 100 are:\n",
      "2 6 12 20 30 42 56 72 90 "
     ]
    }
   ],
   "source": [
    "# Program to print all Pronic Numbers between 1 and 100\n",
    "\n",
    "def is_pronic_number(number):\n",
    "    # Check if the number is a product of two consecutive integers\n",
    "    for i in range(1, int(number**0.5) + 1):\n",
    "        if i * (i + 1) == number:\n",
    "            return True\n",
    "    return False\n",
    "\n",
    "print(\"Pronic numbers between 1 and 100 are:\")\n",
    "for num in range(1, 101):\n",
    "    if is_pronic_number(num):\n",
    "        print(num, end=\" \")\n"
   ]
  },
  {
   "cell_type": "code",
   "execution_count": null,
   "id": "18bb1888-125b-47f9-a625-a636bc8c3acf",
   "metadata": {},
   "outputs": [],
   "source": []
  }
 ],
 "metadata": {
  "kernelspec": {
   "display_name": "Python 3 (ipykernel)",
   "language": "python",
   "name": "python3"
  },
  "language_info": {
   "codemirror_mode": {
    "name": "ipython",
    "version": 3
   },
   "file_extension": ".py",
   "mimetype": "text/x-python",
   "name": "python",
   "nbconvert_exporter": "python",
   "pygments_lexer": "ipython3",
   "version": "3.11.5"
  }
 },
 "nbformat": 4,
 "nbformat_minor": 5
}
